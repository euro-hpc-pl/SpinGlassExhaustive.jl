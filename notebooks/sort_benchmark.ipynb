{
 "cells": [
  {
   "cell_type": "markdown",
   "id": "nutritional-warner",
   "metadata": {},
   "source": [
    "# Setup\n",
    "\n",
    "https://medium.com/swlh/revisiting-quicksort-with-julia-and-cuda-2a997447939b"
   ]
  },
  {
   "cell_type": "code",
   "execution_count": 3,
   "id": "narrative-plaintiff",
   "metadata": {
    "scrolled": true
   },
   "outputs": [],
   "source": [
    "# Pkg.add(\"Plots\")\n",
    "# Pkg.add(\"DataFrames\")\n",
    "# Pkg.add(\"StatsPlots\")\n",
    "# Pkg.add(\"CSV\")"
   ]
  },
  {
   "cell_type": "code",
   "execution_count": 52,
   "id": "clean-holder",
   "metadata": {},
   "outputs": [],
   "source": [
    "using Pkg\n",
    "using Random\n",
    "using SortingAlgorithms\n",
    "using Plots\n",
    "using DataFrames\n",
    "using StatsPlots\n",
    "using CSV\n",
    "using CUDA\n",
    "# using SortingSortingOut\n",
    "using BenchmarkTools\n",
    "using SortingAlgorithms\n",
    "using CUDA"
   ]
  },
  {
   "cell_type": "code",
   "execution_count": 53,
   "id": "fantastic-india",
   "metadata": {},
   "outputs": [
    {
     "name": "stderr",
     "output_type": "stream",
     "text": [
      "\u001b[32m\u001b[1m  Activating\u001b[22m\u001b[39m environment at `~/Workspace/Repo/Code/SpinGlassExhaustive.jl/Project.toml`\n"
     ]
    }
   ],
   "source": [
    "Pkg.activate(\"..\")"
   ]
  },
  {
   "cell_type": "code",
   "execution_count": 54,
   "id": "tired-utility",
   "metadata": {},
   "outputs": [
    {
     "name": "stderr",
     "output_type": "stream",
     "text": [
      "\u001b[32m\u001b[1m    Updating\u001b[22m\u001b[39m registry at `~/.julia/registries/General`\n",
      "\u001b[32m\u001b[1m   Resolving\u001b[22m\u001b[39m package versions...\n",
      "\u001b[32m\u001b[1m  No Changes\u001b[22m\u001b[39m to `~/Workspace/Repo/Code/SpinGlassExhaustive.jl/Project.toml`\n",
      "\u001b[32m\u001b[1m  No Changes\u001b[22m\u001b[39m to `~/Workspace/Repo/Code/SpinGlassExhaustive.jl/Manifest.toml`\n",
      "\u001b[32m\u001b[1mPrecompiling\u001b[22m\u001b[39m project...\n",
      "\u001b[33m  ? \u001b[39m\u001b[90mNearestNeighbors\u001b[39m\n",
      "\u001b[33m  ? \u001b[39m\u001b[90mPaddedViews\u001b[39m\n",
      "\u001b[33m  ? \u001b[39m\u001b[90mDataStructures\u001b[39m\n",
      "\u001b[33m  ? \u001b[39m\u001b[90mDiffResults\u001b[39m\n",
      "\u001b[33m  ? \u001b[39m\u001b[90mStackViews\u001b[39m\n",
      "\u001b[33m  ? \u001b[39m\u001b[90mPrettyTables\u001b[39m\n",
      "\u001b[33m  ? \u001b[39m\u001b[90mContour\u001b[39m\n",
      "\u001b[33m  ? \u001b[39m\u001b[90mChainRulesCore\u001b[39m\n",
      "\u001b[33m  ? \u001b[39mCSV\n",
      "\u001b[33m  ? \u001b[39m\u001b[90mTableOperations\u001b[39m\n",
      "\u001b[33m  ? \u001b[39m\u001b[90mInterpolations\u001b[39m\n",
      "\u001b[33m  ? \u001b[39m\u001b[90mLazyStack\u001b[39m\n",
      "\u001b[33m  ? \u001b[39m\u001b[90mStructArrays\u001b[39m\n",
      "\u001b[33m  ? \u001b[39m\u001b[90mQuadGK\u001b[39m\n",
      "\u001b[33m  ? \u001b[39m\u001b[90mTiffImages\u001b[39m\n",
      "\u001b[33m  ? \u001b[39mSortingAlgorithms\n",
      "\u001b[33m  ? \u001b[39m\u001b[90mGPUCompiler\u001b[39m\n",
      "\u001b[33m  ? \u001b[39m\u001b[90mNNlib\u001b[39m\n",
      "\u001b[33m  ? \u001b[39m\u001b[90mSpecialFunctions\u001b[39m\n",
      "\u001b[33m  ? \u001b[39m\u001b[90mChainRules\u001b[39m\n",
      "\u001b[33m  ? \u001b[39m\u001b[90mTensorCast\u001b[39m\n",
      "\u001b[33m  ? \u001b[39m\u001b[90mColorSchemes\u001b[39m\n",
      "\u001b[33m  ? \u001b[39m\u001b[90mlibass_jll\u001b[39m\n",
      "\u001b[33m  ? \u001b[39m\u001b[90mGeometryBasics\u001b[39m\n",
      "\u001b[33m  ? \u001b[39m\u001b[90mStatsBase\u001b[39m\n",
      "\u001b[33m  ? \u001b[39mCUDA\n",
      "\u001b[33m  ? \u001b[39m\u001b[90mStatsFuns\u001b[39m\n",
      "\u001b[33m  ? \u001b[39mDataFrames\n",
      "\u001b[33m  ? \u001b[39m\u001b[90mPlotUtils\u001b[39m\n",
      "\u001b[33m  ? \u001b[39m\u001b[90mGridLayoutBase\u001b[39m\n",
      "\u001b[33m  ? \u001b[39m\u001b[90mPacking\u001b[39m\n",
      "\u001b[33m  ? \u001b[39m\u001b[90mShaderAbstractions\u001b[39m\n",
      "\u001b[33m  ? \u001b[39m\u001b[90mMeshIO\u001b[39m\n",
      "\u001b[33m  ? \u001b[39m\u001b[90mMosaicViews\u001b[39m\n",
      "\u001b[33m  ? \u001b[39m\u001b[90mMultivariateStats\u001b[39m\n",
      "\u001b[33m  ? \u001b[39mDistributions\n",
      "\u001b[33m  ? \u001b[39mBinomialGPU\n",
      "\u001b[33m  ? \u001b[39m\u001b[90mClustering\u001b[39m\n",
      "\u001b[33m  ? \u001b[39m\u001b[90mPlotThemes\u001b[39m\n",
      "\u001b[33m  ? \u001b[39m\u001b[90mRecipesPipeline\u001b[39m\n",
      "\u001b[33m  ? \u001b[39m\u001b[90mForwardDiff\u001b[39m\n",
      "\u001b[33m  ? \u001b[39m\u001b[90mFFMPEG_jll\u001b[39m\n",
      "\u001b[33m  ? \u001b[39m\u001b[90mKernelDensity\u001b[39m\n",
      "\u001b[33m  ? \u001b[39m\u001b[90mColorVectorSpace\u001b[39m\n",
      "\u001b[33m  ? \u001b[39m\u001b[90mFFMPEG\u001b[39m\n",
      "\u001b[33m  ? \u001b[39m\u001b[90mFreeTypeAbstraction\u001b[39m\n",
      "\u001b[33m  ? \u001b[39m\u001b[90mQuantumInformation\u001b[39m\n",
      "\u001b[33m  ? \u001b[39m\u001b[90mZygote\u001b[39m\n",
      "\u001b[33m  ? \u001b[39m\u001b[90mGR_jll\u001b[39m\n",
      "\u001b[33m  ? \u001b[39mPlots\n",
      "\u001b[33m  ? \u001b[39mStatsPlots\n",
      "\u001b[33m  ? \u001b[39m\u001b[90mImageCore\u001b[39m\n",
      "\u001b[33m  ? \u001b[39mFlux\n",
      "\u001b[33m  ? \u001b[39m\u001b[90mNetpbm\u001b[39m\n",
      "\u001b[33m  ? \u001b[39mCuQuantumInformation\n",
      "\u001b[33m  ? \u001b[39m\u001b[90mPNGFiles\u001b[39m\n",
      "\u001b[33m  ? \u001b[39mAbstractPlotting\n",
      "\u001b[33m  ? \u001b[39m\u001b[90mGLMakie\u001b[39m\n",
      "\u001b[33m  ? \u001b[39mMakie\n",
      "\u001b[32m\u001b[1m   Resolving\u001b[22m\u001b[39m package versions...\n",
      "\u001b[32m\u001b[1m  No Changes\u001b[22m\u001b[39m to `~/Workspace/Repo/Code/SpinGlassExhaustive.jl/Project.toml`\n",
      "\u001b[32m\u001b[1m  No Changes\u001b[22m\u001b[39m to `~/Workspace/Repo/Code/SpinGlassExhaustive.jl/Manifest.toml`\n",
      "\u001b[32m\u001b[1mPrecompiling\u001b[22m\u001b[39m project...\n",
      "\u001b[33m  ? \u001b[39m\u001b[90mChainRulesCore\u001b[39m\n",
      "\u001b[33m  ? \u001b[39m\u001b[90mStackViews\u001b[39m\n",
      "\u001b[33m  ? \u001b[39m\u001b[90mContour\u001b[39m\n",
      "\u001b[33m  ? \u001b[39m\u001b[90mDataStructures\u001b[39m\n",
      "\u001b[33m  ? \u001b[39m\u001b[90mPrettyTables\u001b[39m\n",
      "\u001b[33m  ? \u001b[39m\u001b[90mDiffResults\u001b[39m\n",
      "\u001b[33m  ? \u001b[39m\u001b[90mTableOperations\u001b[39m\n",
      "\u001b[33m  ? \u001b[39m\u001b[90mPaddedViews\u001b[39m\n",
      "\u001b[33m  ? \u001b[39mCSV\n",
      "\u001b[33m  ? \u001b[39m\u001b[90mLazyStack\u001b[39m\n",
      "\u001b[33m  ? \u001b[39m\u001b[90mInterpolations\u001b[39m\n",
      "\u001b[33m  ? \u001b[39m\u001b[90mNearestNeighbors\u001b[39m\n",
      "\u001b[33m  ? \u001b[39m\u001b[90mStructArrays\u001b[39m\n",
      "\u001b[33m  ? \u001b[39m\u001b[90mGPUCompiler\u001b[39m\n",
      "\u001b[33m  ? \u001b[39m\u001b[90mTiffImages\u001b[39m\n",
      "\u001b[33m  ? \u001b[39m\u001b[90mNNlib\u001b[39m\n",
      "\u001b[33m  ? \u001b[39m\u001b[90mSpecialFunctions\u001b[39m\n",
      "\u001b[33m  ? \u001b[39m\u001b[90mChainRules\u001b[39m\n",
      "\u001b[33m  ? \u001b[39m\u001b[90mQuadGK\u001b[39m\n",
      "\u001b[33m  ? \u001b[39mSortingAlgorithms\n",
      "\u001b[33m  ? \u001b[39m\u001b[90mColorSchemes\u001b[39m\n",
      "\u001b[33m  ? \u001b[39m\u001b[90mTensorCast\u001b[39m\n",
      "\u001b[33m  ? \u001b[39m\u001b[90mlibass_jll\u001b[39m\n",
      "\u001b[33m  ? \u001b[39m\u001b[90mGeometryBasics\u001b[39m\n",
      "\u001b[33m  ? \u001b[39m\u001b[90mStatsFuns\u001b[39m\n",
      "\u001b[33m  ? \u001b[39mCUDA\n",
      "\u001b[33m  ? \u001b[39mDataFrames\n",
      "\u001b[33m  ? \u001b[39m\u001b[90mPlotUtils\u001b[39m\n",
      "\u001b[33m  ? \u001b[39m\u001b[90mStatsBase\u001b[39m\n",
      "\u001b[33m  ? \u001b[39m\u001b[90mMeshIO\u001b[39m\n",
      "\u001b[33m  ? \u001b[39m\u001b[90mShaderAbstractions\u001b[39m\n",
      "\u001b[33m  ? \u001b[39m\u001b[90mMosaicViews\u001b[39m\n",
      "\u001b[33m  ? \u001b[39m\u001b[90mPacking\u001b[39m\n",
      "\u001b[33m  ? \u001b[39m\u001b[90mGridLayoutBase\u001b[39m\n",
      "\u001b[33m  ? \u001b[39mBinomialGPU\n",
      "\u001b[33m  ? \u001b[39m\u001b[90mPlotThemes\u001b[39m\n",
      "\u001b[33m  ? \u001b[39m\u001b[90mClustering\u001b[39m\n",
      "\u001b[33m  ? \u001b[39mDistributions\n",
      "\u001b[33m  ? \u001b[39m\u001b[90mMultivariateStats\u001b[39m\n",
      "\u001b[33m  ? \u001b[39m\u001b[90mRecipesPipeline\u001b[39m\n",
      "\u001b[33m  ? \u001b[39m\u001b[90mForwardDiff\u001b[39m\n",
      "\u001b[33m  ? \u001b[39m\u001b[90mFFMPEG_jll\u001b[39m\n",
      "\u001b[33m  ? \u001b[39m\u001b[90mKernelDensity\u001b[39m\n",
      "\u001b[33m  ? \u001b[39m\u001b[90mColorVectorSpace\u001b[39m\n",
      "\u001b[33m  ? \u001b[39m\u001b[90mFFMPEG\u001b[39m\n",
      "\u001b[33m  ? \u001b[39m\u001b[90mFreeTypeAbstraction\u001b[39m\n",
      "\u001b[33m  ? \u001b[39m\u001b[90mQuantumInformation\u001b[39m\n",
      "\u001b[33m  ? \u001b[39m\u001b[90mZygote\u001b[39m\n",
      "\u001b[33m  ? \u001b[39m\u001b[90mGR_jll\u001b[39m\n",
      "\u001b[33m  ? \u001b[39mPlots\n",
      "\u001b[33m  ? \u001b[39mStatsPlots\n",
      "\u001b[33m  ? \u001b[39m\u001b[90mImageCore\u001b[39m\n",
      "\u001b[33m  ? \u001b[39mFlux\n",
      "\u001b[33m  ? \u001b[39m\u001b[90mNetpbm\u001b[39m\n",
      "\u001b[33m  ? \u001b[39mCuQuantumInformation\n",
      "\u001b[33m  ? \u001b[39m\u001b[90mPNGFiles\u001b[39m\n",
      "\u001b[33m  ? \u001b[39mAbstractPlotting\n",
      "\u001b[33m  ? \u001b[39m\u001b[90mGLMakie\u001b[39m\n",
      "\u001b[33m  ? \u001b[39mMakie\n",
      "\u001b[32m\u001b[1m   Resolving\u001b[22m\u001b[39m package versions...\n",
      "\u001b[32m\u001b[1m  No Changes\u001b[22m\u001b[39m to `~/Workspace/Repo/Code/SpinGlassExhaustive.jl/Project.toml`\n",
      "\u001b[32m\u001b[1m  No Changes\u001b[22m\u001b[39m to `~/Workspace/Repo/Code/SpinGlassExhaustive.jl/Manifest.toml`\n",
      "\u001b[32m\u001b[1mPrecompiling\u001b[22m\u001b[39m project...\n",
      "\u001b[33m  ? \u001b[39m\u001b[90mChainRulesCore\u001b[39m\n",
      "\u001b[33m  ? \u001b[39m\u001b[90mPaddedViews\u001b[39m\n",
      "\u001b[33m  ? \u001b[39m\u001b[90mDiffResults\u001b[39m\n",
      "\u001b[33m  ? \u001b[39m\u001b[90mStackViews\u001b[39m\n",
      "\u001b[33m  ? \u001b[39m\u001b[90mDataStructures\u001b[39m\n",
      "\u001b[33m  ? \u001b[39m\u001b[90mInterpolations\u001b[39m\n",
      "\u001b[33m  ? \u001b[39m\u001b[90mLazyStack\u001b[39m\n",
      "\u001b[33m  ? \u001b[39m\u001b[90mTableOperations\u001b[39m\n",
      "\u001b[33m  ? \u001b[39m\u001b[90mPrettyTables\u001b[39m\n",
      "\u001b[33m  ? \u001b[39m\u001b[90mNearestNeighbors\u001b[39m\n",
      "\u001b[33m  ? \u001b[39mCSV\n",
      "\u001b[33m  ? \u001b[39m\u001b[90mContour\u001b[39m\n",
      "\u001b[33m  ? \u001b[39m\u001b[90mStructArrays\u001b[39m\n",
      "\u001b[33m  ? \u001b[39m\u001b[90mTiffImages\u001b[39m\n",
      "\u001b[33m  ? \u001b[39m\u001b[90mNNlib\u001b[39m\n",
      "\u001b[33m  ? \u001b[39m\u001b[90mSpecialFunctions\u001b[39m\n",
      "\u001b[33m  ? \u001b[39m\u001b[90mQuadGK\u001b[39m\n",
      "\u001b[33m  ? \u001b[39m\u001b[90mChainRules\u001b[39m\n",
      "\u001b[33m  ? \u001b[39mSortingAlgorithms\n",
      "\u001b[33m  ? \u001b[39m\u001b[90mTensorCast\u001b[39m\n",
      "\u001b[33m  ? \u001b[39m\u001b[90mGPUCompiler\u001b[39m\n",
      "\u001b[33m  ? \u001b[39m\u001b[90mGeometryBasics\u001b[39m\n",
      "\u001b[33m  ? \u001b[39m\u001b[90mlibass_jll\u001b[39m\n",
      "\u001b[33m  ? \u001b[39m\u001b[90mColorSchemes\u001b[39m\n",
      "\u001b[33m  ? \u001b[39m\u001b[90mStatsFuns\u001b[39m\n",
      "\u001b[33m  ? \u001b[39m\u001b[90mStatsBase\u001b[39m\n",
      "\u001b[33m  ? \u001b[39m\u001b[90mGridLayoutBase\u001b[39m\n",
      "\u001b[33m  ? \u001b[39mDataFrames\n",
      "\u001b[33m  ? \u001b[39mCUDA\n",
      "\u001b[33m  ? \u001b[39m\u001b[90mMeshIO\u001b[39m\n",
      "\u001b[33m  ? \u001b[39m\u001b[90mPacking\u001b[39m\n",
      "\u001b[33m  ? \u001b[39m\u001b[90mShaderAbstractions\u001b[39m\n",
      "\u001b[33m  ? \u001b[39m\u001b[90mPlotUtils\u001b[39m\n",
      "\u001b[33m  ? \u001b[39m\u001b[90mMosaicViews\u001b[39m\n",
      "\u001b[33m  ? \u001b[39m\u001b[90mClustering\u001b[39m\n",
      "\u001b[33m  ? \u001b[39m\u001b[90mMultivariateStats\u001b[39m\n",
      "\u001b[33m  ? \u001b[39mDistributions\n",
      "\u001b[33m  ? \u001b[39mBinomialGPU\n",
      "\u001b[33m  ? \u001b[39m\u001b[90mPlotThemes\u001b[39m\n",
      "\u001b[33m  ? \u001b[39m\u001b[90mForwardDiff\u001b[39m\n",
      "\u001b[33m  ? \u001b[39m\u001b[90mRecipesPipeline\u001b[39m\n",
      "\u001b[33m  ? \u001b[39m\u001b[90mFFMPEG_jll\u001b[39m\n",
      "\u001b[33m  ? \u001b[39m\u001b[90mKernelDensity\u001b[39m\n",
      "\u001b[33m  ? \u001b[39m\u001b[90mColorVectorSpace\u001b[39m\n",
      "\u001b[33m  ? \u001b[39m\u001b[90mFFMPEG\u001b[39m\n",
      "\u001b[33m  ? \u001b[39m\u001b[90mFreeTypeAbstraction\u001b[39m\n",
      "\u001b[33m  ? \u001b[39m\u001b[90mQuantumInformation\u001b[39m\n",
      "\u001b[33m  ? \u001b[39m\u001b[90mZygote\u001b[39m\n",
      "\u001b[33m  ? \u001b[39m\u001b[90mGR_jll\u001b[39m\n",
      "\u001b[33m  ? \u001b[39mPlots\n",
      "\u001b[33m  ? \u001b[39mStatsPlots\n",
      "\u001b[33m  ? \u001b[39m\u001b[90mImageCore\u001b[39m\n",
      "\u001b[33m  ? \u001b[39mFlux\n",
      "\u001b[33m  ? \u001b[39m\u001b[90mNetpbm\u001b[39m\n",
      "\u001b[33m  ? \u001b[39mCuQuantumInformation\n",
      "\u001b[33m  ? \u001b[39m\u001b[90mPNGFiles\u001b[39m\n",
      "\u001b[33m  ? \u001b[39mAbstractPlotting\n",
      "\u001b[33m  ? \u001b[39m\u001b[90mGLMakie\u001b[39m\n",
      "\u001b[33m  ? \u001b[39mMakie\n",
      "\u001b[32m\u001b[1m   Resolving\u001b[22m\u001b[39m package versions...\n",
      "\u001b[32m\u001b[1m  No Changes\u001b[22m\u001b[39m to `~/Workspace/Repo/Code/SpinGlassExhaustive.jl/Project.toml`\n",
      "\u001b[32m\u001b[1m  No Changes\u001b[22m\u001b[39m to `~/Workspace/Repo/Code/SpinGlassExhaustive.jl/Manifest.toml`\n",
      "\u001b[32m\u001b[1mPrecompiling\u001b[22m\u001b[39m project...\n",
      "\u001b[33m  ? \u001b[39m\u001b[90mChainRulesCore\u001b[39m\n",
      "\u001b[33m  ? \u001b[39m\u001b[90mDataStructures\u001b[39m\n",
      "\u001b[33m  ? \u001b[39m\u001b[90mNearestNeighbors\u001b[39m\n",
      "\u001b[33m  ? \u001b[39m\u001b[90mDiffResults\u001b[39m\n",
      "\u001b[33m  ? \u001b[39m\u001b[90mPaddedViews\u001b[39m\n",
      "\u001b[33m  ? \u001b[39m\u001b[90mContour\u001b[39m\n",
      "\u001b[33m  ? \u001b[39m\u001b[90mInterpolations\u001b[39m\n",
      "\u001b[33m  ? \u001b[39m\u001b[90mPrettyTables\u001b[39m\n",
      "\u001b[33m  ? \u001b[39m\u001b[90mStackViews\u001b[39m\n",
      "\u001b[33m  ? \u001b[39mCSV\n",
      "\u001b[33m  ? \u001b[39m\u001b[90mLazyStack\u001b[39m\n",
      "\u001b[33m  ? \u001b[39m\u001b[90mTableOperations\u001b[39m\n",
      "\u001b[33m  ? \u001b[39m\u001b[90mStructArrays\u001b[39m\n",
      "\u001b[33m  ? \u001b[39m\u001b[90mChainRules\u001b[39m\n",
      "\u001b[33m  ? \u001b[39m\u001b[90mNNlib\u001b[39m\n",
      "\u001b[33m  ? \u001b[39m\u001b[90mSpecialFunctions\u001b[39m\n",
      "\u001b[33m  ? \u001b[39m\u001b[90mQuadGK\u001b[39m\n",
      "\u001b[33m  ? \u001b[39m\u001b[90mGPUCompiler\u001b[39m\n",
      "\u001b[33m  ? \u001b[39mSortingAlgorithms\n",
      "\u001b[33m  ? \u001b[39m\u001b[90mTiffImages\u001b[39m\n",
      "\u001b[33m  ? \u001b[39m\u001b[90mlibass_jll\u001b[39m\n",
      "\u001b[33m  ? \u001b[39m\u001b[90mColorSchemes\u001b[39m\n",
      "\u001b[33m  ? \u001b[39m\u001b[90mTensorCast\u001b[39m\n",
      "\u001b[33m  ? \u001b[39m\u001b[90mGeometryBasics\u001b[39m\n",
      "\u001b[33m  ? \u001b[39m\u001b[90mStatsFuns\u001b[39m\n",
      "\u001b[33m  ? \u001b[39mCUDA\n",
      "\u001b[33m  ? \u001b[39m\u001b[90mStatsBase\u001b[39m\n",
      "\u001b[33m  ? \u001b[39mDataFrames\n",
      "\u001b[33m  ? \u001b[39m\u001b[90mPlotUtils\u001b[39m\n",
      "\u001b[33m  ? \u001b[39m\u001b[90mMeshIO\u001b[39m\n",
      "\u001b[33m  ? \u001b[39m\u001b[90mPacking\u001b[39m\n"
     ]
    },
    {
     "name": "stderr",
     "output_type": "stream",
     "text": [
      "\u001b[33m  ? \u001b[39m\u001b[90mGridLayoutBase\u001b[39m\n",
      "\u001b[33m  ? \u001b[39m\u001b[90mMosaicViews\u001b[39m\n",
      "\u001b[33m  ? \u001b[39m\u001b[90mShaderAbstractions\u001b[39m\n",
      "\u001b[33m  ? \u001b[39mBinomialGPU\n",
      "\u001b[33m  ? \u001b[39m\u001b[90mClustering\u001b[39m\n",
      "\u001b[33m  ? \u001b[39mDistributions\n",
      "\u001b[33m  ? \u001b[39m\u001b[90mMultivariateStats\u001b[39m\n",
      "\u001b[33m  ? \u001b[39m\u001b[90mPlotThemes\u001b[39m\n",
      "\u001b[33m  ? \u001b[39m\u001b[90mRecipesPipeline\u001b[39m\n",
      "\u001b[33m  ? \u001b[39m\u001b[90mForwardDiff\u001b[39m\n",
      "\u001b[33m  ? \u001b[39m\u001b[90mFFMPEG_jll\u001b[39m\n",
      "\u001b[33m  ? \u001b[39m\u001b[90mKernelDensity\u001b[39m\n",
      "\u001b[33m  ? \u001b[39m\u001b[90mColorVectorSpace\u001b[39m\n",
      "\u001b[33m  ? \u001b[39m\u001b[90mFFMPEG\u001b[39m\n",
      "\u001b[33m  ? \u001b[39m\u001b[90mFreeTypeAbstraction\u001b[39m\n",
      "\u001b[33m  ? \u001b[39m\u001b[90mQuantumInformation\u001b[39m\n",
      "\u001b[33m  ? \u001b[39m\u001b[90mGR_jll\u001b[39m\n",
      "\u001b[33m  ? \u001b[39m\u001b[90mZygote\u001b[39m\n",
      "\u001b[33m  ? \u001b[39mPlots\n",
      "\u001b[33m  ? \u001b[39mStatsPlots\n",
      "\u001b[33m  ? \u001b[39m\u001b[90mImageCore\u001b[39m\n",
      "\u001b[33m  ? \u001b[39mFlux\n",
      "\u001b[33m  ? \u001b[39m\u001b[90mNetpbm\u001b[39m\n",
      "\u001b[33m  ? \u001b[39mCuQuantumInformation\n",
      "\u001b[33m  ? \u001b[39m\u001b[90mPNGFiles\u001b[39m\n",
      "\u001b[33m  ? \u001b[39mAbstractPlotting\n",
      "\u001b[33m  ? \u001b[39m\u001b[90mGLMakie\u001b[39m\n",
      "\u001b[33m  ? \u001b[39mMakie\n"
     ]
    }
   ],
   "source": [
    "# Pkg.add(\"SortingSortingOut\")\n",
    "Pkg.add(\"BenchmarkTools\")\n",
    "Pkg.add(\"CUDA\")\n",
    "Pkg.add(\"AbstractPlotting\")\n",
    "Pkg.add(\"Makie\")"
   ]
  },
  {
   "cell_type": "code",
   "execution_count": 3,
   "id": "ambient-copying",
   "metadata": {},
   "outputs": [],
   "source": []
  },
  {
   "cell_type": "markdown",
   "id": "determined-violence",
   "metadata": {},
   "source": [
    "# Benchmark"
   ]
  },
  {
   "cell_type": "code",
   "execution_count": 62,
   "id": "enhanced-tanzania",
   "metadata": {},
   "outputs": [
    {
     "data": {
      "text/plain": [
       "67108864"
      ]
     },
     "execution_count": 62,
     "metadata": {},
     "output_type": "execute_result"
    }
   ],
   "source": [
    "Random.seed!(1234)\n",
    "n = 2^26"
   ]
  },
  {
   "cell_type": "code",
   "execution_count": 7,
   "id": "meaningful-louisiana",
   "metadata": {
    "scrolled": true
   },
   "outputs": [
    {
     "data": {
      "text/plain": [
       "BenchmarkTools.Trial: \n",
       "  memory estimate:  0 bytes\n",
       "  allocs estimate:  0\n",
       "  --------------\n",
       "  minimum time:     881.111 ms (0.00% GC)\n",
       "  median time:      890.479 ms (0.00% GC)\n",
       "  mean time:        897.694 ms (0.00% GC)\n",
       "  maximum time:     920.161 ms (0.00% GC)\n",
       "  --------------\n",
       "  samples:          6\n",
       "  evals/sample:     1"
      ]
     },
     "execution_count": 7,
     "metadata": {},
     "output_type": "execute_result"
    }
   ],
   "source": [
    "sort_arr = rand(Float32, n);\n",
    "@benchmark sort!(arr; alg=QuickSort) setup=(arr=sort_arr)"
   ]
  },
  {
   "cell_type": "code",
   "execution_count": 140,
   "id": "indie-charity",
   "metadata": {},
   "outputs": [
    {
     "data": {
      "text/plain": [
       "BenchmarkTools.Trial: \n",
       "  memory estimate:  128.00 MiB\n",
       "  allocs estimate:  3\n",
       "  --------------\n",
       "  minimum time:     1.299 s (0.00% GC)\n",
       "  median time:      1.310 s (0.00% GC)\n",
       "  mean time:        1.318 s (0.00% GC)\n",
       "  maximum time:     1.352 s (0.00% GC)\n",
       "  --------------\n",
       "  samples:          4\n",
       "  evals/sample:     1"
      ]
     },
     "execution_count": 140,
     "metadata": {},
     "output_type": "execute_result"
    }
   ],
   "source": [
    "sort_arr = rand(Float32, n);\n",
    "@benchmark sort!(arr; alg=MergeSort) setup=(arr=sort_arr)"
   ]
  },
  {
   "cell_type": "code",
   "execution_count": 141,
   "id": "incorporated-sphere",
   "metadata": {},
   "outputs": [
    {
     "data": {
      "text/plain": [
       "BenchmarkTools.Trial: \n",
       "  memory estimate:  256.09 MiB\n",
       "  allocs estimate:  10\n",
       "  --------------\n",
       "  minimum time:     670.800 ms (0.00% GC)\n",
       "  median time:      698.060 ms (0.00% GC)\n",
       "  mean time:        696.101 ms (1.22% GC)\n",
       "  maximum time:     721.420 ms (4.50% GC)\n",
       "  --------------\n",
       "  samples:          8\n",
       "  evals/sample:     1"
      ]
     },
     "execution_count": 141,
     "metadata": {},
     "output_type": "execute_result"
    }
   ],
   "source": [
    "sort_arr = rand(Float32, n);\n",
    "@benchmark sort!(arr; alg=RadixSort) setup=(arr=sort_arr)"
   ]
  },
  {
   "cell_type": "code",
   "execution_count": null,
   "id": "global-latex",
   "metadata": {},
   "outputs": [],
   "source": [
    "# sort_arr = rand(Float32, n);\n",
    "# @benchmark sort!(arr; alg=InsertionSort) setup=(arr=sort_arr)"
   ]
  },
  {
   "cell_type": "code",
   "execution_count": 63,
   "id": "convertible-hamburg",
   "metadata": {},
   "outputs": [
    {
     "data": {
      "text/plain": [
       "BenchmarkTools.Trial: \n",
       "  memory estimate:  395.30 KiB\n",
       "  allocs estimate:  10907\n",
       "  --------------\n",
       "  minimum time:     291.616 ms (0.00% GC)\n",
       "  median time:      292.840 ms (0.00% GC)\n",
       "  mean time:        292.788 ms (0.00% GC)\n",
       "  maximum time:     293.252 ms (0.00% GC)\n",
       "  --------------\n",
       "  samples:          18\n",
       "  evals/sample:     1"
      ]
     },
     "execution_count": 63,
     "metadata": {},
     "output_type": "execute_result"
    }
   ],
   "source": [
    "shared = rand(Float32, n)\n",
    "cushared = cu(shared)\n",
    "\n",
    "@benchmark bitonicsort!(cushared)"
   ]
  },
  {
   "cell_type": "code",
   "execution_count": 67,
   "id": "bearing-field",
   "metadata": {},
   "outputs": [
    {
     "data": {
      "text/plain": [
       "BenchmarkTools.Trial: \n",
       "  memory estimate:  1.50 GiB\n",
       "  allocs estimate:  2876\n",
       "  --------------\n",
       "  minimum time:     800.681 ms (3.53% GC)\n",
       "  median time:      883.432 ms (8.68% GC)\n",
       "  mean time:        895.753 ms (8.40% GC)\n",
       "  maximum time:     976.530 ms (10.82% GC)\n",
       "  --------------\n",
       "  samples:          6\n",
       "  evals/sample:     1"
      ]
     },
     "execution_count": 67,
     "metadata": {},
     "output_type": "execute_result"
    }
   ],
   "source": [
    "shared = rand(Float32, n)\n",
    "cushared = cu(shared)\n",
    "\n",
    "@benchmark bitonicsort2!(cushared)"
   ]
  },
  {
   "cell_type": "code",
   "execution_count": null,
   "id": "mounted-indian",
   "metadata": {},
   "outputs": [],
   "source": [
    "shared = rand(Float32, n)\n",
    "cushared = cu(shared)\n",
    "\n",
    "@benchmark mergesort!(cushared)"
   ]
  },
  {
   "cell_type": "code",
   "execution_count": 60,
   "id": "vietnamese-trigger",
   "metadata": {},
   "outputs": [
    {
     "data": {
      "text/plain": [
       "BenchmarkTools.Trial: \n",
       "  memory estimate:  48 bytes\n",
       "  allocs estimate:  1\n",
       "  --------------\n",
       "  minimum time:     744.011 ms (0.00% GC)\n",
       "  median time:      1.111 s (0.00% GC)\n",
       "  mean time:        1.149 s (0.00% GC)\n",
       "  maximum time:     1.514 s (0.00% GC)\n",
       "  --------------\n",
       "  samples:          5\n",
       "  evals/sample:     1"
      ]
     },
     "execution_count": 60,
     "metadata": {},
     "output_type": "execute_result"
    }
   ],
   "source": [
    "arr = rand(Float32, n)\n",
    "@benchmark partialsort!(arr, 1:10)"
   ]
  },
  {
   "cell_type": "code",
   "execution_count": 59,
   "id": "greek-meditation",
   "metadata": {},
   "outputs": [
    {
     "name": "stdout",
     "output_type": "stream",
     "text": [
      "ERROR: Out of dynamic GPU memory (trying to allocate 8 bytes)\n",
      "ERROR: a exception was thrown during kernel execution.\n",
      "       Run Julia on debug level 2 for device stack traces.\n"
     ]
    },
    {
     "ename": "LoadError",
     "evalue": "KernelException: exception thrown during kernel execution on device NVIDIA GeForce RTX 2080 Ti",
     "output_type": "error",
     "traceback": [
      "KernelException: exception thrown during kernel execution on device NVIDIA GeForce RTX 2080 Ti",
      "",
      "Stacktrace:",
      "  [1] check_exceptions()",
      "    @ CUDA ~/.julia/packages/CUDA/M4jkK/src/compiler/exceptions.jl:37",
      "  [2] prepare_cuda_call()",
      "    @ CUDA ~/.julia/packages/CUDA/M4jkK/src/state.jl:85",
      "  [3] initialize_api()",
      "    @ CUDA ~/.julia/packages/CUDA/M4jkK/lib/cudadrv/error.jl:92",
      "  [4] macro expansion",
      "    @ ~/.julia/packages/CUDA/M4jkK/lib/cudadrv/libcuda.jl:1066 [inlined]",
      "  [5] macro expansion",
      "    @ ~/.julia/packages/CUDA/M4jkK/lib/cudadrv/error.jl:102 [inlined]",
      "  [6] cuEventCreate",
      "    @ ~/.julia/packages/CUDA/M4jkK/lib/utils/call.jl:26 [inlined]",
      "  [7] CuEvent(flags::UInt32)",
      "    @ CUDA ~/.julia/packages/CUDA/M4jkK/lib/cudadrv/events.jl:19",
      "  [8] macro expansion",
      "    @ ~/.julia/packages/CUDA/M4jkK/src/utilities.jl:34 [inlined]",
      "  [9] var\"##core#509\"()",
      "    @ Main ~/.julia/packages/BenchmarkTools/ms0Xc/src/execution.jl:479",
      " [10] var\"##sample#510\"(__params::BenchmarkTools.Parameters)",
      "    @ Main ~/.julia/packages/BenchmarkTools/ms0Xc/src/execution.jl:485",
      " [11] _run(b::BenchmarkTools.Benchmark, p::BenchmarkTools.Parameters; verbose::Bool, pad::String, kwargs::Base.Iterators.Pairs{Symbol, Integer, NTuple{4, Symbol}, NamedTuple{(:samples, :evals, :gctrial, :gcsample), Tuple{Int64, Int64, Bool, Bool}}})",
      "    @ BenchmarkTools ~/.julia/packages/BenchmarkTools/ms0Xc/src/execution.jl:98",
      " [12] #invokelatest#2",
      "    @ ./essentials.jl:710 [inlined]",
      " [13] #run_result#38",
      "    @ ~/.julia/packages/BenchmarkTools/ms0Xc/src/execution.jl:33 [inlined]",
      " [14] run(b::BenchmarkTools.Benchmark, p::BenchmarkTools.Parameters; progressid::Nothing, nleaves::Float64, ndone::Float64, kwargs::Base.Iterators.Pairs{Symbol, Integer, NTuple{5, Symbol}, NamedTuple{(:verbose, :samples, :evals, :gctrial, :gcsample), Tuple{Bool, Int64, Int64, Bool, Bool}}})",
      "    @ BenchmarkTools ~/.julia/packages/BenchmarkTools/ms0Xc/src/execution.jl:116",
      " [15] #warmup#47",
      "    @ ~/.julia/packages/BenchmarkTools/ms0Xc/src/execution.jl:168 [inlined]",
      " [16] tune!(b::BenchmarkTools.Benchmark, p::BenchmarkTools.Parameters; progressid::Nothing, nleaves::Float64, ndone::Float64, verbose::Bool, pad::String, kwargs::Base.Iterators.Pairs{Union{}, Union{}, Tuple{}, NamedTuple{(), Tuple{}}})",
      "    @ BenchmarkTools ~/.julia/packages/BenchmarkTools/ms0Xc/src/execution.jl:249",
      " [17] tune! (repeats 2 times)",
      "    @ ~/.julia/packages/BenchmarkTools/ms0Xc/src/execution.jl:249 [inlined]",
      " [18] top-level scope",
      "    @ ~/.julia/packages/BenchmarkTools/ms0Xc/src/execution.jl:388",
      " [19] eval",
      "    @ ./boot.jl:360 [inlined]",
      " [20] include_string(mapexpr::typeof(REPL.softscope), mod::Module, code::String, filename::String)",
      "    @ Base ./loading.jl:1094"
     ]
    }
   ],
   "source": [
    "shared = rand(Float32, 2^25)\n",
    "cushared = CuArray(shared)\n",
    "\n",
    "@benchmark CUDA.@sync(sort!(cushared))\n",
    "# @benchmark sort!(cushared)"
   ]
  },
  {
   "cell_type": "code",
   "execution_count": 13,
   "id": "stopped-sitting",
   "metadata": {},
   "outputs": [
    {
     "name": "stdout",
     "output_type": "stream",
     "text": [
      "ERROR: a CUDA error was thrown during kernel execution: invalid configuration argument (code 9, cudaErrorInvalidConfiguration)\n",
      "ERROR: a exception was thrown during kernel execution.\n",
      "       Run Julia on debug level 2 for device stack traces.\n"
     ]
    },
    {
     "ename": "LoadError",
     "evalue": "KernelException: exception thrown during kernel execution on device NVIDIA GeForce RTX 2080 Ti",
     "output_type": "error",
     "traceback": [
      "KernelException: exception thrown during kernel execution on device NVIDIA GeForce RTX 2080 Ti",
      "",
      "Stacktrace:",
      "  [1] check_exceptions()",
      "    @ CUDA ~/.julia/packages/CUDA/M4jkK/src/compiler/exceptions.jl:37",
      "  [2] prepare_cuda_call()",
      "    @ CUDA ~/.julia/packages/CUDA/M4jkK/src/state.jl:85",
      "  [3] initialize_api()",
      "    @ CUDA ~/.julia/packages/CUDA/M4jkK/lib/cudadrv/error.jl:92",
      "  [4] macro expansion",
      "    @ ~/.julia/packages/CUDA/M4jkK/lib/cudadrv/libcuda.jl:1066 [inlined]",
      "  [5] macro expansion",
      "    @ ~/.julia/packages/CUDA/M4jkK/lib/cudadrv/error.jl:102 [inlined]",
      "  [6] cuEventCreate",
      "    @ ~/.julia/packages/CUDA/M4jkK/lib/utils/call.jl:26 [inlined]",
      "  [7] CuEvent(flags::UInt32)",
      "    @ CUDA ~/.julia/packages/CUDA/M4jkK/lib/cudadrv/events.jl:19",
      "  [8] macro expansion",
      "    @ ~/.julia/packages/CUDA/M4jkK/src/utilities.jl:34 [inlined]",
      "  [9] var\"##core#333\"()",
      "    @ Main ~/.julia/packages/BenchmarkTools/ms0Xc/src/execution.jl:479",
      " [10] var\"##sample#334\"(__params::BenchmarkTools.Parameters)",
      "    @ Main ~/.julia/packages/BenchmarkTools/ms0Xc/src/execution.jl:485",
      " [11] _run(b::BenchmarkTools.Benchmark, p::BenchmarkTools.Parameters; verbose::Bool, pad::String, kwargs::Base.Iterators.Pairs{Symbol, Integer, NTuple{4, Symbol}, NamedTuple{(:samples, :evals, :gctrial, :gcsample), Tuple{Int64, Int64, Bool, Bool}}})",
      "    @ BenchmarkTools ~/.julia/packages/BenchmarkTools/ms0Xc/src/execution.jl:98",
      " [12] #invokelatest#2",
      "    @ ./essentials.jl:710 [inlined]",
      " [13] #run_result#38",
      "    @ ~/.julia/packages/BenchmarkTools/ms0Xc/src/execution.jl:33 [inlined]",
      " [14] run(b::BenchmarkTools.Benchmark, p::BenchmarkTools.Parameters; progressid::Nothing, nleaves::Float64, ndone::Float64, kwargs::Base.Iterators.Pairs{Symbol, Integer, NTuple{5, Symbol}, NamedTuple{(:verbose, :samples, :evals, :gctrial, :gcsample), Tuple{Bool, Int64, Int64, Bool, Bool}}})",
      "    @ BenchmarkTools ~/.julia/packages/BenchmarkTools/ms0Xc/src/execution.jl:116",
      " [15] #warmup#47",
      "    @ ~/.julia/packages/BenchmarkTools/ms0Xc/src/execution.jl:168 [inlined]",
      " [16] tune!(b::BenchmarkTools.Benchmark, p::BenchmarkTools.Parameters; progressid::Nothing, nleaves::Float64, ndone::Float64, verbose::Bool, pad::String, kwargs::Base.Iterators.Pairs{Union{}, Union{}, Tuple{}, NamedTuple{(), Tuple{}}})",
      "    @ BenchmarkTools ~/.julia/packages/BenchmarkTools/ms0Xc/src/execution.jl:249",
      " [17] tune! (repeats 2 times)",
      "    @ ~/.julia/packages/BenchmarkTools/ms0Xc/src/execution.jl:249 [inlined]",
      " [18] top-level scope",
      "    @ ~/.julia/packages/BenchmarkTools/ms0Xc/src/execution.jl:388",
      " [19] eval",
      "    @ ./boot.jl:360 [inlined]",
      " [20] include_string(mapexpr::typeof(REPL.softscope), mod::Module, code::String, filename::String)",
      "    @ Base ./loading.jl:1094"
     ]
    }
   ],
   "source": [
    "shared = rand(Float32, 2^26)\n",
    "cushared = CuArray(shared)\n",
    "\n",
    "@benchmark CUDA.@sync(sort!(cushared))"
   ]
  },
  {
   "cell_type": "code",
   "execution_count": 9,
   "id": "fleet-cotton",
   "metadata": {},
   "outputs": [
    {
     "data": {
      "text/plain": [
       "(16, 67108864, 67108864)"
      ]
     },
     "execution_count": 9,
     "metadata": {},
     "output_type": "execute_result"
    }
   ],
   "source": [
    "nn[1], nn[12], 2^26"
   ]
  },
  {
   "cell_type": "code",
   "execution_count": 31,
   "id": "adolescent-blackberry",
   "metadata": {},
   "outputs": [
    {
     "data": {
      "text/plain": [
       "1000-element CuArray{Float32, 1}:\n",
       " 0.0\n",
       " 0.0\n",
       " 0.0\n",
       " 0.0\n",
       " 0.0\n",
       " 1.1920929f-7\n",
       " 1.1920929f-7\n",
       " 1.1920929f-7\n",
       " 1.1920929f-7\n",
       " 1.1920929f-7\n",
       " 1.1920929f-7\n",
       " 1.1920929f-7\n",
       " 1.1920929f-7\n",
       " ⋮\n",
       " 1.5377998f-5\n",
       " 1.5377998f-5\n",
       " 1.5377998f-5\n",
       " 1.5497208f-5\n",
       " 1.5497208f-5\n",
       " 1.5497208f-5\n",
       " 1.5497208f-5\n",
       " 1.5497208f-5\n",
       " 1.5616417f-5\n",
       " 1.5616417f-5\n",
       " 1.5616417f-5\n",
       " 1.5616417f-5"
      ]
     },
     "execution_count": 31,
     "metadata": {},
     "output_type": "execute_result"
    }
   ],
   "source": [
    "shared = rand(Float32, n)\n",
    "cushared = cu(shared)\n",
    "\n",
    "@benchmark CUDA.@sync(partialsort!(cushared, 10))\n",
    "\n",
    "a = rand(Float32, n)\n",
    "c = CuArray(a)\n",
    "partialsort!(c, 1:1000)"
   ]
  },
  {
   "cell_type": "code",
   "execution_count": 22,
   "id": "atomic-pressure",
   "metadata": {},
   "outputs": [
    {
     "data": {
      "text/plain": [
       "5-element view(::Vector{Float64}, 1:5) with eltype Float64:\n",
       " 0.06369545359322615\n",
       " 0.0880627134662304\n",
       " 0.140652278943995\n",
       " 0.41678696591272235\n",
       " 0.7987949387784006"
      ]
     },
     "execution_count": 22,
     "metadata": {},
     "output_type": "execute_result"
    }
   ],
   "source": [
    "x = rand(10)\n",
    "\n",
    "partialsort!(x, 1:5)"
   ]
  },
  {
   "cell_type": "code",
   "execution_count": 23,
   "id": "suitable-allowance",
   "metadata": {},
   "outputs": [
    {
     "data": {
      "text/plain": [
       "10-element Vector{Float64}:\n",
       " 0.06369545359322615\n",
       " 0.0880627134662304\n",
       " 0.140652278943995\n",
       " 0.41678696591272235\n",
       " 0.7987949387784006\n",
       " 0.8095898830451091\n",
       " 0.8696039258116677\n",
       " 0.9079806880959223\n",
       " 0.9202432584410771\n",
       " 0.9995070347360671"
      ]
     },
     "execution_count": 23,
     "metadata": {},
     "output_type": "execute_result"
    }
   ],
   "source": [
    "x"
   ]
  },
  {
   "cell_type": "code",
   "execution_count": null,
   "id": "played-pakistan",
   "metadata": {},
   "outputs": [],
   "source": [
    "# c = CuArray(rand(Float32, (n, 1)))\n",
    "\n",
    "# @benchmark sort!(c, rev=true, dims=2)"
   ]
  },
  {
   "cell_type": "code",
   "execution_count": 13,
   "id": "competitive-helmet",
   "metadata": {},
   "outputs": [
    {
     "data": {
      "text/plain": [
       "BenchmarkTools.Trial: \n",
       "  memory estimate:  160 bytes\n",
       "  allocs estimate:  9\n",
       "  --------------\n",
       "  minimum time:     26.762 s (0.00% GC)\n",
       "  median time:      26.762 s (0.00% GC)\n",
       "  mean time:        26.762 s (0.00% GC)\n",
       "  maximum time:     26.762 s (0.00% GC)\n",
       "  --------------\n",
       "  samples:          1\n",
       "  evals/sample:     1"
      ]
     },
     "execution_count": 13,
     "metadata": {},
     "output_type": "execute_result"
    }
   ],
   "source": [
    "sort_arr = rand(Float32, n);\n",
    "@benchmark CUDA.@sync(sort!(sort_arr; alg=QuickSort))"
   ]
  },
  {
   "cell_type": "code",
   "execution_count": 7,
   "id": "suffering-deposit",
   "metadata": {
    "scrolled": true
   },
   "outputs": [
    {
     "ename": "LoadError",
     "evalue": "InvalidIRError: compiling kernel quicksort_kernel(CuDeviceVector{Float32, 1}, Int64, Int64) resulted in invalid LLVM IR\nReason: unsupported dynamic function invocation (call to *)\nStacktrace:\n [1] \u001b[0m\u001b[1mquicksort_kernel\u001b[22m\n\u001b[90m   @ \u001b[39m\u001b[90;4mIn[7]:10\u001b[0m\nReason: unsupported dynamic function invocation (call to div)\nStacktrace:\n [1] \u001b[0m\u001b[1mquicksort_kernel\u001b[22m\n\u001b[90m   @ \u001b[39m\u001b[90;4mIn[7]:10\u001b[0m\nReason: unsupported dynamic function invocation (call to +)\nStacktrace:\n [1] \u001b[0m\u001b[1mquicksort_kernel\u001b[22m\n\u001b[90m   @ \u001b[39m\u001b[90;4mIn[7]:10\u001b[0m\nReason: unsupported dynamic function invocation (call to getindex)\nStacktrace:\n [1] \u001b[0m\u001b[1mquicksort_kernel\u001b[22m\n\u001b[90m   @ \u001b[39m\u001b[90;4mIn[7]:10\u001b[0m\nReason: unsupported use of an undefined name (use of 'T')\nStacktrace:\n [1] \u001b[0m\u001b[1mmacro expansion\u001b[22m\n\u001b[90m   @ \u001b[39m\u001b[90m~/.julia/packages/CUDA/M4jkK/src/device/intrinsics/\u001b[39m\u001b[90;4mmemory_shared.jl:49\u001b[0m\n [2] \u001b[0m\u001b[1mquicksort_kernel\u001b[22m\n\u001b[90m   @ \u001b[39m\u001b[90;4mIn[7]:4\u001b[0m\nReason: unsupported dynamic function invocation (call to emit_shmem)\nStacktrace:\n [1] \u001b[0m\u001b[1mmacro expansion\u001b[22m\n\u001b[90m   @ \u001b[39m\u001b[90m~/.julia/packages/CUDA/M4jkK/src/device/intrinsics/\u001b[39m\u001b[90;4mmemory_shared.jl:49\u001b[0m\n [2] \u001b[0m\u001b[1mquicksort_kernel\u001b[22m\n\u001b[90m   @ \u001b[39m\u001b[90;4mIn[7]:4\u001b[0m\nReason: unsupported dynamic function invocation (call to +)\nStacktrace:\n [1] \u001b[0m\u001b[1mmacro expansion\u001b[22m\n\u001b[90m   @ \u001b[39m\u001b[90m~/.julia/packages/CUDA/M4jkK/src/device/intrinsics/\u001b[39m\u001b[90;4mmemory_shared.jl:49\u001b[0m\n [2] \u001b[0m\u001b[1mquicksort_kernel\u001b[22m\n\u001b[90m   @ \u001b[39m\u001b[90;4mIn[7]:4\u001b[0m\nReason: unsupported dynamic function invocation (call to CuDeviceArray)\nStacktrace:\n [1] \u001b[0m\u001b[1mmacro expansion\u001b[22m\n\u001b[90m   @ \u001b[39m\u001b[90m~/.julia/packages/CUDA/M4jkK/src/device/intrinsics/\u001b[39m\u001b[90;4mmemory_shared.jl:50\u001b[0m\n [2] \u001b[0m\u001b[1mquicksort_kernel\u001b[22m\n\u001b[90m   @ \u001b[39m\u001b[90;4mIn[7]:4\u001b[0m\nReason: unsupported use of an undefined name (use of 'L')\nStacktrace:\n [1] \u001b[0m\u001b[1mquicksort_kernel\u001b[22m\n\u001b[90m   @ \u001b[39m\u001b[90;4mIn[7]:5\u001b[0m\nReason: unsupported dynamic function invocation (call to <=)\nStacktrace:\n [1] \u001b[0m\u001b[1mquicksort_kernel\u001b[22m\n\u001b[90m   @ \u001b[39m\u001b[90;4mIn[7]:5\u001b[0m\nReason: unsupported use of an undefined name (use of 'brick_sort')\nStacktrace:\n [1] \u001b[0m\u001b[1mquicksort_kernel\u001b[22m\n\u001b[90m   @ \u001b[39m\u001b[90;4mIn[7]:6\u001b[0m\nReason: unsupported dynamic function invocation\nStacktrace:\n [1] \u001b[0m\u001b[1mquicksort_kernel\u001b[22m\n\u001b[90m   @ \u001b[39m\u001b[90;4mIn[7]:6\u001b[0m\nReason: unsupported dynamic function invocation (call to div)\nStacktrace:\n [1] \u001b[0m\u001b[1mquicksort_kernel\u001b[22m\n\u001b[90m   @ \u001b[39m\u001b[90;4mIn[7]:5\u001b[0m\nReason: unsupported dynamic function invocation (call to Int32)\nStacktrace:\n [1] \u001b[0m\u001b[1mquicksort_kernel\u001b[22m\n\u001b[90m   @ \u001b[39m\u001b[90;4mIn[7]:5\u001b[0m",
     "output_type": "error",
     "traceback": [
      "InvalidIRError: compiling kernel quicksort_kernel(CuDeviceVector{Float32, 1}, Int64, Int64) resulted in invalid LLVM IR\nReason: unsupported dynamic function invocation (call to *)\nStacktrace:\n [1] \u001b[0m\u001b[1mquicksort_kernel\u001b[22m\n\u001b[90m   @ \u001b[39m\u001b[90;4mIn[7]:10\u001b[0m\nReason: unsupported dynamic function invocation (call to div)\nStacktrace:\n [1] \u001b[0m\u001b[1mquicksort_kernel\u001b[22m\n\u001b[90m   @ \u001b[39m\u001b[90;4mIn[7]:10\u001b[0m\nReason: unsupported dynamic function invocation (call to +)\nStacktrace:\n [1] \u001b[0m\u001b[1mquicksort_kernel\u001b[22m\n\u001b[90m   @ \u001b[39m\u001b[90;4mIn[7]:10\u001b[0m\nReason: unsupported dynamic function invocation (call to getindex)\nStacktrace:\n [1] \u001b[0m\u001b[1mquicksort_kernel\u001b[22m\n\u001b[90m   @ \u001b[39m\u001b[90;4mIn[7]:10\u001b[0m\nReason: unsupported use of an undefined name (use of 'T')\nStacktrace:\n [1] \u001b[0m\u001b[1mmacro expansion\u001b[22m\n\u001b[90m   @ \u001b[39m\u001b[90m~/.julia/packages/CUDA/M4jkK/src/device/intrinsics/\u001b[39m\u001b[90;4mmemory_shared.jl:49\u001b[0m\n [2] \u001b[0m\u001b[1mquicksort_kernel\u001b[22m\n\u001b[90m   @ \u001b[39m\u001b[90;4mIn[7]:4\u001b[0m\nReason: unsupported dynamic function invocation (call to emit_shmem)\nStacktrace:\n [1] \u001b[0m\u001b[1mmacro expansion\u001b[22m\n\u001b[90m   @ \u001b[39m\u001b[90m~/.julia/packages/CUDA/M4jkK/src/device/intrinsics/\u001b[39m\u001b[90;4mmemory_shared.jl:49\u001b[0m\n [2] \u001b[0m\u001b[1mquicksort_kernel\u001b[22m\n\u001b[90m   @ \u001b[39m\u001b[90;4mIn[7]:4\u001b[0m\nReason: unsupported dynamic function invocation (call to +)\nStacktrace:\n [1] \u001b[0m\u001b[1mmacro expansion\u001b[22m\n\u001b[90m   @ \u001b[39m\u001b[90m~/.julia/packages/CUDA/M4jkK/src/device/intrinsics/\u001b[39m\u001b[90;4mmemory_shared.jl:49\u001b[0m\n [2] \u001b[0m\u001b[1mquicksort_kernel\u001b[22m\n\u001b[90m   @ \u001b[39m\u001b[90;4mIn[7]:4\u001b[0m\nReason: unsupported dynamic function invocation (call to CuDeviceArray)\nStacktrace:\n [1] \u001b[0m\u001b[1mmacro expansion\u001b[22m\n\u001b[90m   @ \u001b[39m\u001b[90m~/.julia/packages/CUDA/M4jkK/src/device/intrinsics/\u001b[39m\u001b[90;4mmemory_shared.jl:50\u001b[0m\n [2] \u001b[0m\u001b[1mquicksort_kernel\u001b[22m\n\u001b[90m   @ \u001b[39m\u001b[90;4mIn[7]:4\u001b[0m\nReason: unsupported use of an undefined name (use of 'L')\nStacktrace:\n [1] \u001b[0m\u001b[1mquicksort_kernel\u001b[22m\n\u001b[90m   @ \u001b[39m\u001b[90;4mIn[7]:5\u001b[0m\nReason: unsupported dynamic function invocation (call to <=)\nStacktrace:\n [1] \u001b[0m\u001b[1mquicksort_kernel\u001b[22m\n\u001b[90m   @ \u001b[39m\u001b[90;4mIn[7]:5\u001b[0m\nReason: unsupported use of an undefined name (use of 'brick_sort')\nStacktrace:\n [1] \u001b[0m\u001b[1mquicksort_kernel\u001b[22m\n\u001b[90m   @ \u001b[39m\u001b[90;4mIn[7]:6\u001b[0m\nReason: unsupported dynamic function invocation\nStacktrace:\n [1] \u001b[0m\u001b[1mquicksort_kernel\u001b[22m\n\u001b[90m   @ \u001b[39m\u001b[90;4mIn[7]:6\u001b[0m\nReason: unsupported dynamic function invocation (call to div)\nStacktrace:\n [1] \u001b[0m\u001b[1mquicksort_kernel\u001b[22m\n\u001b[90m   @ \u001b[39m\u001b[90;4mIn[7]:5\u001b[0m\nReason: unsupported dynamic function invocation (call to Int32)\nStacktrace:\n [1] \u001b[0m\u001b[1mquicksort_kernel\u001b[22m\n\u001b[90m   @ \u001b[39m\u001b[90;4mIn[7]:5\u001b[0m",
      "",
      "Stacktrace:",
      "  [1] check_ir(job::GPUCompiler.CompilerJob{GPUCompiler.PTXCompilerTarget, CUDA.CUDACompilerParams, GPUCompiler.FunctionSpec{typeof(quicksort_kernel), Tuple{CuDeviceVector{Float32, 1}, Int64, Int64}}}, args::LLVM.Module)",
      "    @ GPUCompiler ~/.julia/packages/GPUCompiler/XwWPj/src/validation.jl:123",
      "  [2] macro expansion",
      "    @ ~/.julia/packages/GPUCompiler/XwWPj/src/driver.jl:288 [inlined]",
      "  [3] macro expansion",
      "    @ ~/.julia/packages/TimerOutputs/PZq45/src/TimerOutput.jl:226 [inlined]",
      "  [4] macro expansion",
      "    @ ~/.julia/packages/GPUCompiler/XwWPj/src/driver.jl:286 [inlined]",
      "  [5] emit_asm(job::GPUCompiler.CompilerJob, ir::LLVM.Module, kernel::LLVM.Function; strip::Bool, validate::Bool, format::LLVM.API.LLVMCodeGenFileType)",
      "    @ GPUCompiler ~/.julia/packages/GPUCompiler/XwWPj/src/utils.jl:62",
      "  [6] cufunction_compile(job::GPUCompiler.CompilerJob)",
      "    @ CUDA ~/.julia/packages/CUDA/M4jkK/src/compiler/execution.jl:306",
      "  [7] check_cache",
      "    @ ~/.julia/packages/GPUCompiler/XwWPj/src/cache.jl:44 [inlined]",
      "  [8] cached_compilation",
      "    @ ./In[7]:4 [inlined]",
      "  [9] cached_compilation(cache::Dict{UInt64, Any}, job::GPUCompiler.CompilerJob{GPUCompiler.PTXCompilerTarget, CUDA.CUDACompilerParams, GPUCompiler.FunctionSpec{typeof(quicksort_kernel), Tuple{CuDeviceVector{Float32, 1}, Int64, Int64}}}, compiler::typeof(CUDA.cufunction_compile), linker::typeof(CUDA.cufunction_link))",
      "    @ GPUCompiler ~/.julia/packages/GPUCompiler/XwWPj/src/cache.jl:0",
      " [10] cufunction(f::typeof(quicksort_kernel), tt::Type{Tuple{CuDeviceVector{Float32, 1}, Int64, Int64}}; name::Nothing, kwargs::Base.Iterators.Pairs{Union{}, Union{}, Tuple{}, NamedTuple{(), Tuple{}}})",
      "    @ CUDA ~/.julia/packages/CUDA/M4jkK/src/compiler/execution.jl:294",
      " [11] cufunction(f::typeof(quicksort_kernel), tt::Type{Tuple{CuDeviceVector{Float32, 1}, Int64, Int64}})",
      "    @ CUDA ~/.julia/packages/CUDA/M4jkK/src/compiler/execution.jl:288",
      " [12] top-level scope",
      "    @ ~/.julia/packages/CUDA/M4jkK/src/compiler/execution.jl:102",
      " [13] eval",
      "    @ ./boot.jl:360 [inlined]",
      " [14] include_string(mapexpr::typeof(REPL.softscope), mod::Module, code::String, filename::String)",
      "    @ Base ./loading.jl:1094"
     ]
    }
   ],
   "source": [
    "function quicksort_kernel(A, lo, hi)\n",
    "    # blockDim().x is the size of the thread block\n",
    "    # threadIdx().x returns the id of the thread that calls it\n",
    "    swap = @cuDynamicSharedMem(T, blockDim().x)\n",
    "    stride = L <= blockDim().x ? Int32(1) : Int32(L ÷ blockDim().x)\n",
    "    brick_sort(A, lo, hi, swap, stride)\n",
    "    if hi - lo <= blockDim().x\n",
    "        return\n",
    "    end\n",
    "    pivot = A[lo + stride * blockDim().x ÷ 2]\n",
    "    # TODO: partition\n",
    "    # TODO: launch left/right quicksort_kernel\n",
    "    return\n",
    "end\n",
    "#launch\n",
    "# my_list = CuArray(rand(Float32, 1000))\n",
    "\n",
    "shared = rand(Float32, 1000)\n",
    "my_list = cu(shared)\n",
    "@cuda threads=512 quicksort_kernel(my_list, 0, length(my_list))"
   ]
  },
  {
   "cell_type": "markdown",
   "id": "amateur-registration",
   "metadata": {},
   "source": [
    "# Benchmark 2"
   ]
  },
  {
   "cell_type": "code",
   "execution_count": 6,
   "id": "lesbian-collect",
   "metadata": {},
   "outputs": [],
   "source": [
    "nn = [2^(2*n) for n in 2:13];"
   ]
  },
  {
   "cell_type": "code",
   "execution_count": 58,
   "id": "alive-drinking",
   "metadata": {},
   "outputs": [
    {
     "name": "stdout",
     "output_type": "stream",
     "text": [
      "Trial(41.309 ns)42.36917598385469 Trial(173.976 ns)183.4832059474412 Trial(848.188 ns)874.1158652173914 Trial(3.890 μs)4014.7115875 Trial(17.135 μs)17869.4838 Trial(75.192 μs)78665.2084 Trial(330.708 μs)347456.0031 Trial(1.474 ms)1.525280749617854e6 Trial(6.498 ms)7.090094186079546e6 Trial(32.044 ms)3.5450530326241136e7 Trial(165.506 ms)1.744369988275862e8 Trial(942.452 ms)9.878016905e8 "
     ]
    }
   ],
   "source": [
    "qs_times = []\n",
    "\n",
    "for n in nn\n",
    "    sort_arr = rand(Float32, n);\n",
    "    a = @benchmark sort!(arr; alg=QuickSort) setup=(arr=sort_arr)\n",
    "    ma = mean(a.times)\n",
    "    \n",
    "    print(a)\n",
    "    print(ma)\n",
    "    print(\" \")\n",
    "    append!(qs_times, ma)\n",
    "end"
   ]
  },
  {
   "cell_type": "code",
   "execution_count": 59,
   "id": "allied-victorian",
   "metadata": {},
   "outputs": [
    {
     "name": "stdout",
     "output_type": "stream",
     "text": [
      "Trial(76.285 ns)107.64795787847582 Trial(282.216 ns)373.46612328767117 Trial(1.296 μs)1521.13377 Trial(6.626 μs)8203.554059999999 Trial(29.345 μs)34323.2657 Trial(136.266 μs)158184.0827 Trial(689.697 μs)732902.7178882171 Trial(3.135 ms)3.3291091416165666e6 Trial(14.255 ms)1.5283055867692309e7 Trial(67.236 ms)7.396225226470588e7 Trial(293.541 ms)3.178968831875e8 Trial(1.307 s)1.3259118145e9 "
     ]
    }
   ],
   "source": [
    "ms_times = []\n",
    "\n",
    "for n in nn\n",
    "    sort_arr = rand(Float32, n);\n",
    "    a = @benchmark sort!(arr; alg=MergeSort) setup=(arr=sort_arr)\n",
    "    ma = mean(a.times)\n",
    "    \n",
    "    print(a)\n",
    "    print(ma)\n",
    "    print(\" \")\n",
    "    append!(ms_times, ma)\n",
    "end"
   ]
  },
  {
   "cell_type": "code",
   "execution_count": 57,
   "id": "acoustic-reserve",
   "metadata": {},
   "outputs": [
    {
     "name": "stdout",
     "output_type": "stream",
     "text": [
      "Trial(8.443 μs)13759.9098 Trial(8.436 μs)12916.706 Trial(9.523 μs)13074.1998 Trial(15.157 μs)19745.8015 Trial(34.224 μs)39610.9536 Trial(122.291 μs)131129.4733 Trial(495.881 μs)524993.7901351922 Trial(1.958 ms)2.0443216339762001e6 Trial(8.085 ms)8.903976586452764e6 Trial(36.537 ms)3.809958456060606e7 Trial(161.457 ms)1.672049787e8 Trial(677.494 ms)7.023265915e8 "
     ]
    }
   ],
   "source": [
    "rs_times = []\n",
    "\n",
    "for n in nn\n",
    "    sort_arr = rand(Float32, n);\n",
    "    a = @benchmark sort!(arr; alg=RadixSort) setup=(arr=sort_arr)\n",
    "    ma = mean(a.times)\n",
    "    \n",
    "    print(a)\n",
    "    print(ma)\n",
    "    print(\" \")\n",
    "    append!(rs_times, ma)\n",
    "end"
   ]
  },
  {
   "cell_type": "code",
   "execution_count": 21,
   "id": "faced-burns",
   "metadata": {},
   "outputs": [
    {
     "name": "stdout",
     "output_type": "stream",
     "text": [
      "Trial(28.023 μs)62488.0193 Trial(36.057 μs)69632.2472 Trial(78.951 μs)116692.7342 Trial(3.751 ms)4.460044367713004e6 Trial(6.180 ms)6.631771914893617e6 Trial(7.239 ms)8.443749780033842e6 Trial(10.415 ms)1.1807787203309692e7 Trial(17.439 ms)1.812927906884058e7 Trial(43.750 ms)4.6393472722222224e7 Trial(159.415 ms)1.6240744303225806e8 Trial(639.504 ms)6.49382007375e8 "
     ]
    }
   ],
   "source": [
    "nn2 = [2^(2*n) for n in 2:12];\n",
    "js_times = []\n",
    "\n",
    "for n in nn2\n",
    "\n",
    "    shared = rand(Float32, n)\n",
    "    cushared = CuArray(shared)\n",
    "\n",
    "    a = @benchmark CUDA.@sync(sort!(cushared))\n",
    "    ma = mean(a.times)\n",
    "    \n",
    "    print(a)\n",
    "    print(ma)\n",
    "    print(\" \")\n",
    "    append!(js_times, ma)\n",
    "end\n"
   ]
  },
  {
   "cell_type": "code",
   "execution_count": 40,
   "id": "second-football",
   "metadata": {},
   "outputs": [
    {
     "data": {
      "text/plain": [
       "12-element Vector{Float64}:\n",
       "  62488.0193\n",
       "  69632.2472\n",
       " 116692.7342\n",
       "      4.460044367713004e6\n",
       "      6.631771914893617e6\n",
       "      8.443749780033842e6\n",
       "      1.1807787203309692e7\n",
       "      1.812927906884058e7\n",
       "      4.6393472722222224e7\n",
       "      1.6240744303225806e8\n",
       "      6.49382007375e8\n",
       "      0.0"
      ]
     },
     "execution_count": 40,
     "metadata": {},
     "output_type": "execute_result"
    }
   ],
   "source": [
    "# append!(js_times, NaN)\n",
    "js_times[12]=0\n",
    "js_times = convert(Array{Float64,1}, js_times)"
   ]
  },
  {
   "cell_type": "code",
   "execution_count": 49,
   "id": "norwegian-timber",
   "metadata": {},
   "outputs": [
    {
     "data": {
      "text/plain": [
       "(16777216, 67108864)"
      ]
     },
     "execution_count": 49,
     "metadata": {},
     "output_type": "execute_result"
    }
   ],
   "source": [
    "2^24, 2^26"
   ]
  },
  {
   "cell_type": "code",
   "execution_count": 45,
   "id": "secure-snake",
   "metadata": {},
   "outputs": [
    {
     "name": "stdout",
     "output_type": "stream",
     "text": [
      "Trial(28.672 μs)58692.8328 Trial(38.970 μs)70758.9614 Trial(80.392 μs)111129.1335 Trial(6.788 ms)7.465375291916167e6 Trial(9.491 ms)1.0410745020876827e7 Trial(10.001 ms)1.210556809708738e7 ERROR: Out of dynamic GPU memory (trying to allocate 16 bytes)\n",
      "ERROR: a exception was thrown during kernel execution.\n",
      "       Run Julia on debug level 2 for device stack traces.\n",
      "ERROR: Out of dynamic GPU memory (trying to allocate 16 bytes)\n",
      "ERROR: a exception was thrown during kernel execution.\n",
      "       Run Julia on debug level 2 for device stack traces.\n"
     ]
    },
    {
     "ename": "LoadError",
     "evalue": "KernelException: exception thrown during kernel execution on device NVIDIA GeForce RTX 2080 Ti",
     "output_type": "error",
     "traceback": [
      "KernelException: exception thrown during kernel execution on device NVIDIA GeForce RTX 2080 Ti",
      "",
      "Stacktrace:",
      "  [1] check_exceptions()",
      "    @ CUDA ~/.julia/packages/CUDA/M4jkK/src/compiler/exceptions.jl:37",
      "  [2] prepare_cuda_call()",
      "    @ CUDA ~/.julia/packages/CUDA/M4jkK/src/state.jl:85",
      "  [3] initialize_api()",
      "    @ CUDA ~/.julia/packages/CUDA/M4jkK/lib/cudadrv/error.jl:92",
      "  [4] macro expansion",
      "    @ ~/.julia/packages/CUDA/M4jkK/lib/cudadrv/libcuda.jl:1066 [inlined]",
      "  [5] macro expansion",
      "    @ ~/.julia/packages/CUDA/M4jkK/lib/cudadrv/error.jl:102 [inlined]",
      "  [6] cuEventCreate",
      "    @ ~/.julia/packages/CUDA/M4jkK/lib/utils/call.jl:26 [inlined]",
      "  [7] CuEvent(flags::UInt32)",
      "    @ CUDA ~/.julia/packages/CUDA/M4jkK/lib/cudadrv/events.jl:19",
      "  [8] macro expansion",
      "    @ ~/.julia/packages/CUDA/M4jkK/src/utilities.jl:34 [inlined]",
      "  [9] var\"##core#462\"()",
      "    @ Main ~/.julia/packages/BenchmarkTools/ms0Xc/src/execution.jl:479",
      " [10] var\"##sample#463\"(__params::BenchmarkTools.Parameters)",
      "    @ Main ~/.julia/packages/BenchmarkTools/ms0Xc/src/execution.jl:485",
      " [11] _run(b::BenchmarkTools.Benchmark, p::BenchmarkTools.Parameters; verbose::Bool, pad::String, kwargs::Base.Iterators.Pairs{Union{}, Union{}, Tuple{}, NamedTuple{(), Tuple{}}})",
      "    @ BenchmarkTools ~/.julia/packages/BenchmarkTools/ms0Xc/src/execution.jl:104",
      " [12] _run(b::BenchmarkTools.Benchmark, p::BenchmarkTools.Parameters)",
      "    @ BenchmarkTools ~/.julia/packages/BenchmarkTools/ms0Xc/src/execution.jl:92",
      " [13] #invokelatest#2",
      "    @ ./essentials.jl:708 [inlined]",
      " [14] invokelatest",
      "    @ ./essentials.jl:706 [inlined]",
      " [15] #run_result#38",
      "    @ ~/.julia/packages/BenchmarkTools/ms0Xc/src/execution.jl:33 [inlined]",
      " [16] run_result",
      "    @ ~/.julia/packages/BenchmarkTools/ms0Xc/src/execution.jl:33 [inlined]",
      " [17] run(b::BenchmarkTools.Benchmark, p::BenchmarkTools.Parameters; progressid::Nothing, nleaves::Float64, ndone::Float64, kwargs::Base.Iterators.Pairs{Union{}, Union{}, Tuple{}, NamedTuple{(), Tuple{}}})",
      "    @ BenchmarkTools ~/.julia/packages/BenchmarkTools/ms0Xc/src/execution.jl:116",
      " [18] run (repeats 2 times)",
      "    @ ~/.julia/packages/BenchmarkTools/ms0Xc/src/execution.jl:116 [inlined]",
      " [19] macro expansion",
      "    @ ~/.julia/packages/BenchmarkTools/ms0Xc/src/execution.jl:389 [inlined]",
      " [20] top-level scope",
      "    @ In[45]:9",
      " [21] eval",
      "    @ ./boot.jl:360 [inlined]",
      " [22] include_string(mapexpr::typeof(REPL.softscope), mod::Module, code::String, filename::String)",
      "    @ Base ./loading.jl:1094"
     ]
    }
   ],
   "source": [
    "nn2 = [2^(2*n) for n in 2:12];\n",
    "js_times2 = []\n",
    "\n",
    "for n in nn2\n",
    "\n",
    "    shared = rand(Float32, n)\n",
    "    cushared = CuArray(shared)\n",
    "\n",
    "    a = @benchmark CUDA.@sync(sort!(cushared))\n",
    "    ma = mean(a.times)\n",
    "    \n",
    "    print(a)\n",
    "    print(ma)\n",
    "    print(\" \")\n",
    "    append!(js_times2, ma)\n",
    "end"
   ]
  },
  {
   "cell_type": "code",
   "execution_count": 135,
   "id": "unique-presence",
   "metadata": {},
   "outputs": [],
   "source": [
    "df = DataFrame(n=nn, QuickSort = qs_times, MergeSort = ms_times, RadixSort = rs_times, BitonicSort=bs_times);"
   ]
  },
  {
   "cell_type": "code",
   "execution_count": 43,
   "id": "legislative-argentina",
   "metadata": {},
   "outputs": [
    {
     "data": {
      "application/vnd.plotly.v1+json": {
       "data": [
        {
         "colorbar": {
          "title": ""
         },
         "legendgroup": "QuickSort",
         "line": {
          "color": "rgba(0, 154, 250, 1.000)",
          "dash": "solid",
          "shape": "linear",
          "width": 3
         },
         "mode": "lines",
         "name": "QuickSort",
         "showlegend": true,
         "type": "scatter",
         "x": [
          16,
          64,
          256,
          1024,
          4096,
          16384,
          65536,
          262144,
          1048576,
          4194304,
          16777216,
          67108864
         ],
         "xaxis": "x",
         "y": [
          42.36917598385469,
          183.4832059474412,
          874.1158652173914,
          4014.7115875,
          17869.4838,
          78665.2084,
          347456.0031,
          1525280.749617854,
          7090094.186079546,
          35450530.326241136,
          174436998.8275862,
          987801690.5
         ],
         "yaxis": "y",
         "zmax": null,
         "zmin": null
        },
        {
         "colorbar": {
          "title": ""
         },
         "legendgroup": "MergeSort",
         "line": {
          "color": "rgba(227, 111, 71, 1.000)",
          "dash": "solid",
          "shape": "linear",
          "width": 3
         },
         "mode": "lines",
         "name": "MergeSort",
         "showlegend": true,
         "type": "scatter",
         "x": [
          16,
          64,
          256,
          1024,
          4096,
          16384,
          65536,
          262144,
          1048576,
          4194304,
          16777216,
          67108864
         ],
         "xaxis": "x",
         "y": [
          107.64795787847582,
          373.46612328767117,
          1521.13377,
          8203.554059999999,
          34323.2657,
          158184.0827,
          732902.7178882171,
          3329109.1416165666,
          15283055.867692309,
          73962252.26470588,
          317896883.1875,
          1325911814.5
         ],
         "yaxis": "y",
         "zmax": null,
         "zmin": null
        },
        {
         "colorbar": {
          "title": ""
         },
         "legendgroup": "RadixSort",
         "line": {
          "color": "rgba(62, 164, 78, 1.000)",
          "dash": "solid",
          "shape": "linear",
          "width": 3
         },
         "mode": "lines",
         "name": "RadixSort",
         "showlegend": true,
         "type": "scatter",
         "x": [
          16,
          64,
          256,
          1024,
          4096,
          16384,
          65536,
          262144,
          1048576,
          4194304,
          16777216,
          67108864
         ],
         "xaxis": "x",
         "y": [
          13759.9098,
          12916.706,
          13074.1998,
          19745.8015,
          39610.9536,
          131129.4733,
          524993.7901351922,
          2044321.6339762001,
          8903976.586452764,
          38099584.56060606,
          167204978.7,
          702326591.5
         ],
         "yaxis": "y",
         "zmax": null,
         "zmin": null
        },
        {
         "colorbar": {
          "title": ""
         },
         "legendgroup": "BitonicSort",
         "line": {
          "color": "rgba(195, 113, 210, 1.000)",
          "dash": "solid",
          "shape": "linear",
          "width": 3
         },
         "mode": "lines",
         "name": "BitonicSort",
         "showlegend": true,
         "type": "scatter",
         "x": [
          16,
          64,
          256,
          1024,
          4096,
          16384,
          65536,
          262144,
          1048576,
          4194304,
          16777216,
          67108864
         ],
         "xaxis": "x",
         "y": [
          0,
          0,
          145554.4752,
          206584.4678,
          285015.8622,
          378903.0477,
          480880.1595,
          683007.69656883,
          1816250.6839416057,
          14074233.828169014,
          63971472.98734177,
          293918755.2777778
         ],
         "yaxis": "y",
         "zmax": null,
         "zmin": null
        },
        {
         "colorbar": {
          "title": ""
         },
         "legendgroup": "GPUJuliaSort",
         "line": {
          "color": "rgba(172, 142, 24, 1.000)",
          "dash": "solid",
          "shape": "linear",
          "width": 3
         },
         "mode": "lines",
         "name": "GPUJuliaSort",
         "showlegend": true,
         "type": "scatter",
         "x": [
          16,
          64,
          256,
          1024,
          4096,
          16384,
          65536,
          262144,
          1048576,
          4194304,
          16777216,
          67108864
         ],
         "xaxis": "x",
         "y": [
          62488.0193,
          69632.2472,
          116692.7342,
          4460044.367713004,
          6631771.914893617,
          8443749.780033842,
          11807787.203309692,
          18129279.06884058,
          46393472.722222224,
          162407443.03225806,
          649382007.375,
          0
         ],
         "yaxis": "y",
         "zmax": null,
         "zmin": null
        }
       ],
       "layout": {
        "annotations": [
         {
          "font": {
           "color": "rgba(0, 0, 0, 1.000)",
           "family": "sans-serif",
           "size": 20
          },
          "rotation": 0,
          "showarrow": false,
          "text": "Czas sortowania",
          "x": 0.6460648148148148,
          "xanchor": "center",
          "xref": "paper",
          "y": 1,
          "yanchor": "top",
          "yref": "paper"
         }
        ],
        "height": 400,
        "legend": {
         "bgcolor": "rgba(255, 255, 255, 1.000)",
         "bordercolor": "rgba(0, 0, 0, 1.000)",
         "borderwidth": 1,
         "font": {
          "color": "rgba(0, 0, 0, 1.000)",
          "family": "sans-serif",
          "size": 11
         },
         "title": {
          "font": {
           "color": "rgba(0, 0, 0, 1.000)",
           "family": "sans-serif",
           "size": 15
          },
          "text": ""
         },
         "tracegroupgap": 0,
         "traceorder": "normal",
         "x": 1,
         "xanchor": "auto",
         "y": 1,
         "yanchor": "auto"
        },
        "margin": {
         "b": 20,
         "l": 0,
         "r": 0,
         "t": 20
        },
        "paper_bgcolor": "rgba(255, 255, 255, 1.000)",
        "plot_bgcolor": "rgba(255, 255, 255, 1.000)",
        "showlegend": true,
        "width": 600,
        "xaxis": {
         "anchor": "y",
         "domain": [
          0.2986913094196558,
          0.9934383202099738
         ],
         "gridcolor": "rgba(0, 0, 0, 0.100)",
         "gridwidth": 0.5,
         "linecolor": "rgba(0, 0, 0, 1.000)",
         "mirror": false,
         "range": [
          -2013249.44,
          69122129.44
         ],
         "showgrid": true,
         "showline": true,
         "showticklabels": true,
         "tickangle": 0,
         "tickcolor": "rgb(0, 0, 0)",
         "tickfont": {
          "color": "rgba(0, 0, 0, 1.000)",
          "family": "sans-serif",
          "size": 11
         },
         "tickmode": "array",
         "ticks": "inside",
         "ticktext": [
          "0",
          "1×10<sup>7</sup>",
          "2×10<sup>7</sup>",
          "3×10<sup>7</sup>",
          "4×10<sup>7</sup>",
          "5×10<sup>7</sup>",
          "6×10<sup>7</sup>"
         ],
         "tickvals": [
          0,
          10000000,
          20000000,
          30000000,
          40000000,
          50000000,
          60000000
         ],
         "title": "rozmiar tablicy n",
         "titlefont": {
          "color": "rgba(0, 0, 0, 1.000)",
          "family": "sans-serif",
          "size": 15
         },
         "type": "-",
         "visible": true,
         "zeroline": false,
         "zerolinecolor": "rgba(0, 0, 0, 1.000)"
        },
        "yaxis": {
         "anchor": "x",
         "domain": [
          0.07581474190726165,
          0.9415463692038496
         ],
         "gridcolor": "rgba(0, 0, 0, 0.100)",
         "gridwidth": 0.5,
         "linecolor": "rgba(0, 0, 0, 1.000)",
         "mirror": false,
         "range": [
          -39777354.434999995,
          1365689168.935
         ],
         "showgrid": true,
         "showline": true,
         "showticklabels": true,
         "tickangle": 0,
         "tickcolor": "rgb(0, 0, 0)",
         "tickfont": {
          "color": "rgba(0, 0, 0, 1.000)",
          "family": "sans-serif",
          "size": 11
         },
         "tickmode": "array",
         "ticks": "inside",
         "ticktext": [
          "0",
          "2.0×10<sup>8</sup>",
          "4.0×10<sup>8</sup>",
          "6.0×10<sup>8</sup>",
          "8.0×10<sup>8</sup>",
          "1.0×10<sup>9</sup>",
          "1.2×10<sup>9</sup>"
         ],
         "tickvals": [
          0,
          200000000,
          400000000,
          600000000,
          800000000,
          1000000000,
          1200000000
         ],
         "title": "czas w ns",
         "titlefont": {
          "color": "rgba(0, 0, 0, 1.000)",
          "family": "sans-serif",
          "size": 15
         },
         "type": "-",
         "visible": true,
         "zeroline": false,
         "zerolinecolor": "rgba(0, 0, 0, 1.000)"
        }
       }
      },
      "text/html": [
       "<!DOCTYPE html>\n",
       "<html>\n",
       "    <head>\n",
       "        <title>Plots.jl</title>\n",
       "        <meta http-equiv=\"content-type\" content=\"text/html; charset=UTF-8\">\n",
       "        \n",
       "    </head>\n",
       "    <body>\n",
       "            <div id=\"21e56558-0d8a-4d90-a068-8cde17b34d05\" style=\"width:600px;height:400px;\"></div>\n",
       "    <script>\n",
       "        requirejs.config({\n",
       "        paths: {\n",
       "            Plotly: 'https://cdn.plot.ly/plotly-1.57.1.min'\n",
       "        }\n",
       "    });\n",
       "    require(['Plotly'], function (Plotly) {\n",
       "\n",
       "        var PLOT = document.getElementById('21e56558-0d8a-4d90-a068-8cde17b34d05');\n",
       "    Plotly.plot(PLOT, [\n",
       "    {\n",
       "        \"xaxis\": \"x\",\n",
       "        \"colorbar\": {\n",
       "            \"title\": \"\"\n",
       "        },\n",
       "        \"yaxis\": \"y\",\n",
       "        \"x\": [\n",
       "            16.0,\n",
       "            64.0,\n",
       "            256.0,\n",
       "            1024.0,\n",
       "            4096.0,\n",
       "            16384.0,\n",
       "            65536.0,\n",
       "            262144.0,\n",
       "            1.048576e6,\n",
       "            4.194304e6,\n",
       "            1.6777216e7,\n",
       "            6.7108864e7\n",
       "        ],\n",
       "        \"showlegend\": true,\n",
       "        \"mode\": \"lines\",\n",
       "        \"name\": \"QuickSort\",\n",
       "        \"zmin\": null,\n",
       "        \"legendgroup\": \"QuickSort\",\n",
       "        \"zmax\": null,\n",
       "        \"line\": {\n",
       "            \"color\": \"rgba(0, 154, 250, 1.000)\",\n",
       "            \"shape\": \"linear\",\n",
       "            \"dash\": \"solid\",\n",
       "            \"width\": 3\n",
       "        },\n",
       "        \"y\": [\n",
       "            42.36917598385469,\n",
       "            183.4832059474412,\n",
       "            874.1158652173914,\n",
       "            4014.7115875,\n",
       "            17869.4838,\n",
       "            78665.2084,\n",
       "            347456.0031,\n",
       "            1.525280749617854e6,\n",
       "            7.090094186079546e6,\n",
       "            3.5450530326241136e7,\n",
       "            1.744369988275862e8,\n",
       "            9.878016905e8\n",
       "        ],\n",
       "        \"type\": \"scatter\"\n",
       "    },\n",
       "    {\n",
       "        \"xaxis\": \"x\",\n",
       "        \"colorbar\": {\n",
       "            \"title\": \"\"\n",
       "        },\n",
       "        \"yaxis\": \"y\",\n",
       "        \"x\": [\n",
       "            16.0,\n",
       "            64.0,\n",
       "            256.0,\n",
       "            1024.0,\n",
       "            4096.0,\n",
       "            16384.0,\n",
       "            65536.0,\n",
       "            262144.0,\n",
       "            1.048576e6,\n",
       "            4.194304e6,\n",
       "            1.6777216e7,\n",
       "            6.7108864e7\n",
       "        ],\n",
       "        \"showlegend\": true,\n",
       "        \"mode\": \"lines\",\n",
       "        \"name\": \"MergeSort\",\n",
       "        \"zmin\": null,\n",
       "        \"legendgroup\": \"MergeSort\",\n",
       "        \"zmax\": null,\n",
       "        \"line\": {\n",
       "            \"color\": \"rgba(227, 111, 71, 1.000)\",\n",
       "            \"shape\": \"linear\",\n",
       "            \"dash\": \"solid\",\n",
       "            \"width\": 3\n",
       "        },\n",
       "        \"y\": [\n",
       "            107.64795787847582,\n",
       "            373.46612328767117,\n",
       "            1521.13377,\n",
       "            8203.554059999999,\n",
       "            34323.2657,\n",
       "            158184.0827,\n",
       "            732902.7178882171,\n",
       "            3.3291091416165666e6,\n",
       "            1.5283055867692309e7,\n",
       "            7.396225226470588e7,\n",
       "            3.178968831875e8,\n",
       "            1.3259118145e9\n",
       "        ],\n",
       "        \"type\": \"scatter\"\n",
       "    },\n",
       "    {\n",
       "        \"xaxis\": \"x\",\n",
       "        \"colorbar\": {\n",
       "            \"title\": \"\"\n",
       "        },\n",
       "        \"yaxis\": \"y\",\n",
       "        \"x\": [\n",
       "            16.0,\n",
       "            64.0,\n",
       "            256.0,\n",
       "            1024.0,\n",
       "            4096.0,\n",
       "            16384.0,\n",
       "            65536.0,\n",
       "            262144.0,\n",
       "            1.048576e6,\n",
       "            4.194304e6,\n",
       "            1.6777216e7,\n",
       "            6.7108864e7\n",
       "        ],\n",
       "        \"showlegend\": true,\n",
       "        \"mode\": \"lines\",\n",
       "        \"name\": \"RadixSort\",\n",
       "        \"zmin\": null,\n",
       "        \"legendgroup\": \"RadixSort\",\n",
       "        \"zmax\": null,\n",
       "        \"line\": {\n",
       "            \"color\": \"rgba(62, 164, 78, 1.000)\",\n",
       "            \"shape\": \"linear\",\n",
       "            \"dash\": \"solid\",\n",
       "            \"width\": 3\n",
       "        },\n",
       "        \"y\": [\n",
       "            13759.9098,\n",
       "            12916.706,\n",
       "            13074.1998,\n",
       "            19745.8015,\n",
       "            39610.9536,\n",
       "            131129.4733,\n",
       "            524993.7901351922,\n",
       "            2.0443216339762001e6,\n",
       "            8.903976586452764e6,\n",
       "            3.809958456060606e7,\n",
       "            1.672049787e8,\n",
       "            7.023265915e8\n",
       "        ],\n",
       "        \"type\": \"scatter\"\n",
       "    },\n",
       "    {\n",
       "        \"xaxis\": \"x\",\n",
       "        \"colorbar\": {\n",
       "            \"title\": \"\"\n",
       "        },\n",
       "        \"yaxis\": \"y\",\n",
       "        \"x\": [\n",
       "            16.0,\n",
       "            64.0,\n",
       "            256.0,\n",
       "            1024.0,\n",
       "            4096.0,\n",
       "            16384.0,\n",
       "            65536.0,\n",
       "            262144.0,\n",
       "            1.048576e6,\n",
       "            4.194304e6,\n",
       "            1.6777216e7,\n",
       "            6.7108864e7\n",
       "        ],\n",
       "        \"showlegend\": true,\n",
       "        \"mode\": \"lines\",\n",
       "        \"name\": \"BitonicSort\",\n",
       "        \"zmin\": null,\n",
       "        \"legendgroup\": \"BitonicSort\",\n",
       "        \"zmax\": null,\n",
       "        \"line\": {\n",
       "            \"color\": \"rgba(195, 113, 210, 1.000)\",\n",
       "            \"shape\": \"linear\",\n",
       "            \"dash\": \"solid\",\n",
       "            \"width\": 3\n",
       "        },\n",
       "        \"y\": [\n",
       "            0.0,\n",
       "            0.0,\n",
       "            145554.4752,\n",
       "            206584.4678,\n",
       "            285015.8622,\n",
       "            378903.0477,\n",
       "            480880.1595,\n",
       "            683007.69656883,\n",
       "            1.8162506839416057e6,\n",
       "            1.4074233828169014e7,\n",
       "            6.397147298734177e7,\n",
       "            2.939187552777778e8\n",
       "        ],\n",
       "        \"type\": \"scatter\"\n",
       "    },\n",
       "    {\n",
       "        \"xaxis\": \"x\",\n",
       "        \"colorbar\": {\n",
       "            \"title\": \"\"\n",
       "        },\n",
       "        \"yaxis\": \"y\",\n",
       "        \"x\": [\n",
       "            16.0,\n",
       "            64.0,\n",
       "            256.0,\n",
       "            1024.0,\n",
       "            4096.0,\n",
       "            16384.0,\n",
       "            65536.0,\n",
       "            262144.0,\n",
       "            1.048576e6,\n",
       "            4.194304e6,\n",
       "            1.6777216e7,\n",
       "            6.7108864e7\n",
       "        ],\n",
       "        \"showlegend\": true,\n",
       "        \"mode\": \"lines\",\n",
       "        \"name\": \"GPUJuliaSort\",\n",
       "        \"zmin\": null,\n",
       "        \"legendgroup\": \"GPUJuliaSort\",\n",
       "        \"zmax\": null,\n",
       "        \"line\": {\n",
       "            \"color\": \"rgba(172, 142, 24, 1.000)\",\n",
       "            \"shape\": \"linear\",\n",
       "            \"dash\": \"solid\",\n",
       "            \"width\": 3\n",
       "        },\n",
       "        \"y\": [\n",
       "            62488.0193,\n",
       "            69632.2472,\n",
       "            116692.7342,\n",
       "            4.460044367713004e6,\n",
       "            6.631771914893617e6,\n",
       "            8.443749780033842e6,\n",
       "            1.1807787203309692e7,\n",
       "            1.812927906884058e7,\n",
       "            4.6393472722222224e7,\n",
       "            1.6240744303225806e8,\n",
       "            6.49382007375e8,\n",
       "            0.0\n",
       "        ],\n",
       "        \"type\": \"scatter\"\n",
       "    }\n",
       "]\n",
       ", {\n",
       "    \"showlegend\": true,\n",
       "    \"xaxis\": {\n",
       "        \"showticklabels\": true,\n",
       "        \"gridwidth\": 0.5,\n",
       "        \"tickvals\": [\n",
       "            0.0,\n",
       "            1.0e7,\n",
       "            2.0e7,\n",
       "            3.0e7,\n",
       "            4.0e7,\n",
       "            5.0e7,\n",
       "            6.0e7\n",
       "        ],\n",
       "        \"range\": [\n",
       "            -2.01324944e6,\n",
       "            6.912212944e7\n",
       "        ],\n",
       "        \"domain\": [\n",
       "            0.2986913094196558,\n",
       "            0.9934383202099738\n",
       "        ],\n",
       "        \"mirror\": false,\n",
       "        \"tickangle\": 0,\n",
       "        \"showline\": true,\n",
       "        \"ticktext\": [\n",
       "            \"0\",\n",
       "            \"1×10<sup>7</sup>\",\n",
       "            \"2×10<sup>7</sup>\",\n",
       "            \"3×10<sup>7</sup>\",\n",
       "            \"4×10<sup>7</sup>\",\n",
       "            \"5×10<sup>7</sup>\",\n",
       "            \"6×10<sup>7</sup>\"\n",
       "        ],\n",
       "        \"zeroline\": false,\n",
       "        \"tickfont\": {\n",
       "            \"color\": \"rgba(0, 0, 0, 1.000)\",\n",
       "            \"family\": \"sans-serif\",\n",
       "            \"size\": 11\n",
       "        },\n",
       "        \"zerolinecolor\": \"rgba(0, 0, 0, 1.000)\",\n",
       "        \"anchor\": \"y\",\n",
       "        \"visible\": true,\n",
       "        \"ticks\": \"inside\",\n",
       "        \"tickmode\": \"array\",\n",
       "        \"linecolor\": \"rgba(0, 0, 0, 1.000)\",\n",
       "        \"showgrid\": true,\n",
       "        \"title\": \"rozmiar tablicy n\",\n",
       "        \"gridcolor\": \"rgba(0, 0, 0, 0.100)\",\n",
       "        \"titlefont\": {\n",
       "            \"color\": \"rgba(0, 0, 0, 1.000)\",\n",
       "            \"family\": \"sans-serif\",\n",
       "            \"size\": 15\n",
       "        },\n",
       "        \"tickcolor\": \"rgb(0, 0, 0)\",\n",
       "        \"type\": \"-\"\n",
       "    },\n",
       "    \"paper_bgcolor\": \"rgba(255, 255, 255, 1.000)\",\n",
       "    \"annotations\": [\n",
       "        {\n",
       "            \"yanchor\": \"top\",\n",
       "            \"xanchor\": \"center\",\n",
       "            \"rotation\": -0.0,\n",
       "            \"y\": 1.0,\n",
       "            \"font\": {\n",
       "                \"color\": \"rgba(0, 0, 0, 1.000)\",\n",
       "                \"family\": \"sans-serif\",\n",
       "                \"size\": 20\n",
       "            },\n",
       "            \"yref\": \"paper\",\n",
       "            \"showarrow\": false,\n",
       "            \"text\": \"Czas sortowania\",\n",
       "            \"xref\": \"paper\",\n",
       "            \"x\": 0.6460648148148148\n",
       "        }\n",
       "    ],\n",
       "    \"height\": 400,\n",
       "    \"margin\": {\n",
       "        \"l\": 0,\n",
       "        \"b\": 20,\n",
       "        \"r\": 0,\n",
       "        \"t\": 20\n",
       "    },\n",
       "    \"plot_bgcolor\": \"rgba(255, 255, 255, 1.000)\",\n",
       "    \"yaxis\": {\n",
       "        \"showticklabels\": true,\n",
       "        \"gridwidth\": 0.5,\n",
       "        \"tickvals\": [\n",
       "            0.0,\n",
       "            2.0e8,\n",
       "            4.0e8,\n",
       "            6.0e8,\n",
       "            8.0e8,\n",
       "            1.0e9,\n",
       "            1.2e9\n",
       "        ],\n",
       "        \"range\": [\n",
       "            -3.9777354434999995e7,\n",
       "            1.365689168935e9\n",
       "        ],\n",
       "        \"domain\": [\n",
       "            0.07581474190726165,\n",
       "            0.9415463692038496\n",
       "        ],\n",
       "        \"mirror\": false,\n",
       "        \"tickangle\": 0,\n",
       "        \"showline\": true,\n",
       "        \"ticktext\": [\n",
       "            \"0\",\n",
       "            \"2.0×10<sup>8</sup>\",\n",
       "            \"4.0×10<sup>8</sup>\",\n",
       "            \"6.0×10<sup>8</sup>\",\n",
       "            \"8.0×10<sup>8</sup>\",\n",
       "            \"1.0×10<sup>9</sup>\",\n",
       "            \"1.2×10<sup>9</sup>\"\n",
       "        ],\n",
       "        \"zeroline\": false,\n",
       "        \"tickfont\": {\n",
       "            \"color\": \"rgba(0, 0, 0, 1.000)\",\n",
       "            \"family\": \"sans-serif\",\n",
       "            \"size\": 11\n",
       "        },\n",
       "        \"zerolinecolor\": \"rgba(0, 0, 0, 1.000)\",\n",
       "        \"anchor\": \"x\",\n",
       "        \"visible\": true,\n",
       "        \"ticks\": \"inside\",\n",
       "        \"tickmode\": \"array\",\n",
       "        \"linecolor\": \"rgba(0, 0, 0, 1.000)\",\n",
       "        \"showgrid\": true,\n",
       "        \"title\": \"czas w ns\",\n",
       "        \"gridcolor\": \"rgba(0, 0, 0, 0.100)\",\n",
       "        \"titlefont\": {\n",
       "            \"color\": \"rgba(0, 0, 0, 1.000)\",\n",
       "            \"family\": \"sans-serif\",\n",
       "            \"size\": 15\n",
       "        },\n",
       "        \"tickcolor\": \"rgb(0, 0, 0)\",\n",
       "        \"type\": \"-\"\n",
       "    },\n",
       "    \"legend\": {\n",
       "        \"yanchor\": \"auto\",\n",
       "        \"xanchor\": \"auto\",\n",
       "        \"bordercolor\": \"rgba(0, 0, 0, 1.000)\",\n",
       "        \"bgcolor\": \"rgba(255, 255, 255, 1.000)\",\n",
       "        \"borderwidth\": 1,\n",
       "        \"tracegroupgap\": 0,\n",
       "        \"y\": 1.0,\n",
       "        \"font\": {\n",
       "            \"color\": \"rgba(0, 0, 0, 1.000)\",\n",
       "            \"family\": \"sans-serif\",\n",
       "            \"size\": 11\n",
       "        },\n",
       "        \"title\": {\n",
       "            \"font\": {\n",
       "                \"color\": \"rgba(0, 0, 0, 1.000)\",\n",
       "                \"family\": \"sans-serif\",\n",
       "                \"size\": 15\n",
       "            },\n",
       "            \"text\": \"\"\n",
       "        },\n",
       "        \"traceorder\": \"normal\",\n",
       "        \"x\": 1.0\n",
       "    },\n",
       "    \"width\": 600\n",
       "}\n",
       ");\n",
       "\n",
       "    });\n",
       "    </script>\n",
       "\n",
       "    </body>\n",
       "</html>\n"
      ]
     },
     "execution_count": 43,
     "metadata": {},
     "output_type": "execute_result"
    }
   ],
   "source": [
    "plotly()\n",
    "@df df plot(:n, [:QuickSort :MergeSort :RadixSort :BitonicSort :GPUJuliaSort], title = \"Czas sortowania\", xlabel=\"rozmiar tablicy n\", ylabel=\"czas w ns\", lw = 3) # , label=[\"Quick Sort\", \"Merge Sort\", \"Radix Sort\"]"
   ]
  },
  {
   "cell_type": "code",
   "execution_count": 165,
   "id": "pointed-narrow",
   "metadata": {},
   "outputs": [
    {
     "data": {
      "text/plain": [
       "\"sort_times.csv\""
      ]
     },
     "execution_count": 165,
     "metadata": {},
     "output_type": "execute_result"
    }
   ],
   "source": [
    "CSV.write(\"sort_times.csv\", df)"
   ]
  },
  {
   "cell_type": "code",
   "execution_count": 24,
   "id": "following-foster",
   "metadata": {},
   "outputs": [
    {
     "data": {
      "text/html": [
       "<table class=\"data-frame\"><thead><tr><th></th><th>n</th><th>QuickSort</th><th>MergeSort</th><th>RadixSort</th><th>BitonicSort</th></tr><tr><th></th><th>Int64</th><th>Float64</th><th>Float64</th><th>Float64</th><th>Float64</th></tr></thead><tbody><p>12 rows × 5 columns</p><tr><th>1</th><td>16</td><td>42.3692</td><td>107.648</td><td>13759.9</td><td>0.0</td></tr><tr><th>2</th><td>64</td><td>183.483</td><td>373.466</td><td>12916.7</td><td>0.0</td></tr><tr><th>3</th><td>256</td><td>874.116</td><td>1521.13</td><td>13074.2</td><td>1.45554e5</td></tr><tr><th>4</th><td>1024</td><td>4014.71</td><td>8203.55</td><td>19745.8</td><td>2.06584e5</td></tr><tr><th>5</th><td>4096</td><td>17869.5</td><td>34323.3</td><td>39611.0</td><td>2.85016e5</td></tr><tr><th>6</th><td>16384</td><td>78665.2</td><td>1.58184e5</td><td>1.31129e5</td><td>378903.0</td></tr><tr><th>7</th><td>65536</td><td>347456.0</td><td>7.32903e5</td><td>5.24994e5</td><td>4.8088e5</td></tr><tr><th>8</th><td>262144</td><td>1.52528e6</td><td>3.32911e6</td><td>2.04432e6</td><td>6.83008e5</td></tr><tr><th>9</th><td>1048576</td><td>7.09009e6</td><td>1.52831e7</td><td>8.90398e6</td><td>1.81625e6</td></tr><tr><th>10</th><td>4194304</td><td>3.54505e7</td><td>7.39623e7</td><td>3.80996e7</td><td>1.40742e7</td></tr><tr><th>11</th><td>16777216</td><td>1.74437e8</td><td>3.17897e8</td><td>1.67205e8</td><td>6.39715e7</td></tr><tr><th>12</th><td>67108864</td><td>9.87802e8</td><td>1.32591e9</td><td>7.02327e8</td><td>2.93919e8</td></tr></tbody></table>"
      ],
      "text/latex": [
       "\\begin{tabular}{r|ccccc}\n",
       "\t& n & QuickSort & MergeSort & RadixSort & BitonicSort\\\\\n",
       "\t\\hline\n",
       "\t& Int64 & Float64 & Float64 & Float64 & Float64\\\\\n",
       "\t\\hline\n",
       "\t1 & 16 & 42.3692 & 107.648 & 13759.9 & 0.0 \\\\\n",
       "\t2 & 64 & 183.483 & 373.466 & 12916.7 & 0.0 \\\\\n",
       "\t3 & 256 & 874.116 & 1521.13 & 13074.2 & 1.45554e5 \\\\\n",
       "\t4 & 1024 & 4014.71 & 8203.55 & 19745.8 & 2.06584e5 \\\\\n",
       "\t5 & 4096 & 17869.5 & 34323.3 & 39611.0 & 2.85016e5 \\\\\n",
       "\t6 & 16384 & 78665.2 & 1.58184e5 & 1.31129e5 & 378903.0 \\\\\n",
       "\t7 & 65536 & 347456.0 & 7.32903e5 & 5.24994e5 & 4.8088e5 \\\\\n",
       "\t8 & 262144 & 1.52528e6 & 3.32911e6 & 2.04432e6 & 6.83008e5 \\\\\n",
       "\t9 & 1048576 & 7.09009e6 & 1.52831e7 & 8.90398e6 & 1.81625e6 \\\\\n",
       "\t10 & 4194304 & 3.54505e7 & 7.39623e7 & 3.80996e7 & 1.40742e7 \\\\\n",
       "\t11 & 16777216 & 1.74437e8 & 3.17897e8 & 1.67205e8 & 6.39715e7 \\\\\n",
       "\t12 & 67108864 & 9.87802e8 & 1.32591e9 & 7.02327e8 & 2.93919e8 \\\\\n",
       "\\end{tabular}\n"
      ],
      "text/plain": [
       "\u001b[1m12×5 DataFrame\u001b[0m\n",
       "\u001b[1m Row \u001b[0m│\u001b[1m n        \u001b[0m\u001b[1m QuickSort      \u001b[0m\u001b[1m MergeSort     \u001b[0m\u001b[1m RadixSort     \u001b[0m\u001b[1m BitonicSort    \u001b[0m\n",
       "\u001b[1m     \u001b[0m│\u001b[90m Int64    \u001b[0m\u001b[90m Float64        \u001b[0m\u001b[90m Float64       \u001b[0m\u001b[90m Float64       \u001b[0m\u001b[90m Float64        \u001b[0m\n",
       "─────┼────────────────────────────────────────────────────────────────────────\n",
       "   1 │       16      42.3692       107.648      13759.9             0.0\n",
       "   2 │       64     183.483        373.466      12916.7             0.0\n",
       "   3 │      256     874.116       1521.13       13074.2             1.45554e5\n",
       "   4 │     1024    4014.71        8203.55       19745.8             2.06584e5\n",
       "   5 │     4096   17869.5        34323.3        39611.0             2.85016e5\n",
       "   6 │    16384   78665.2            1.58184e5      1.31129e5  378903.0\n",
       "   7 │    65536  347456.0            7.32903e5      5.24994e5       4.8088e5\n",
       "   8 │   262144       1.52528e6      3.32911e6      2.04432e6       6.83008e5\n",
       "   9 │  1048576       7.09009e6      1.52831e7      8.90398e6       1.81625e6\n",
       "  10 │  4194304       3.54505e7      7.39623e7      3.80996e7       1.40742e7\n",
       "  11 │ 16777216       1.74437e8      3.17897e8      1.67205e8       6.39715e7\n",
       "  12 │ 67108864       9.87802e8      1.32591e9      7.02327e8       2.93919e8"
      ]
     },
     "execution_count": 24,
     "metadata": {},
     "output_type": "execute_result"
    }
   ],
   "source": [
    "df = CSV.read(\"sort_times.csv\", DataFrame)"
   ]
  },
  {
   "cell_type": "code",
   "execution_count": 41,
   "id": "downtown-dublin",
   "metadata": {},
   "outputs": [],
   "source": [
    "df = DataFrame(n=nn, QuickSort = df[!,\"QuickSort\"], MergeSort = df[!,\"MergeSort\"], RadixSort = df[!,\"RadixSort\"], BitonicSort=df[!,\"BitonicSort\"], GPUJuliaSort=js_times);"
   ]
  },
  {
   "cell_type": "code",
   "execution_count": 42,
   "id": "aggregate-college",
   "metadata": {},
   "outputs": [
    {
     "data": {
      "text/html": [
       "<table class=\"data-frame\"><thead><tr><th></th><th>n</th><th>QuickSort</th><th>MergeSort</th><th>RadixSort</th><th>BitonicSort</th><th>GPUJuliaSort</th></tr><tr><th></th><th>Int64</th><th>Float64</th><th>Float64</th><th>Float64</th><th>Float64</th><th>Float64</th></tr></thead><tbody><p>12 rows × 6 columns</p><tr><th>1</th><td>16</td><td>42.3692</td><td>107.648</td><td>13759.9</td><td>0.0</td><td>62488.0</td></tr><tr><th>2</th><td>64</td><td>183.483</td><td>373.466</td><td>12916.7</td><td>0.0</td><td>69632.2</td></tr><tr><th>3</th><td>256</td><td>874.116</td><td>1521.13</td><td>13074.2</td><td>1.45554e5</td><td>1.16693e5</td></tr><tr><th>4</th><td>1024</td><td>4014.71</td><td>8203.55</td><td>19745.8</td><td>2.06584e5</td><td>4.46004e6</td></tr><tr><th>5</th><td>4096</td><td>17869.5</td><td>34323.3</td><td>39611.0</td><td>2.85016e5</td><td>6.63177e6</td></tr><tr><th>6</th><td>16384</td><td>78665.2</td><td>1.58184e5</td><td>1.31129e5</td><td>378903.0</td><td>8.44375e6</td></tr><tr><th>7</th><td>65536</td><td>347456.0</td><td>7.32903e5</td><td>5.24994e5</td><td>4.8088e5</td><td>1.18078e7</td></tr><tr><th>8</th><td>262144</td><td>1.52528e6</td><td>3.32911e6</td><td>2.04432e6</td><td>6.83008e5</td><td>1.81293e7</td></tr><tr><th>9</th><td>1048576</td><td>7.09009e6</td><td>1.52831e7</td><td>8.90398e6</td><td>1.81625e6</td><td>4.63935e7</td></tr><tr><th>10</th><td>4194304</td><td>3.54505e7</td><td>7.39623e7</td><td>3.80996e7</td><td>1.40742e7</td><td>1.62407e8</td></tr><tr><th>11</th><td>16777216</td><td>1.74437e8</td><td>3.17897e8</td><td>1.67205e8</td><td>6.39715e7</td><td>6.49382e8</td></tr><tr><th>12</th><td>67108864</td><td>9.87802e8</td><td>1.32591e9</td><td>7.02327e8</td><td>2.93919e8</td><td>0.0</td></tr></tbody></table>"
      ],
      "text/latex": [
       "\\begin{tabular}{r|cccccc}\n",
       "\t& n & QuickSort & MergeSort & RadixSort & BitonicSort & GPUJuliaSort\\\\\n",
       "\t\\hline\n",
       "\t& Int64 & Float64 & Float64 & Float64 & Float64 & Float64\\\\\n",
       "\t\\hline\n",
       "\t1 & 16 & 42.3692 & 107.648 & 13759.9 & 0.0 & 62488.0 \\\\\n",
       "\t2 & 64 & 183.483 & 373.466 & 12916.7 & 0.0 & 69632.2 \\\\\n",
       "\t3 & 256 & 874.116 & 1521.13 & 13074.2 & 1.45554e5 & 1.16693e5 \\\\\n",
       "\t4 & 1024 & 4014.71 & 8203.55 & 19745.8 & 2.06584e5 & 4.46004e6 \\\\\n",
       "\t5 & 4096 & 17869.5 & 34323.3 & 39611.0 & 2.85016e5 & 6.63177e6 \\\\\n",
       "\t6 & 16384 & 78665.2 & 1.58184e5 & 1.31129e5 & 378903.0 & 8.44375e6 \\\\\n",
       "\t7 & 65536 & 347456.0 & 7.32903e5 & 5.24994e5 & 4.8088e5 & 1.18078e7 \\\\\n",
       "\t8 & 262144 & 1.52528e6 & 3.32911e6 & 2.04432e6 & 6.83008e5 & 1.81293e7 \\\\\n",
       "\t9 & 1048576 & 7.09009e6 & 1.52831e7 & 8.90398e6 & 1.81625e6 & 4.63935e7 \\\\\n",
       "\t10 & 4194304 & 3.54505e7 & 7.39623e7 & 3.80996e7 & 1.40742e7 & 1.62407e8 \\\\\n",
       "\t11 & 16777216 & 1.74437e8 & 3.17897e8 & 1.67205e8 & 6.39715e7 & 6.49382e8 \\\\\n",
       "\t12 & 67108864 & 9.87802e8 & 1.32591e9 & 7.02327e8 & 2.93919e8 & 0.0 \\\\\n",
       "\\end{tabular}\n"
      ],
      "text/plain": [
       "\u001b[1m12×6 DataFrame\u001b[0m\n",
       "\u001b[1m Row \u001b[0m│\u001b[1m n        \u001b[0m\u001b[1m QuickSort      \u001b[0m\u001b[1m MergeSort     \u001b[0m\u001b[1m RadixSort     \u001b[0m\u001b[1m BitonicSort    \u001b[0m\u001b[1m\u001b[0m ⋯\n",
       "\u001b[1m     \u001b[0m│\u001b[90m Int64    \u001b[0m\u001b[90m Float64        \u001b[0m\u001b[90m Float64       \u001b[0m\u001b[90m Float64       \u001b[0m\u001b[90m Float64        \u001b[0m\u001b[90m\u001b[0m ⋯\n",
       "─────┼──────────────────────────────────────────────────────────────────────────\n",
       "   1 │       16      42.3692       107.648      13759.9             0.0        ⋯\n",
       "   2 │       64     183.483        373.466      12916.7             0.0\n",
       "   3 │      256     874.116       1521.13       13074.2             1.45554e5\n",
       "   4 │     1024    4014.71        8203.55       19745.8             2.06584e5\n",
       "   5 │     4096   17869.5        34323.3        39611.0             2.85016e5  ⋯\n",
       "   6 │    16384   78665.2            1.58184e5      1.31129e5  378903.0\n",
       "   7 │    65536  347456.0            7.32903e5      5.24994e5       4.8088e5\n",
       "   8 │   262144       1.52528e6      3.32911e6      2.04432e6       6.83008e5\n",
       "   9 │  1048576       7.09009e6      1.52831e7      8.90398e6       1.81625e6  ⋯\n",
       "  10 │  4194304       3.54505e7      7.39623e7      3.80996e7       1.40742e7\n",
       "  11 │ 16777216       1.74437e8      3.17897e8      1.67205e8       6.39715e7\n",
       "  12 │ 67108864       9.87802e8      1.32591e9      7.02327e8       2.93919e8\n",
       "\u001b[36m                                                                1 column omitted\u001b[0m"
      ]
     },
     "execution_count": 42,
     "metadata": {},
     "output_type": "execute_result"
    }
   ],
   "source": [
    "df"
   ]
  },
  {
   "cell_type": "code",
   "execution_count": 125,
   "id": "floral-prince",
   "metadata": {},
   "outputs": [
    {
     "name": "stdout",
     "output_type": "stream",
     "text": [
      "67108864 2.939187552777778e8 "
     ]
    },
    {
     "data": {
      "text/plain": [
       "10-element Vector{Any}:\n",
       " 145554.4752\n",
       " 206584.4678\n",
       " 285015.8622\n",
       " 378903.0477\n",
       " 480880.1595\n",
       " 683007.69656883\n",
       "      1.8162506839416057e6\n",
       "      1.4074233828169014e7\n",
       "      6.397147298734177e7\n",
       "      2.939187552777778e8"
      ]
     },
     "execution_count": 125,
     "metadata": {},
     "output_type": "execute_result"
    }
   ],
   "source": [
    "# bs_times = []\n",
    "\n",
    "# for n in nn\n",
    "#     shared = rand(Float32, n)\n",
    "#     cushared = cu(shared)\n",
    "\n",
    "#     a = @benchmark bitonicsort!(cushared)\n",
    "#     ma = mean(a.times)\n",
    "    \n",
    "#     print(n)\n",
    "#     print(\" \")\n",
    "#     print(ma)\n",
    "#     print(\" \")\n",
    "#     append!(bs_times, ma)\n",
    "# end\n",
    "\n",
    "shared = rand(Float32, nn[12])\n",
    "cushared = cu(shared)\n",
    "\n",
    "a = @benchmark bitonicsort!(cushared)\n",
    "ma = mean(a.times)\n",
    "\n",
    "print(n)\n",
    "print(\" \")\n",
    "print(ma)\n",
    "print(\" \")\n",
    "append!(bs_times, ma)"
   ]
  },
  {
   "cell_type": "code",
   "execution_count": 131,
   "id": "suspected-undergraduate",
   "metadata": {},
   "outputs": [
    {
     "data": {
      "text/plain": [
       "12-element Vector{Any}:\n",
       "      0\n",
       "      0\n",
       " 145554.4752\n",
       " 206584.4678\n",
       " 285015.8622\n",
       " 378903.0477\n",
       " 480880.1595\n",
       " 683007.69656883\n",
       "      1.8162506839416057e6\n",
       "      1.4074233828169014e7\n",
       "      6.397147298734177e7\n",
       "      2.939187552777778e8"
      ]
     },
     "execution_count": 131,
     "metadata": {},
     "output_type": "execute_result"
    }
   ],
   "source": [
    "pushfirst!(bs_times, 0)"
   ]
  },
  {
   "cell_type": "code",
   "execution_count": 26,
   "id": "regional-marketplace",
   "metadata": {},
   "outputs": [
    {
     "data": {
      "text/plain": [
       "BenchmarkTools.Trial: \n",
       "  memory estimate:  0 bytes\n",
       "  allocs estimate:  0\n",
       "  --------------\n",
       "  minimum time:     173.422 ns (0.00% GC)\n",
       "  median time:      176.636 ns (0.00% GC)\n",
       "  mean time:        184.797 ns (0.00% GC)\n",
       "  maximum time:     544.871 ns (0.00% GC)\n",
       "  --------------\n",
       "  samples:          10000\n",
       "  evals/sample:     728"
      ]
     },
     "execution_count": 26,
     "metadata": {},
     "output_type": "execute_result"
    }
   ],
   "source": [
    "sort_arr = rand(Float32, nn[2]);\n",
    "a = @benchmark sort!(arr; alg=QuickSort) setup=(arr=sort_arr)"
   ]
  },
  {
   "cell_type": "code",
   "execution_count": 43,
   "id": "motivated-anderson",
   "metadata": {},
   "outputs": [
    {
     "data": {
      "text/plain": [
       "184.79710934065935"
      ]
     },
     "execution_count": 43,
     "metadata": {},
     "output_type": "execute_result"
    }
   ],
   "source": [
    "mean(a.times)"
   ]
  },
  {
   "cell_type": "markdown",
   "id": "regulation-administration",
   "metadata": {},
   "source": [
    "# Bitonicsort GPU\n",
    "\n",
    "https://en.wikipedia.org/wiki/Bitonic_sorter"
   ]
  },
  {
   "cell_type": "code",
   "execution_count": 57,
   "id": "weighted-lunch",
   "metadata": {},
   "outputs": [
    {
     "data": {
      "text/plain": [
       "bitonicsort! (generic function with 1 method)"
      ]
     },
     "execution_count": 57,
     "metadata": {},
     "output_type": "execute_result"
    }
   ],
   "source": [
    "# sort kernel\n",
    "bisort!(shared, j, k) = begin\n",
    "  tid = UInt(((blockIdx().x - 1) * blockDim().x + threadIdx().x)-1)\n",
    "  ixj = tid⊻UInt(j)\n",
    "  if ixj > tid\n",
    "    if (tid & k) == 0\n",
    "        if shared[tid+1] > shared[ixj+1]\n",
    "          tmp = shared[ixj+1]\n",
    "          shared[ixj+1] = shared[tid+1]\n",
    "          shared[tid+1] = tmp\n",
    "        end\n",
    "    else\n",
    "        if shared[tid+1] < shared[ixj+1]\n",
    "          tmp = shared[ixj+1]\n",
    "          shared[ixj+1] = shared[tid+1]\n",
    "          shared[tid+1] = tmp\n",
    "        end\n",
    "    end\n",
    "  end\n",
    "  return\n",
    "end\n",
    "\n",
    "n_threat = 256\n",
    "\n",
    "bitonicsort!(cushared) = begin\n",
    "  CUDA.@sync begin\n",
    "    k = UInt(2)\n",
    "    NUM = length(cushared)\n",
    "    nblocks = ceil(NUM/n_threat) |> Int\n",
    "    while (k <= NUM)\n",
    "      j = div(k, 2)\n",
    "      while j >= 1\n",
    "        @cuda threads = n_threat blocks = nblocks bisort!(cushared, j, k)\n",
    "        j =  div(j,2)\n",
    "      end\n",
    "      k = UInt(k*2)\n",
    "    end\n",
    "  end\n",
    "end"
   ]
  },
  {
   "cell_type": "code",
   "execution_count": 6,
   "id": "victorian-principal",
   "metadata": {},
   "outputs": [
    {
     "name": "stdout",
     "output_type": "stream",
     "text": [
      "  708.839 ms (10 allocations: 256.09 MiB)\n"
     ]
    },
    {
     "data": {
      "text/plain": [
       "10-element Vector{Float64}:\n",
       " 9.993438632\n",
       " 0.295888018\n",
       " 0.295029303\n",
       " 0.309847274\n",
       " 0.295880691\n",
       " 0.319390669\n",
       " 0.313881531\n",
       " 0.324470671\n",
       " 0.3172449\n",
       " 0.305680283"
      ]
     },
     "execution_count": 6,
     "metadata": {},
     "output_type": "execute_result"
    }
   ],
   "source": [
    "shared = rand(Float32, 2^26)\n",
    "\n",
    "using SortingAlgorithms\n",
    "shared = rand(Float32, 2^26)\n",
    "@btime sort!($shared, alg=RadixSort) #735.216\n",
    "\n",
    "shared = rand(Float32, 2^26)\n",
    "\n",
    "\n",
    "\n",
    "using BenchmarkTools\n",
    "res = Float64[]\n",
    "using Flux\n",
    "for i = 1:10\n",
    "  cushared = cu(shared)\n",
    "#   cpu(cushared) |> issorted |> println\n",
    "  t = Base.@elapsed bitonicsort!(cushared)\n",
    "#   cpu(cushared) |> issorted |> println\n",
    "  push!(res, t)\n",
    "end\n",
    "\n",
    "res"
   ]
  },
  {
   "cell_type": "code",
   "execution_count": 7,
   "id": "square-classroom",
   "metadata": {},
   "outputs": [],
   "source": [
    "shared = rand(Float32, 2^26)\n",
    "cushared = cu(shared)\n",
    "bitonicsort!(cushared)"
   ]
  },
  {
   "cell_type": "code",
   "execution_count": 8,
   "id": "resident-spotlight",
   "metadata": {},
   "outputs": [
    {
     "data": {
      "text/plain": [
       "BenchmarkTools.Trial: \n",
       "  memory estimate:  98.88 KiB\n",
       "  allocs estimate:  3168\n",
       "  --------------\n",
       "  minimum time:     293.048 ms (0.00% GC)\n",
       "  median time:      293.547 ms (0.00% GC)\n",
       "  mean time:        293.597 ms (0.00% GC)\n",
       "  maximum time:     294.007 ms (0.00% GC)\n",
       "  --------------\n",
       "  samples:          18\n",
       "  evals/sample:     1"
      ]
     },
     "execution_count": 8,
     "metadata": {},
     "output_type": "execute_result"
    }
   ],
   "source": [
    "shared = rand(Float32, 2^26)\n",
    "cushared = cu(shared)\n",
    "bitonicsort!(cushared)\n",
    "@benchmark bitonicsort!(cushared)"
   ]
  },
  {
   "cell_type": "markdown",
   "id": "accepted-prince",
   "metadata": {},
   "source": [
    "# BitonicSort2"
   ]
  },
  {
   "cell_type": "code",
   "execution_count": 61,
   "id": "collaborative-raise",
   "metadata": {},
   "outputs": [
    {
     "data": {
      "text/plain": [
       "bitonicsort2! (generic function with 1 method)"
      ]
     },
     "execution_count": 61,
     "metadata": {},
     "output_type": "execute_result"
    }
   ],
   "source": [
    "# Code based on: https://discourse.julialang.org/t/gpu-sort-wip-gpu-1000x-faster-than-cpu-i-must-be-doing-something-wrong/20310/4\n",
    "# bitonic sorts a vector of any length.\n",
    "using CUDA\n",
    "function bisort!(shared, j, k) \n",
    "    tid = UInt(((blockIdx().x - 1) * blockDim().x + threadIdx().x)-1)\n",
    "    ixj = tid⊻UInt(j)\n",
    "    if ixj > tid\n",
    "        if (tid & k) == 0\n",
    "            if shared[tid+1] > shared[ixj+1]\n",
    "                tmp = shared[ixj+1]\n",
    "                shared[ixj+1] = shared[tid+1]\n",
    "                shared[tid+1] = tmp\n",
    "            end\n",
    "        else\n",
    "            if shared[tid+1] < shared[ixj+1]\n",
    "                tmp = shared[ixj+1]\n",
    "                shared[ixj+1] = shared[tid+1]\n",
    "                shared[tid+1] = tmp\n",
    "            end\n",
    "        end\n",
    "    end\n",
    "    return\n",
    "end\n",
    "\n",
    "function bitonicsort_pow2!(cushared) \n",
    "    CUDA.@sync begin\n",
    "        k = UInt(2)\n",
    "        NUM = length(cushared)\n",
    "        nblocks = ceil(NUM/256) |> Int\n",
    "        while (k <= NUM)\n",
    "            j = div(k, 2)\n",
    "            while j >= 1\n",
    "                @cuda threads = 256 blocks = nblocks bisort!(cushared, j, k)\n",
    "                j =  div(j,2)\n",
    "            end\n",
    "            k = UInt(k*2)\n",
    "        end\n",
    "    end\n",
    "end\n",
    "\n",
    "function bitonicsort2!(cushared)\n",
    "    N = length(cushared)\n",
    "    K = convert(Int, ceil(log2(N)))\n",
    "    paddedlen = 1<<K\n",
    "    cushared2 = similar(cushared, paddedlen)\n",
    "    fill!(cushared2, Inf)\n",
    "    cushared2[1:N] .= @view cushared[1:N]\n",
    "    bitonicsort_pow2!(cushared2)\n",
    "    cushared .= @view cushared2[1:N]\n",
    "    cushared\n",
    "end"
   ]
  },
  {
   "cell_type": "markdown",
   "id": "coordinated-apparel",
   "metadata": {},
   "source": [
    "# Merge Sort"
   ]
  },
  {
   "cell_type": "code",
   "execution_count": 65,
   "id": "mental-pepper",
   "metadata": {},
   "outputs": [
    {
     "data": {
      "text/plain": [
       "mergesort! (generic function with 1 method)"
      ]
     },
     "execution_count": 65,
     "metadata": {},
     "output_type": "execute_result"
    }
   ],
   "source": [
    "# using CUDA\n",
    "function gpu_bottomUpMerge!(source, dest, first, middle, last)\n",
    "    i = first\n",
    "    j = middle\n",
    "    for k = first:last\n",
    "        if i < middle && (j > last || source[i] < source[j])\n",
    "            dest[k] = source[i]\n",
    "            i += 1\n",
    "        else\n",
    "            dest[k] = source[j]\n",
    "            j += 1\n",
    "        end\n",
    "    end\n",
    "end\n",
    "\n",
    "function gpu_mergesort!(source, dest, size, width, slices)\n",
    "    idx = (blockIdx().x - 1) * blockDim().x + threadIdx().x \n",
    "    first = width * (idx - 1) * slices + 1\n",
    "    for slice = 1:slices\n",
    "        if first > size\n",
    "            break\n",
    "        end\n",
    "        middle = min(first + (width >> 1), size)\n",
    "        last = min(first + width - 1, size)\n",
    "        gpu_bottomUpMerge!(source, dest, first, middle, last)\n",
    "        first += width\n",
    "    end\n",
    "end\n",
    "\n",
    "function mergesort!(data; verbose=false)\n",
    "    size = length(data)\n",
    "    data_swap = similar(data)\n",
    "    A = data\n",
    "    B = data_swap\n",
    "    nThreads = 512\n",
    "    width = 2\n",
    "    while width < (size << 1)\n",
    "        slices = size ÷ (nThreads * width) + 1\n",
    "        if verbose\n",
    "            println(\"mergesort - width: $width, slices: $slices, nThreads: $nThreads\")\n",
    "        end\n",
    "        @cuda threads=nThreads gpu_mergesort!(A, B, size, width, slices)\n",
    "        A, B = B, A\n",
    "        width <<= 1\n",
    "    end\n",
    "    return A\n",
    "end"
   ]
  },
  {
   "cell_type": "markdown",
   "id": "regulation-greensboro",
   "metadata": {},
   "source": [
    "# Quicksort GPU"
   ]
  },
  {
   "cell_type": "code",
   "execution_count": 44,
   "id": "labeled-blank",
   "metadata": {},
   "outputs": [
    {
     "data": {
      "text/plain": [
       "true"
      ]
     },
     "execution_count": 44,
     "metadata": {},
     "output_type": "execute_result"
    }
   ],
   "source": [
    "const MAX_DEPTH = 16\n",
    "const SELECTION_SORT = 32\n",
    "\n",
    "function selection_sort(data, left, right)\n",
    "    @inbounds for i in left:right\n",
    "        min_val = data[i]\n",
    "        min_idx = i\n",
    "\n",
    "        # find the smallest value in the range [left, right]\n",
    "        for j in i+1:right\n",
    "            val_j = data[j]\n",
    "            if val_j < min_val\n",
    "                min_idx = j\n",
    "                min_val = val_j\n",
    "            end\n",
    "        end\n",
    "\n",
    "        # swap the values\n",
    "        if i != min_idx\n",
    "            data[min_idx] = data[i]\n",
    "            data[i] = min_val\n",
    "        end\n",
    "    end\n",
    "end\n",
    "\n",
    "function quicksort(data, left, right, depth)\n",
    "    # If we're too deep or there are few elements left, we use an insertion sort...\n",
    "    if depth >= MAX_DEPTH || right-left <= SELECTION_SORT\n",
    "        selection_sort(data, left, right)\n",
    "        return\n",
    "    end\n",
    "\n",
    "    lptr = left\n",
    "    rptr = right\n",
    "    pivot = @inbounds data[(left+right)÷2]\n",
    "\n",
    "    # do the partitioning\n",
    "    @inbounds while lptr <= rptr\n",
    "        # find the next left- and right-hand values to swap\n",
    "        lval = data[lptr]\n",
    "        rval = data[rptr]\n",
    "\n",
    "        # move the left pointer as long as the pointed element is smaller than the pivot\n",
    "        while lval < pivot && lptr < right\n",
    "            lptr += 1\n",
    "            lval = data[lptr]\n",
    "        end\n",
    "\n",
    "        # move the right pointer as long as the pointed element is larger than the pivot\n",
    "        while rval > pivot && rptr > left\n",
    "            rptr -= 1\n",
    "            rval = data[rptr]\n",
    "        end\n",
    "\n",
    "        # if the swap points are valid, do the swap!\n",
    "        if lptr <= rptr\n",
    "            data[lptr] = rval\n",
    "            data[rptr] = lval\n",
    "            lptr += 1\n",
    "            rptr -= 1\n",
    "        end\n",
    "    end\n",
    "\n",
    "    # launch a new block to sort the left part\n",
    "    if left < rptr\n",
    "        s = CuDeviceStream()\n",
    "        @cuda dynamic=true stream=s quicksort(data, left, rptr, depth+1)\n",
    "        CUDAnative.unsafe_destroy!(s)\n",
    "    end\n",
    "\n",
    "    # launch a new block to sort the right part\n",
    "    if lptr < right\n",
    "        s = CuDeviceStream()\n",
    "        @cuda dynamic=true stream=s quicksort(data, lptr, right, depth+1)\n",
    "        CUDAnative.unsafe_destroy!(s)\n",
    "    end\n",
    "\n",
    "    return\n",
    "end\n",
    "\n",
    "function Base.sort!(a::CuArray)\n",
    "    limit!(CUDAdrv.LIMIT_DEV_RUNTIME_SYNC_DEPTH, MAX_DEPTH)\n",
    "    left = 1\n",
    "    right = length(a)\n",
    "    @cuda quicksort(a, left, right, 0)\n",
    "    return a\n",
    "end\n",
    "\n",
    "\n",
    "using Test\n",
    "using BenchmarkTools\n",
    "\n",
    "function main(N=1000)\n",
    "    a = rand(N)\n",
    "\n",
    "    bm = @benchmark sort!(a) setup=(a = copy($a))\n",
    "    println(1)\n",
    "    println(mean(bm.times))\n",
    "    \n",
    "    b = CuArray(a)\n",
    "    @test sort!(copy(a)) == Array(sort!(copy(b)))\n",
    "\n",
    "#     CUDA.@profile for i in 1:10\n",
    "#         sort!(copy(b))\n",
    "#     end\n",
    "\n",
    "    bm = @benchmark CUDA.@sync(sort!(b)) setup=(b = copy($b))\n",
    "    println(2)\n",
    "    println(mean(bm.times))\n",
    "    \n",
    "    @btime begin\n",
    "        x = Array(b)\n",
    "        sort!(b)\n",
    "        copyto!(x, b)\n",
    "    end setup=(b = copy($b))\n",
    "\n",
    "    return\n",
    "end\n",
    "\n",
    "function quicksort_gpu!(a)\n",
    "    b = CuArray(a)\n",
    "\n",
    "    a = @benchmark CUDA.@sync(sort!(b)) setup=(b = copy($b))\n",
    "    println(mean(a))\n",
    "    \n",
    "    return\n",
    "end\n",
    "\n",
    "isinteractive() || main()"
   ]
  },
  {
   "cell_type": "code",
   "execution_count": null,
   "id": "agreed-burns",
   "metadata": {},
   "outputs": [],
   "source": [
    "[62828.8007 80786.3343 213027.2962 6.086803043209877e6 9.825459642857144e6 1.2431816874686716e7 1.6527301823333334e7]"
   ]
  },
  {
   "cell_type": "code",
   "execution_count": 27,
   "id": "indoor-certification",
   "metadata": {},
   "outputs": [
    {
     "name": "stdout",
     "output_type": "stream",
     "text": [
      "1\n",
      "35.63391468812877\n",
      "2\n",
      "62828.8007\n",
      "  32.865 μs (41 allocations: 1.66 KiB)\n",
      "###\n",
      "1\n",
      "175.1316426923077\n",
      "2\n",
      "80786.3343\n",
      "  42.124 μs (41 allocations: 2.06 KiB)\n",
      "###\n",
      "1\n",
      "909.4657957142856\n",
      "2\n",
      "213027.2962\n",
      "  139.931 μs (41 allocations: 3.58 KiB)\n",
      "###\n",
      "1\n",
      "5885.1503625\n",
      "2\n",
      "6.086803043209877e6\n",
      "  5.663 ms (45 allocations: 9.64 KiB)\n",
      "###\n",
      "1\n",
      "137987.5418\n",
      "2\n",
      "9.825459642857144e6\n",
      "  9.238 ms (46 allocations: 33.59 KiB)\n",
      "###\n",
      "1\n",
      "641385.320446393\n",
      "2\n",
      "1.2431816874686716e7\n",
      "  11.126 ms (46 allocations: 129.59 KiB)\n",
      "###\n",
      "1\n",
      "3.043778391441158e6\n",
      "2\n",
      "1.6527301823333334e7\n",
      "  16.545 ms (46 allocations: 513.59 KiB)\n",
      "###\n",
      "1\n",
      "1.4156345249266863e7\n",
      "ERROR: Out of dynamic GPU memory (trying to allocate 16 bytes)\n",
      "ERROR: a exception was thrown during kernel execution.\n",
      "       Run Julia on debug level 2 for device stack traces.\n"
     ]
    },
    {
     "ename": "LoadError",
     "evalue": "CUDA error: an illegal memory access was encountered (code 700, ERROR_ILLEGAL_ADDRESS)",
     "output_type": "error",
     "traceback": [
      "CUDA error: an illegal memory access was encountered (code 700, ERROR_ILLEGAL_ADDRESS)",
      "",
      "Stacktrace:",
      "  [1] throw_api_error(res::CUDA.cudaError_enum)",
      "    @ CUDA ~/.julia/packages/CUDA/M4jkK/lib/cudadrv/error.jl:97",
      "  [2] macro expansion",
      "    @ ~/.julia/packages/CUDA/M4jkK/lib/cudadrv/error.jl:104 [inlined]",
      "  [3] cuEventSynchronize",
      "    @ ~/.julia/packages/CUDA/M4jkK/lib/utils/call.jl:26 [inlined]",
      "  [4] synchronize",
      "    @ ~/.julia/packages/CUDA/M4jkK/lib/cudadrv/events.jl:52 [inlined]",
      "  [5] macro expansion",
      "    @ ~/.julia/packages/CUDA/M4jkK/src/utilities.jl:37 [inlined]",
      "  [6] var\"##core#756\"(b::CuArray{Float64, 1})",
      "    @ Main ~/.julia/packages/BenchmarkTools/ms0Xc/src/execution.jl:479",
      "  [7] var\"##sample#757\"(__params::BenchmarkTools.Parameters)",
      "    @ Main ~/.julia/packages/BenchmarkTools/ms0Xc/src/execution.jl:487",
      "  [8] _lineartrial(b::BenchmarkTools.Benchmark, p::BenchmarkTools.Parameters; maxevals::Int64, kwargs::Base.Iterators.Pairs{Union{}, Union{}, Tuple{}, NamedTuple{(), Tuple{}}})",
      "    @ BenchmarkTools ~/.julia/packages/BenchmarkTools/ms0Xc/src/execution.jl:160",
      "  [9] _lineartrial(b::BenchmarkTools.Benchmark, p::BenchmarkTools.Parameters)",
      "    @ BenchmarkTools ~/.julia/packages/BenchmarkTools/ms0Xc/src/execution.jl:152",
      " [10] #invokelatest#2",
      "    @ ./essentials.jl:708 [inlined]",
      " [11] invokelatest",
      "    @ ./essentials.jl:706 [inlined]",
      " [12] #lineartrial#39",
      "    @ ~/.julia/packages/BenchmarkTools/ms0Xc/src/execution.jl:34 [inlined]",
      " [13] lineartrial",
      "    @ ~/.julia/packages/BenchmarkTools/ms0Xc/src/execution.jl:34 [inlined]",
      " [14] tune!(b::BenchmarkTools.Benchmark, p::BenchmarkTools.Parameters; progressid::Nothing, nleaves::Float64, ndone::Float64, verbose::Bool, pad::String, kwargs::Base.Iterators.Pairs{Union{}, Union{}, Tuple{}, NamedTuple{(), Tuple{}}})",
      "    @ BenchmarkTools ~/.julia/packages/BenchmarkTools/ms0Xc/src/execution.jl:250",
      " [15] tune! (repeats 2 times)",
      "    @ ~/.julia/packages/BenchmarkTools/ms0Xc/src/execution.jl:249 [inlined]",
      " [16] macro expansion",
      "    @ ~/.julia/packages/BenchmarkTools/ms0Xc/src/execution.jl:388 [inlined]",
      " [17] main(N::Int64)",
      "    @ Main ./In[26]:107",
      " [18] top-level scope",
      "    @ ./In[27]:2",
      " [19] eval",
      "    @ ./boot.jl:360 [inlined]",
      " [20] include_string(mapexpr::typeof(REPL.softscope), mod::Module, code::String, filename::String)",
      "    @ Base ./loading.jl:1094"
     ]
    }
   ],
   "source": [
    "for n in nn\n",
    "    main(n)\n",
    "    println(\"###\")\n",
    "end"
   ]
  },
  {
   "cell_type": "code",
   "execution_count": 29,
   "id": "blessed-willow",
   "metadata": {},
   "outputs": [
    {
     "name": "stdout",
     "output_type": "stream",
     "text": [
      "1\n",
      "1.350538144537815e7\n"
     ]
    },
    {
     "ename": "LoadError",
     "evalue": "CUDA error: an illegal memory access was encountered (code 700, ERROR_ILLEGAL_ADDRESS)",
     "output_type": "error",
     "traceback": [
      "CUDA error: an illegal memory access was encountered (code 700, ERROR_ILLEGAL_ADDRESS)",
      "",
      "Stacktrace:",
      "  [1] throw_api_error(res::CUDA.cudaError_enum)",
      "    @ CUDA ~/.julia/packages/CUDA/M4jkK/lib/cudadrv/error.jl:97",
      "  [2] macro expansion",
      "    @ ~/.julia/packages/CUDA/M4jkK/lib/cudadrv/error.jl:104 [inlined]",
      "  [3] cuMemcpyHtoD_v2",
      "    @ ~/.julia/packages/CUDA/M4jkK/lib/utils/call.jl:26 [inlined]",
      "  [4] #unsafe_copyto!#7",
      "    @ ~/.julia/packages/CUDA/M4jkK/lib/cudadrv/memory.jl:395 [inlined]",
      "  [5] unsafe_copyto!",
      "    @ ~/.julia/packages/CUDA/M4jkK/lib/cudadrv/memory.jl:388 [inlined]",
      "  [6] unsafe_copyto!",
      "    @ ~/.julia/packages/CUDA/M4jkK/src/array.jl:290 [inlined]",
      "  [7] copyto!(dest::CuArray{Float64, 1}, doffs::Int64, src::Vector{Float64}, soffs::Int64, n::Int64)",
      "    @ CUDA ~/.julia/packages/CUDA/M4jkK/src/array.jl:254",
      "  [8] copyto!",
      "    @ ~/.julia/packages/CUDA/M4jkK/src/array.jl:258 [inlined]",
      "  [9] CuArray",
      "    @ ~/.julia/packages/CUDA/M4jkK/src/array.jl:191 [inlined]",
      " [10] CuArray",
      "    @ ~/.julia/packages/CUDA/M4jkK/src/array.jl:198 [inlined]",
      " [11] main(N::Int64)",
      "    @ Main ./In[26]:100",
      " [12] top-level scope",
      "    @ In[29]:1",
      " [13] eval",
      "    @ ./boot.jl:360 [inlined]",
      " [14] include_string(mapexpr::typeof(REPL.softscope), mod::Module, code::String, filename::String)",
      "    @ Base ./loading.jl:1094"
     ]
    }
   ],
   "source": [
    "main(nn[8])"
   ]
  },
  {
   "cell_type": "code",
   "execution_count": 21,
   "id": "located-healing",
   "metadata": {},
   "outputs": [
    {
     "ename": "LoadError",
     "evalue": "CUDA error: out of memory (code 2, ERROR_OUT_OF_MEMORY)",
     "output_type": "error",
     "traceback": [
      "CUDA error: out of memory (code 2, ERROR_OUT_OF_MEMORY)",
      "",
      "Stacktrace:",
      "  [1] throw_api_error(res::CUDA.cudaError_enum)",
      "    @ CUDA ~/.julia/packages/CUDA/M4jkK/lib/cudadrv/error.jl:97",
      "  [2] CuModule(data::Vector{UInt8}, options::Dict{CUDA.CUjit_option_enum, Any})",
      "    @ CUDA ~/.julia/packages/CUDA/M4jkK/lib/cudadrv/module.jl:47",
      "  [3] CuModule(img::CuLinkImage, options::Dict{CUDA.CUjit_option_enum, Any})",
      "    @ CUDA ~/.julia/packages/CUDA/M4jkK/lib/cudadrv/module/linker.jl:149",
      "  [4] cufunction_link(job::GPUCompiler.CompilerJob, compiled::NamedTuple{(:code, :entry, :needs_cudadevrt, :external_gvars), Tuple{String, String, Bool, Vector{String}}})",
      "    @ CUDA ~/.julia/packages/CUDA/M4jkK/src/compiler/execution.jl:352",
      "  [5] check_cache",
      "    @ ~/.julia/packages/GPUCompiler/XwWPj/src/cache.jl:53 [inlined]",
      "  [6] cached_compilation",
      "    @ ~/.julia/packages/CUDA/M4jkK/src/sorting.jl:326 [inlined]",
      "  [7] cached_compilation(cache::Dict{UInt64, Any}, job::GPUCompiler.CompilerJob{GPUCompiler.PTXCompilerTarget, CUDA.CUDACompilerParams, GPUCompiler.FunctionSpec{typeof(CUDA.Quicksort.qsort_kernel), Tuple{CuDeviceVector{Float32, 1}, Int64, Int64, Bool, Val{true}, Int64, Nothing, typeof(isless), typeof(identity), Val{1}}}}, compiler::typeof(CUDA.cufunction_compile), linker::typeof(CUDA.cufunction_link))",
      "    @ GPUCompiler ~/.julia/packages/GPUCompiler/XwWPj/src/cache.jl:0",
      "  [8] cufunction(f::typeof(CUDA.Quicksort.qsort_kernel), tt::Type{Tuple{CuDeviceVector{Float32, 1}, Int64, Int64, Bool, Val{true}, Int64, Nothing, typeof(isless), typeof(identity), Val{1}}}; name::Nothing, kwargs::Base.Iterators.Pairs{Union{}, Union{}, Tuple{}, NamedTuple{(), Tuple{}}})",
      "    @ CUDA ~/.julia/packages/CUDA/M4jkK/src/compiler/execution.jl:294",
      "  [9] cufunction(f::typeof(CUDA.Quicksort.qsort_kernel), tt::Type{Tuple{CuDeviceVector{Float32, 1}, Int64, Int64, Bool, Val{true}, Int64, Nothing, typeof(isless), typeof(identity), Val{1}}})",
      "    @ CUDA ~/.julia/packages/CUDA/M4jkK/src/compiler/execution.jl:288",
      " [10] macro expansion",
      "    @ ~/.julia/packages/CUDA/M4jkK/src/compiler/execution.jl:102 [inlined]",
      " [11] quicksort!(c::CuArray{Float32, 1}; lt::typeof(isless), by::typeof(identity), dims::Int64)",
      "    @ CUDA.Quicksort ~/.julia/packages/CUDA/M4jkK/src/sorting.jl:410",
      " [12] sort!(c::CuArray{Float32, 1}; lt::Function, by::Function, rev::Bool)",
      "    @ CUDA ~/.julia/packages/CUDA/M4jkK/src/sorting.jl:446",
      " [13] sort!",
      "    @ ~/.julia/packages/CUDA/M4jkK/src/sorting.jl:442 [inlined]",
      " [14] macro expansion",
      "    @ ~/.julia/packages/CUDA/M4jkK/src/utilities.jl:35 [inlined]",
      " [15] var\"##core#364\"(b::CuArray{Float32, 1})",
      "    @ Main ~/.julia/packages/BenchmarkTools/ms0Xc/src/execution.jl:479",
      " [16] var\"##sample#365\"(__params::BenchmarkTools.Parameters)",
      "    @ Main ~/.julia/packages/BenchmarkTools/ms0Xc/src/execution.jl:485",
      " [17] _run(b::BenchmarkTools.Benchmark, p::BenchmarkTools.Parameters; verbose::Bool, pad::String, kwargs::Base.Iterators.Pairs{Symbol, Integer, NTuple{4, Symbol}, NamedTuple{(:samples, :evals, :gctrial, :gcsample), Tuple{Int64, Int64, Bool, Bool}}})",
      "    @ BenchmarkTools ~/.julia/packages/BenchmarkTools/ms0Xc/src/execution.jl:98",
      " [18] #invokelatest#2",
      "    @ ./essentials.jl:710 [inlined]",
      " [19] #run_result#38",
      "    @ ~/.julia/packages/BenchmarkTools/ms0Xc/src/execution.jl:33 [inlined]",
      " [20] run(b::BenchmarkTools.Benchmark, p::BenchmarkTools.Parameters; progressid::Nothing, nleaves::Float64, ndone::Float64, kwargs::Base.Iterators.Pairs{Symbol, Integer, NTuple{5, Symbol}, NamedTuple{(:verbose, :samples, :evals, :gctrial, :gcsample), Tuple{Bool, Int64, Int64, Bool, Bool}}})",
      "    @ BenchmarkTools ~/.julia/packages/BenchmarkTools/ms0Xc/src/execution.jl:116",
      " [21] #warmup#47",
      "    @ ~/.julia/packages/BenchmarkTools/ms0Xc/src/execution.jl:168 [inlined]",
      " [22] warmup(item::BenchmarkTools.Benchmark)",
      "    @ BenchmarkTools ~/.julia/packages/BenchmarkTools/ms0Xc/src/execution.jl:168",
      " [23] macro expansion",
      "    @ ~/.julia/packages/BenchmarkTools/ms0Xc/src/execution.jl:565 [inlined]",
      " [24] quicksort_gpu!(a::CuArray{Float32, 1})",
      "    @ Main ./In[19]:119",
      " [25] top-level scope",
      "    @ In[21]:3",
      " [26] eval",
      "    @ ./boot.jl:360 [inlined]",
      " [27] include_string(mapexpr::typeof(REPL.softscope), mod::Module, code::String, filename::String)",
      "    @ Base ./loading.jl:1094"
     ]
    }
   ],
   "source": [
    "shared = rand(Float32, 1000)\n",
    "\n",
    "quicksort_gpu!(CuArray(shared))"
   ]
  },
  {
   "cell_type": "code",
   "execution_count": 19,
   "id": "scenic-certification",
   "metadata": {},
   "outputs": [
    {
     "data": {
      "text/plain": [
       "BenchmarkTools.Trial: \n",
       "  memory estimate:  411.75 KiB\n",
       "  allocs estimate:  11258\n",
       "  --------------\n",
       "  minimum time:     290.141 ms (0.00% GC)\n",
       "  median time:      293.546 ms (0.00% GC)\n",
       "  mean time:        293.503 ms (0.00% GC)\n",
       "  maximum time:     294.333 ms (0.00% GC)\n",
       "  --------------\n",
       "  samples:          18\n",
       "  evals/sample:     1"
      ]
     },
     "execution_count": 19,
     "metadata": {},
     "output_type": "execute_result"
    }
   ],
   "source": [
    "shared = rand(Float32, 2^26)\n",
    "cushared = cu(shared)\n",
    "\n",
    "@benchmark bitonicsort!(cushared)"
   ]
  },
  {
   "cell_type": "code",
   "execution_count": 32,
   "id": "hindu-french",
   "metadata": {},
   "outputs": [
    {
     "name": "stderr",
     "output_type": "stream",
     "text": [
      "┌ Warning: Performing scalar operations on GPU arrays: This is very slow, consider disallowing these operations with `allowscalar(false)`\n",
      "└ @ GPUArrays /home/dk/.julia/packages/GPUArrays/WV76E/src/host/indexing.jl:43\n"
     ]
    },
    {
     "data": {
      "text/plain": [
       "3-element CuArray{Float32, 1}:\n",
       " 0.0012321864\n",
       " 0.014328189\n",
       " 0.25416237"
      ]
     },
     "execution_count": 32,
     "metadata": {},
     "output_type": "execute_result"
    }
   ],
   "source": [
    "# shared = rand(Float32, 2^26)\n",
    "# cushared = cu(shared)\n",
    "\n",
    "# @benchmark quicksort!(cushared)\n",
    "\n",
    "x = CUDA.rand(10);\n",
    "\n",
    "partialsort(x, 1:3)"
   ]
  },
  {
   "cell_type": "code",
   "execution_count": 20,
   "id": "baking-penny",
   "metadata": {},
   "outputs": [
    {
     "data": {
      "text/plain": [
       "67108864"
      ]
     },
     "execution_count": 20,
     "metadata": {},
     "output_type": "execute_result"
    }
   ],
   "source": [
    "2^26"
   ]
  },
  {
   "cell_type": "code",
   "execution_count": 28,
   "id": "secondary-terrorism",
   "metadata": {},
   "outputs": [
    {
     "data": {
      "text/plain": [
       "BenchmarkTools.Trial: \n",
       "  memory estimate:  1.66 KiB\n",
       "  allocs estimate:  50\n",
       "  --------------\n",
       "  minimum time:     591.056 ms (0.00% GC)\n",
       "  median time:      605.127 ms (0.00% GC)\n",
       "  mean time:        612.299 ms (0.00% GC)\n",
       "  maximum time:     650.500 ms (0.00% GC)\n",
       "  --------------\n",
       "  samples:          7\n",
       "  evals/sample:     1"
      ]
     },
     "execution_count": 28,
     "metadata": {},
     "output_type": "execute_result"
    }
   ],
   "source": [
    "function main2(T, N)\n",
    "    b = @benchmarkable (CUDA.@sync(sort!(c))) setup=(c = CuArray(rand($T, $N))) samples=7 seconds=30\n",
    "    run(b)\n",
    "end\n",
    "\n",
    "main2(Float64, 10000000)"
   ]
  },
  {
   "cell_type": "code",
   "execution_count": 26,
   "id": "combined-ozone",
   "metadata": {},
   "outputs": [
    {
     "data": {
      "text/plain": [
       "quicksort_gpu! (generic function with 2 methods)"
      ]
     },
     "execution_count": 26,
     "metadata": {},
     "output_type": "execute_result"
    }
   ],
   "source": [
    "function quicksort_gpu!(a)\n",
    "    b = CuArray(a)\n",
    "    limit!(CUDAdrv.LIMIT_DEV_RUNTIME_SYNC_DEPTH, MAX_DEPTH)\n",
    "    left = 1\n",
    "    right = length(b)\n",
    "    @cuda quicksort(b, left, right, 0)\n",
    "    return \n",
    "end"
   ]
  },
  {
   "cell_type": "markdown",
   "id": "removable-swing",
   "metadata": {},
   "source": [
    "# Thrust\n",
    "\n",
    "https://thrust.github.io/\n",
    "\n",
    "```\n",
    "// generate 32M random numbers serially\n",
    "thrust::host_vector<int> h_vec(32 << 20);\n",
    "  \n",
    "std::generate(h_vec.begin(), h_vec.end(), rand);\n",
    "\n",
    "// transfer data to the device\n",
    "thrust::device_vector<int> d_vec = h_vec;\n",
    "\n",
    "// sort data on the device (846M keys per second on GeForce GTX 480)   thrust::sort(d_vec.begin(), d_vec.end());\n",
    "\n",
    "// transfer data back to host\n",
    "thrust::copy(d_vec.begin(), d_vec.end(), h_vec.begin());\n",
    "```"
   ]
  },
  {
   "cell_type": "code",
   "execution_count": null,
   "id": "natural-wells",
   "metadata": {},
   "outputs": [],
   "source": []
  }
 ],
 "metadata": {
  "hide_input": false,
  "kernelspec": {
   "display_name": "Julia 1.6.2",
   "language": "julia",
   "name": "julia-1.6"
  },
  "language_info": {
   "file_extension": ".jl",
   "mimetype": "application/julia",
   "name": "julia",
   "version": "1.6.2"
  },
  "toc": {
   "base_numbering": 1,
   "nav_menu": {},
   "number_sections": true,
   "sideBar": true,
   "skip_h1_title": false,
   "title_cell": "Table of Contents",
   "title_sidebar": "Contents",
   "toc_cell": false,
   "toc_position": {
    "height": "calc(100% - 180px)",
    "left": "10px",
    "top": "150px",
    "width": "292.2px"
   },
   "toc_section_display": true,
   "toc_window_display": true
  },
  "varInspector": {
   "cols": {
    "lenName": 16,
    "lenType": 16,
    "lenVar": 40
   },
   "kernels_config": {
    "python": {
     "delete_cmd_postfix": "",
     "delete_cmd_prefix": "del ",
     "library": "var_list.py",
     "varRefreshCmd": "print(var_dic_list())"
    },
    "r": {
     "delete_cmd_postfix": ") ",
     "delete_cmd_prefix": "rm(",
     "library": "var_list.r",
     "varRefreshCmd": "cat(var_dic_list()) "
    }
   },
   "types_to_exclude": [
    "module",
    "function",
    "builtin_function_or_method",
    "instance",
    "_Feature"
   ],
   "window_display": false
  }
 },
 "nbformat": 4,
 "nbformat_minor": 5
}
