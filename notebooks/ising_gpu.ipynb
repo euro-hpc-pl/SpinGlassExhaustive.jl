{
 "cells": [
  {
   "cell_type": "markdown",
   "id": "collaborative-lyric",
   "metadata": {},
   "source": [
    "# Setup"
   ]
  },
  {
   "cell_type": "code",
   "execution_count": 3,
   "id": "incorrect-spoke",
   "metadata": {},
   "outputs": [],
   "source": [
    "import Pkg"
   ]
  },
  {
   "cell_type": "code",
   "execution_count": 5,
   "id": "1e23ce73",
   "metadata": {},
   "outputs": [
    {
     "name": "stderr",
     "output_type": "stream",
     "text": [
      "\u001b[32m\u001b[1m  Activating\u001b[22m\u001b[39m new environment at `~/workspace/repo/code/SpinGlassExhaustive.jl/notebooks/Project.toml`\n"
     ]
    }
   ],
   "source": [
    "Pkg.activate(\".\")"
   ]
  },
  {
   "cell_type": "code",
   "execution_count": 8,
   "id": "dec25259",
   "metadata": {},
   "outputs": [
    {
     "name": "stderr",
     "output_type": "stream",
     "text": [
      "\u001b[32m\u001b[1m    Updating\u001b[22m\u001b[39m registry at `~/.julia/registries/General`\n",
      "\u001b[32m\u001b[1m   Resolving\u001b[22m\u001b[39m package versions...\n",
      "\u001b[32m\u001b[1m    Updating\u001b[22m\u001b[39m `~/workspace/repo/code/SpinGlassExhaustive.jl/notebooks/Project.toml`\n",
      " \u001b[90m [6e4b80f9] \u001b[39m\u001b[92m+ BenchmarkTools v1.2.2\u001b[39m\n",
      "\u001b[32m\u001b[1m    Updating\u001b[22m\u001b[39m `~/workspace/repo/code/SpinGlassExhaustive.jl/notebooks/Manifest.toml`\n",
      " \u001b[90m [6e4b80f9] \u001b[39m\u001b[92m+ BenchmarkTools v1.2.2\u001b[39m\n",
      " \u001b[90m [682c06a0] \u001b[39m\u001b[92m+ JSON v0.21.2\u001b[39m\n",
      " \u001b[90m [69de0a69] \u001b[39m\u001b[92m+ Parsers v2.2.1\u001b[39m\n",
      " \u001b[90m [ade2ca70] \u001b[39m\u001b[92m+ Dates\u001b[39m\n",
      " \u001b[90m [8f399da3] \u001b[39m\u001b[92m+ Libdl\u001b[39m\n",
      " \u001b[90m [37e2e46d] \u001b[39m\u001b[92m+ LinearAlgebra\u001b[39m\n",
      " \u001b[90m [56ddb016] \u001b[39m\u001b[92m+ Logging\u001b[39m\n",
      " \u001b[90m [a63ad114] \u001b[39m\u001b[92m+ Mmap\u001b[39m\n",
      " \u001b[90m [de0858da] \u001b[39m\u001b[92m+ Printf\u001b[39m\n",
      " \u001b[90m [9abbd945] \u001b[39m\u001b[92m+ Profile\u001b[39m\n",
      " \u001b[90m [9a3f8284] \u001b[39m\u001b[92m+ Random\u001b[39m\n",
      " \u001b[90m [ea8e919c] \u001b[39m\u001b[92m+ SHA\u001b[39m\n",
      " \u001b[90m [9e88b42a] \u001b[39m\u001b[92m+ Serialization\u001b[39m\n",
      " \u001b[90m [2f01184e] \u001b[39m\u001b[92m+ SparseArrays\u001b[39m\n",
      " \u001b[90m [10745b16] \u001b[39m\u001b[92m+ Statistics\u001b[39m\n",
      " \u001b[90m [cf7118a7] \u001b[39m\u001b[92m+ UUIDs\u001b[39m\n",
      " \u001b[90m [4ec0a83e] \u001b[39m\u001b[92m+ Unicode\u001b[39m\n",
      "\u001b[32m\u001b[1mPrecompiling\u001b[22m\u001b[39m project...\n",
      "\u001b[32m  ✓ \u001b[39mBenchmarkTools\n",
      "  1 dependency successfully precompiled in 2 seconds (2 already precompiled)\n"
     ]
    }
   ],
   "source": [
    "Pkg.add(\"BenchmarkTools\")"
   ]
  },
  {
   "cell_type": "code",
   "execution_count": 9,
   "id": "spectacular-delivery",
   "metadata": {},
   "outputs": [
    {
     "name": "stderr",
     "output_type": "stream",
     "text": [
      "┌ Info: Precompiling BenchmarkTools [6e4b80f9-dd63-53aa-95a3-0cdb28fa8baf]\n",
      "└ @ Base loading.jl:1342\n"
     ]
    }
   ],
   "source": [
    "using CUDA\n",
    "# using Distributions\n",
    "using BenchmarkTools"
   ]
  },
  {
   "cell_type": "code",
   "execution_count": 10,
   "id": "7efb8237",
   "metadata": {},
   "outputs": [
    {
     "ename": "LoadError",
     "evalue": "The following package names could not be resolved:\n * CuQuantumInformation (not found in project or manifest)\n",
     "output_type": "error",
     "traceback": [
      "The following package names could not be resolved:\n * CuQuantumInformation (not found in project or manifest)\n",
      "",
      "Stacktrace:",
      "  [1] pkgerror(msg::String)",
      "    @ Pkg.Types /buildworker/worker/package_linux64/build/usr/share/julia/stdlib/v1.6/Pkg/src/Types.jl:55",
      "  [2] ensure_resolved(ctx::Pkg.Types.Context, pkgs::Vector{Pkg.Types.PackageSpec}; registry::Bool)",
      "    @ Pkg.Types /buildworker/worker/package_linux64/build/usr/share/julia/stdlib/v1.6/Pkg/src/Types.jl:883",
      "  [3] ensure_resolved",
      "    @ /buildworker/worker/package_linux64/build/usr/share/julia/stdlib/v1.6/Pkg/src/Types.jl:846 [inlined]",
      "  [4] rm(ctx::Pkg.Types.Context, pkgs::Vector{Pkg.Types.PackageSpec}; mode::Pkg.Types.PackageMode, kwargs::Base.Iterators.Pairs{Symbol, IJulia.IJuliaStdio{Base.PipeEndpoint}, Tuple{Symbol}, NamedTuple{(:io,), Tuple{IJulia.IJuliaStdio{Base.PipeEndpoint}}}})",
      "    @ Pkg.API /buildworker/worker/package_linux64/build/usr/share/julia/stdlib/v1.6/Pkg/src/API.jl:228",
      "  [5] rm(pkgs::Vector{Pkg.Types.PackageSpec}; io::IJulia.IJuliaStdio{Base.PipeEndpoint}, kwargs::Base.Iterators.Pairs{Union{}, Union{}, Tuple{}, NamedTuple{(), Tuple{}}})",
      "    @ Pkg.API /buildworker/worker/package_linux64/build/usr/share/julia/stdlib/v1.6/Pkg/src/API.jl:80",
      "  [6] rm(pkgs::Vector{Pkg.Types.PackageSpec})",
      "    @ Pkg.API /buildworker/worker/package_linux64/build/usr/share/julia/stdlib/v1.6/Pkg/src/API.jl:78",
      "  [7] #rm#31",
      "    @ /buildworker/worker/package_linux64/build/usr/share/julia/stdlib/v1.6/Pkg/src/API.jl:76 [inlined]",
      "  [8] rm",
      "    @ /buildworker/worker/package_linux64/build/usr/share/julia/stdlib/v1.6/Pkg/src/API.jl:76 [inlined]",
      "  [9] #rm#30",
      "    @ /buildworker/worker/package_linux64/build/usr/share/julia/stdlib/v1.6/Pkg/src/API.jl:75 [inlined]",
      " [10] rm(pkg::String)",
      "    @ Pkg.API /buildworker/worker/package_linux64/build/usr/share/julia/stdlib/v1.6/Pkg/src/API.jl:75",
      " [11] top-level scope",
      "    @ In[10]:1",
      " [12] eval",
      "    @ ./boot.jl:360 [inlined]",
      " [13] include_string(mapexpr::typeof(REPL.softscope), mod::Module, code::String, filename::String)",
      "    @ Base ./loading.jl:1116"
     ]
    }
   ],
   "source": [
    "Pkg.rm(\"CuQuantumInformation\")"
   ]
  },
  {
   "cell_type": "markdown",
   "id": "3cbc430d",
   "metadata": {},
   "source": [
    "# Create graph"
   ]
  },
  {
   "cell_type": "code",
   "execution_count": 8,
   "id": "921c4b2d",
   "metadata": {},
   "outputs": [
    {
     "data": {
      "text/plain": [
       "24×24 CuArray{Float32, 2}:\n",
       " 480.931  -277.932    90.1892  374.921   …    70.8954   -29.1377   128.9\n",
       "   0.0     183.769  -355.961   -88.6602      492.883    114.909    323.342\n",
       "   0.0       0.0     360.272   170.883      -296.491   -221.944    215.987\n",
       "   0.0       0.0       0.0     125.28         96.6045  -221.099     25.128\n",
       "   0.0       0.0       0.0       0.0          78.4859    30.3461   146.944\n",
       "   0.0       0.0       0.0       0.0     …   -84.8284   -19.9886  -192.794\n",
       "   0.0       0.0       0.0       0.0         127.82    -195.864    169.458\n",
       "   0.0       0.0       0.0       0.0         141.386    101.138    172.587\n",
       "   0.0       0.0       0.0       0.0        -325.827     30.2404    42.7617\n",
       "   0.0       0.0       0.0       0.0         171.242   -187.407   -191.93\n",
       "   0.0       0.0       0.0       0.0     …  -115.604    166.026    101.976\n",
       "   0.0       0.0       0.0       0.0        -254.741    239.954    345.444\n",
       "   0.0       0.0       0.0       0.0        -254.628    -45.1084   -23.437\n",
       "   0.0       0.0       0.0       0.0         137.18     -24.0188  -138.981\n",
       "   0.0       0.0       0.0       0.0        -115.842    336.461     91.7938\n",
       "   0.0       0.0       0.0       0.0     …   -20.6093   313.671    143.02\n",
       "   0.0       0.0       0.0       0.0          16.2905  -120.103    -77.1058\n",
       "   0.0       0.0       0.0       0.0          97.7508  -458.093     38.0497\n",
       "   0.0       0.0       0.0       0.0         219.425    209.351     88.0239\n",
       "   0.0       0.0       0.0       0.0        -223.422    249.965    231.182\n",
       "   0.0       0.0       0.0       0.0     …    89.0128   -60.393   -302.333\n",
       "   0.0       0.0       0.0       0.0         331.895    -84.4346   153.187\n",
       "   0.0       0.0       0.0       0.0           0.0      514.996     83.1887\n",
       "   0.0       0.0       0.0       0.0           0.0        0.0     -184.482"
      ]
     },
     "execution_count": 8,
     "metadata": {},
     "output_type": "execute_result"
    }
   ],
   "source": [
    "N = 24\n",
    "\n",
    "# graph = zeros(2^N)\n",
    "graph = rand(Uniform(-5,5),N, N)\n",
    "graph = graph * graph'\n",
    "\n",
    "qubo = zeros(N,N)\n",
    "constant = 0\n",
    "\n",
    "for i in 1:N\n",
    "    qubo[i,i] = 2 * graph[i,i]\n",
    "    constant += graph[i,i]\n",
    "    \n",
    "    for j in 1:N\n",
    "        if i!=j\n",
    "            low, high = sort!([i, j])\n",
    "            constant -= graph[low,high]*0.5\n",
    "            qubo[i,i] -= 2*graph[low,high]\n",
    "            qubo[low,high] += graph[low,high]*2\n",
    "        end\n",
    "    end\n",
    "end\n",
    "\n",
    "\n",
    "cu_graph = graph |> cu \n",
    "cu_qubo = qubo |> cu "
   ]
  },
  {
   "cell_type": "markdown",
   "id": "cf0618f0",
   "metadata": {},
   "source": [
    "# Brute forece"
   ]
  },
  {
   "cell_type": "code",
   "execution_count": 9,
   "id": "7d04f6ea",
   "metadata": {},
   "outputs": [
    {
     "name": "stdout",
     "output_type": "stream",
     "text": [
      "  556.675 s (9747561479 allocations: 869.62 GiB)\n"
     ]
    },
    {
     "data": {
      "text/plain": [
       "16777216-element Vector{Float64}:\n",
       " -24231.077370083785\n",
       " -24007.73227204339\n",
       " -23786.471185945367\n",
       " -23737.683247377267\n",
       " -23559.937229211268\n",
       " -23547.202474881113\n",
       " -23515.359843559236\n",
       " -23501.768257858384\n",
       " -23352.53134733795\n",
       " -23346.112190416345\n",
       " -23314.723981870287\n",
       " -23264.64242913477\n",
       " -23252.38476753919\n",
       "      ⋮\n",
       "    -80.06949943731726\n",
       "    -75.29317379497036\n",
       "    -54.98340679127875\n",
       "    -34.369232716390655\n",
       "    -24.935309810451827\n",
       "      0.0\n",
       "     68.14880961218113\n",
       "    128.59712202064313\n",
       "    205.54322704985094\n",
       "    214.609155106332\n",
       "    313.9736408190006\n",
       "    368.9641657369085"
      ]
     },
     "execution_count": 9,
     "metadata": {},
     "output_type": "execute_result"
    }
   ],
   "source": [
    "function energy(graph, state_code)\n",
    "    F = 0\n",
    "    N = size(graph)[1]\n",
    "    q = digits(state_code, base=2, pad=N) #|> reverse\n",
    "\n",
    "    for i in 1:N\n",
    "        F -= graph[i,i]*q[i]  \n",
    "        for j in 1:N\n",
    "            low, high = sort!([i, j])\n",
    "            F -= graph[low,high]*q[i]*q[j]\n",
    "        end\n",
    "    end\n",
    "    return F\n",
    "end\n",
    "\n",
    "@btime begin\n",
    "    res = zeros(2^N)\n",
    "\n",
    "    for k in 1:2^N\n",
    "        F = energy(qubo, k)\n",
    "        res[k] = F\n",
    "    end\n",
    "\n",
    "    sort!(res)\n",
    "end"
   ]
  },
  {
   "cell_type": "markdown",
   "id": "4f9887fa",
   "metadata": {},
   "source": [
    "# Brute-force GPU"
   ]
  },
  {
   "cell_type": "code",
   "execution_count": 10,
   "id": "2410b95a",
   "metadata": {},
   "outputs": [
    {
     "name": "stdout",
     "output_type": "stream",
     "text": [
      "  798.262 ms (81 allocations: 2.86 KiB)\n"
     ]
    },
    {
     "data": {
      "text/plain": [
       "16777216-element CuArray{Float32, 1}:\n",
       " -24231.07\n",
       " -24007.73\n",
       " -23786.467\n",
       " -23737.676\n",
       " -23559.938\n",
       " -23547.195\n",
       " -23515.354\n",
       " -23501.764\n",
       " -23352.525\n",
       " -23346.111\n",
       " -23314.717\n",
       " -23264.643\n",
       " -23252.385\n",
       "      ⋮\n",
       "    -80.06949\n",
       "    -75.29317\n",
       "    -54.983406\n",
       "    -34.3692\n",
       "    -24.935303\n",
       "      0.0\n",
       "     68.148834\n",
       "    128.59712\n",
       "    205.54321\n",
       "    214.60916\n",
       "    313.97363\n",
       "    368.96417"
      ]
     },
     "execution_count": 10,
     "metadata": {},
     "output_type": "execute_result"
    }
   ],
   "source": [
    "function _energy(state_code, graph)\n",
    "    F = 0\n",
    "    N = size(graph)[1]\n",
    "    \n",
    "    sc1 = state_code    \n",
    "    for i in 1:N\n",
    "        qi = sc1%2\n",
    "        sc1 = div(sc1,2)\n",
    "        \n",
    "        F -= graph[i,i]*qi  \n",
    "        \n",
    "        sc2 = state_code\n",
    "        for j in 1:N\n",
    "            qj = sc2%2\n",
    "            sc2 = div(sc2,2)\n",
    "                       \n",
    "            low, high = i < j ? (i, j) : (j, i) \n",
    "            F -= graph[low,high]*qi*qj\n",
    "        end\n",
    "    end\n",
    "    return F\n",
    "end\n",
    "\n",
    "function kernel(qubo, energies)\n",
    "    threadsPerBlock = blockDim().x\n",
    "\n",
    "    N = size(qubo)[1]\n",
    "\n",
    "    i = blockIdx().x\n",
    "    j = threadIdx().x\n",
    "\n",
    "    state_code = (i - 1) * blockDim().x + j \n",
    "\n",
    "    F = _energy(state_code, qubo) |> Float32\n",
    "    \n",
    "    energies[state_code] = F\n",
    "          \n",
    "    return\n",
    "end\n",
    "\n",
    "function main()\n",
    "    k = 2\n",
    "    \n",
    "    energies = CUDA.zeros(2^N) #CUDA.zeros(2*2^k)\n",
    "    \n",
    "    threadsPerBlock::Int64 = 2^k\n",
    "    blocksPerGrid::Int64 = 2^(N-k)\n",
    "\n",
    "    @cuda blocks=(blocksPerGrid) threads=(threadsPerBlock) kernel(cu_qubo, energies)\n",
    "   \n",
    "#     states = sortperm(energies)\n",
    "#     energies[states]\n",
    "    \n",
    "    sort!(energies)\n",
    "    \n",
    "end\n",
    "\n",
    "@btime begin\n",
    "    main()\n",
    "end\n",
    "\n",
    "main()"
   ]
  },
  {
   "cell_type": "code",
   "execution_count": 11,
   "id": "0e7907b1",
   "metadata": {},
   "outputs": [
    {
     "name": "stdout",
     "output_type": "stream",
     "text": [
      "  159.389 ms (107 allocations: 3.59 KiB)\n"
     ]
    },
    {
     "data": {
      "text/plain": [
       "4194304-element CuArray{Float32, 1}:\n",
       " -24231.07\n",
       " -24007.73\n",
       " -23786.467\n",
       " -23559.938\n",
       " -23547.195\n",
       " -23501.764\n",
       " -23352.525\n",
       " -23346.111\n",
       " -23314.717\n",
       " -23264.643\n",
       " -23252.385\n",
       " -23223.72\n",
       " -23221.188\n",
       "      ⋮\n",
       "  -1594.0449\n",
       "  -1586.7893\n",
       "  -1575.7623\n",
       "  -1494.4044\n",
       "  -1469.015\n",
       "  -1441.9442\n",
       "  -1417.1597\n",
       "  -1309.0532\n",
       "  -1231.5718\n",
       "   -996.0316\n",
       "   -961.8617\n",
       "   -740.83167"
      ]
     },
     "execution_count": 11,
     "metadata": {},
     "output_type": "execute_result"
    }
   ],
   "source": [
    "function _energy(state_code, graph)\n",
    "    F = 0\n",
    "    N = size(graph)[1]\n",
    "    \n",
    "    sc1 = state_code    \n",
    "    for i in 1:N\n",
    "        qi = sc1%2\n",
    "        sc1 = div(sc1,2)\n",
    "        \n",
    "        F -= graph[i,i]*qi  \n",
    "        \n",
    "        sc2 = state_code\n",
    "        for j in 1:N\n",
    "            qj = sc2%2\n",
    "            sc2 = div(sc2,2)\n",
    "                       \n",
    "            low, high = i < j ? (i, j) : (j, i) \n",
    "            F -= graph[low,high]*qi*qj\n",
    "        end\n",
    "    end\n",
    "    return F\n",
    "end\n",
    "\n",
    "function kernel2(qubo, energies, part_lst, part_st)\n",
    "    threadsPerBlock = blockDim().x\n",
    "\n",
    "    N = size(qubo)[1]\n",
    "\n",
    "    i = blockIdx().x\n",
    "    j = threadIdx().x\n",
    "\n",
    "    state_code = (i - 1) * blockDim().x + j \n",
    "\n",
    "    F = _energy(state_code, qubo) |> Float32\n",
    "    \n",
    "    energies[state_code] = F\n",
    "    \n",
    "    sync_threads()\n",
    "    \n",
    "    if j == 1\n",
    "        k = (i - 1) * blockDim().x + 1\n",
    "        n = blockDim().x\n",
    "        nr_of_block = gridDim().x\n",
    "        \n",
    "#         for ii in k:k+n-1\n",
    "#             value = low_en[ii+1]\n",
    "#             jj = ii\n",
    "#             while jj > 0 && low_en[jj] > value\n",
    "#                 low_en[jj+1] = low_en[jj]\n",
    "#                 jj -= 1\n",
    "#             end\n",
    "#             low_en[i] = value\n",
    "#         end \n",
    "        \n",
    "        value=energies[k]\n",
    "        st=k\n",
    "        for ii in k:k+n-1\n",
    "            if value > energies[ii]\n",
    "                value = energies[ii]\n",
    "                st=k\n",
    "            end\n",
    "        end \n",
    "               \n",
    "        sync_threads()\n",
    "        \n",
    "        part_lst[i] = value # low_en[k]\n",
    "        part_st[i] = st\n",
    "    end\n",
    "    \n",
    "    return\n",
    "end\n",
    "\n",
    "function main()\n",
    "    k = 2\n",
    "    \n",
    "    energies = CUDA.zeros(2^N) #CUDA.zeros(2*2^k)\n",
    "    \n",
    "    part_st = CUDA.zeros(2^(N-k))\n",
    "    part_lst = CUDA.zeros(2^(N-k))\n",
    "    \n",
    "    threadsPerBlock::Int64 = 2^k\n",
    "    blocksPerGrid::Int64 = 2^(N-k)\n",
    "\n",
    "    @cuda blocks=(blocksPerGrid) threads=(threadsPerBlock) kernel2(cu_qubo, energies, part_lst, part_st)\n",
    "   \n",
    "#     states = sortperm(energies)\n",
    "#     energies[states]\n",
    "    \n",
    "    sort!(part_lst)\n",
    "    \n",
    "end\n",
    "\n",
    "@btime begin\n",
    "    main()\n",
    "end"
   ]
  },
  {
   "cell_type": "code",
   "execution_count": null,
   "id": "3e535f94",
   "metadata": {},
   "outputs": [],
   "source": []
  }
 ],
 "metadata": {
  "hide_input": false,
  "kernelspec": {
   "display_name": "Julia 1.6.2",
   "language": "julia",
   "name": "julia-1.6.2"
  },
  "language_info": {
   "file_extension": ".jl",
   "mimetype": "application/julia",
   "name": "julia",
   "version": "1.6.2"
  },
  "toc": {
   "base_numbering": 1,
   "nav_menu": {},
   "number_sections": true,
   "sideBar": true,
   "skip_h1_title": false,
   "title_cell": "Table of Contents",
   "title_sidebar": "Contents",
   "toc_cell": false,
   "toc_position": {
    "height": "calc(100% - 180px)",
    "left": "10px",
    "top": "150px",
    "width": "349.6px"
   },
   "toc_section_display": true,
   "toc_window_display": true
  },
  "varInspector": {
   "cols": {
    "lenName": 16,
    "lenType": 16,
    "lenVar": 40
   },
   "kernels_config": {
    "python": {
     "delete_cmd_postfix": "",
     "delete_cmd_prefix": "del ",
     "library": "var_list.py",
     "varRefreshCmd": "print(var_dic_list())"
    },
    "r": {
     "delete_cmd_postfix": ") ",
     "delete_cmd_prefix": "rm(",
     "library": "var_list.r",
     "varRefreshCmd": "cat(var_dic_list()) "
    }
   },
   "types_to_exclude": [
    "module",
    "function",
    "builtin_function_or_method",
    "instance",
    "_Feature"
   ],
   "window_display": false
  }
 },
 "nbformat": 4,
 "nbformat_minor": 5
}
