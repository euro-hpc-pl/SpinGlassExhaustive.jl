{
 "cells": [
  {
   "cell_type": "markdown",
   "id": "collaborative-lyric",
   "metadata": {},
   "source": [
    "# Setup"
   ]
  },
  {
   "cell_type": "code",
   "execution_count": 1,
   "id": "incorrect-spoke",
   "metadata": {},
   "outputs": [],
   "source": [
    "import Pkg"
   ]
  },
  {
   "cell_type": "code",
   "execution_count": 2,
   "id": "spectacular-delivery",
   "metadata": {},
   "outputs": [],
   "source": [
    "using CUDA\n",
    "using Distributions\n",
    "using BenchmarkTools"
   ]
  },
  {
   "cell_type": "markdown",
   "id": "3cbc430d",
   "metadata": {},
   "source": [
    "# Create graph"
   ]
  },
  {
   "cell_type": "code",
   "execution_count": 3,
   "id": "921c4b2d",
   "metadata": {},
   "outputs": [
    {
     "data": {
      "text/plain": [
       "16×16 CuArray{Float32, 2}:\n",
       " 437.291  -153.178   67.6214     7.36081  …   -43.0893   -33.5755   110.051\n",
       "   0.0     324.474   44.3128  -109.389        -56.6543   -11.5727  -165.295\n",
       "   0.0       0.0    -31.4193    -5.50019      -33.946    -57.6708   115.111\n",
       "   0.0       0.0      0.0      290.238        108.296     23.2164   -12.7123\n",
       "   0.0       0.0      0.0        0.0          182.239      6.0594   -92.7182\n",
       "   0.0       0.0      0.0        0.0      …  -122.536    -96.7812   -18.5453\n",
       "   0.0       0.0      0.0        0.0           19.2072   220.204     76.8722\n",
       "   0.0       0.0      0.0        0.0           43.9545    66.9508   -14.5232\n",
       "   0.0       0.0      0.0        0.0         -183.674    -22.5728    15.7184\n",
       "   0.0       0.0      0.0        0.0          165.841     64.7047    -8.24424\n",
       "   0.0       0.0      0.0        0.0      …  -206.106   -157.78     -92.4672\n",
       "   0.0       0.0      0.0        0.0          -14.6739  -202.072     53.0884\n",
       "   0.0       0.0      0.0        0.0          -57.57    -100.937    -70.2982\n",
       "   0.0       0.0      0.0        0.0          193.162    173.62      56.9116\n",
       "   0.0       0.0      0.0        0.0            0.0      371.034     -1.70317\n",
       "   0.0       0.0      0.0        0.0      …     0.0        0.0      184.448"
      ]
     },
     "execution_count": 3,
     "metadata": {},
     "output_type": "execute_result"
    }
   ],
   "source": [
    "N = 16\n",
    "\n",
    "# graph = zeros(2^N)\n",
    "graph = rand(Uniform(-5,5),N, N)\n",
    "graph = graph * graph'\n",
    "\n",
    "qubo = zeros(N,N)\n",
    "constant = 0\n",
    "\n",
    "for i in 1:N\n",
    "    qubo[i,i] = 2 * graph[i,i]\n",
    "    constant += graph[i,i]\n",
    "    \n",
    "    for j in 1:N\n",
    "        if i!=j\n",
    "            low, high = sort!([i, j])\n",
    "            constant -= graph[low,high]*0.5\n",
    "            qubo[i,i] -= 2*graph[low,high]\n",
    "            qubo[low,high] += graph[low,high]*2\n",
    "        end\n",
    "    end\n",
    "end\n",
    "\n",
    "\n",
    "cu_graph = graph |> cu \n",
    "cu_qubo = qubo |> cu "
   ]
  },
  {
   "cell_type": "markdown",
   "id": "cf0618f0",
   "metadata": {},
   "source": [
    "# Brute forece"
   ]
  },
  {
   "cell_type": "code",
   "execution_count": 4,
   "id": "7d04f6ea",
   "metadata": {},
   "outputs": [
    {
     "name": "stdout",
     "output_type": "stream",
     "text": [
      "  844.075 ms (17103879 allocations: 1.52 GiB)\n"
     ]
    },
    {
     "data": {
      "text/plain": [
       "65536-element Vector{Float64}:\n",
       " -9016.135356216362\n",
       " -8961.867715646391\n",
       " -8907.711229468185\n",
       " -8893.618220835628\n",
       " -8886.340112942977\n",
       " -8882.983865296797\n",
       " -8825.551337531875\n",
       " -8770.563401209605\n",
       " -8769.833410807401\n",
       " -8755.147452825902\n",
       " -8731.853599300772\n",
       " -8699.991979226768\n",
       " -8685.128969104973\n",
       "     ⋮\n",
       "  -575.5108830493963\n",
       "  -563.888666218201\n",
       "  -563.8456838554023\n",
       "  -536.2803312779048\n",
       "  -506.63636568895583\n",
       "  -452.9298969851137\n",
       "  -421.91484546074537\n",
       "  -386.32488460640445\n",
       "  -368.89648537844505\n",
       "  -255.5943536095814\n",
       "     0.0\n",
       "    62.8386052479541"
      ]
     },
     "execution_count": 4,
     "metadata": {},
     "output_type": "execute_result"
    }
   ],
   "source": [
    "function energy(graph, state_code)\n",
    "    F = 0\n",
    "    N = size(graph)[1]\n",
    "    q = digits(state_code, base=2, pad=N) #|> reverse\n",
    "\n",
    "    for i in 1:N\n",
    "        F -= graph[i,i]*q[i]  \n",
    "        for j in 1:N\n",
    "            low, high = sort!([i, j])\n",
    "            F -= graph[low,high]*q[i]*q[j]\n",
    "        end\n",
    "    end\n",
    "    return F\n",
    "end\n",
    "\n",
    "@btime begin\n",
    "    res = zeros(2^N)\n",
    "\n",
    "    for k in 1:2^N\n",
    "        F = energy(qubo, k)\n",
    "        res[k] = F\n",
    "    end\n",
    "\n",
    "    sort!(res)\n",
    "end"
   ]
  },
  {
   "cell_type": "markdown",
   "id": "4f9887fa",
   "metadata": {},
   "source": [
    "# Brute-force GPU"
   ]
  },
  {
   "cell_type": "code",
   "execution_count": 5,
   "id": "2410b95a",
   "metadata": {},
   "outputs": [
    {
     "name": "stdout",
     "output_type": "stream",
     "text": [
      "  13.349 μs (81 allocations: 2.86 KiB)\n"
     ]
    },
    {
     "data": {
      "text/plain": [
       "65536-element CuArray{Float32, 1}:\n",
       " -9016.139\n",
       " -8961.868\n",
       " -8907.712\n",
       " -8893.62\n",
       " -8886.341\n",
       " -8882.984\n",
       " -8825.553\n",
       " -8770.564\n",
       " -8769.834\n",
       " -8755.148\n",
       " -8731.855\n",
       " -8699.993\n",
       " -8685.13\n",
       "     ⋮\n",
       "  -575.51086\n",
       "  -563.8887\n",
       "  -563.8457\n",
       "  -536.28033\n",
       "  -506.63635\n",
       "  -452.9299\n",
       "  -421.9149\n",
       "  -386.3249\n",
       "  -368.89648\n",
       "  -255.59436\n",
       "     0.0\n",
       "    62.838604"
      ]
     },
     "execution_count": 5,
     "metadata": {},
     "output_type": "execute_result"
    }
   ],
   "source": [
    "function _energy(state_code, graph)\n",
    "    F = 0\n",
    "    N = size(graph)[1]\n",
    "    \n",
    "    sc1 = state_code    \n",
    "    for i in 1:N\n",
    "        qi = sc1%2\n",
    "        sc1 = div(sc1,2)\n",
    "        \n",
    "        F -= graph[i,i]*qi  \n",
    "        \n",
    "        sc2 = state_code\n",
    "        for j in 1:N\n",
    "            qj = sc2%2\n",
    "            sc2 = div(sc2,2)\n",
    "                       \n",
    "            low, high = i < j ? (i, j) : (j, i) \n",
    "            F -= graph[low,high]*qi*qj\n",
    "        end\n",
    "    end\n",
    "    return F\n",
    "end\n",
    "\n",
    "function kernel(qubo, energies)\n",
    "    threadsPerBlock = blockDim().x\n",
    "\n",
    "    N = size(qubo)[1]\n",
    "\n",
    "    i = blockIdx().x\n",
    "    j = threadIdx().x\n",
    "\n",
    "    state_code = (i - 1) * blockDim().x + j \n",
    "\n",
    "    F = _energy(state_code, qubo) |> Float32\n",
    "    \n",
    "    energies[state_code] = F\n",
    "          \n",
    "    return\n",
    "end\n",
    "\n",
    "function main()\n",
    "    k = 2\n",
    "    \n",
    "    energies = CUDA.zeros(2^N) #CUDA.zeros(2*2^k)\n",
    "    \n",
    "    threadsPerBlock::Int64 = 2^k\n",
    "    blocksPerGrid::Int64 = 2^(N-k)\n",
    "\n",
    "    @cuda blocks=(blocksPerGrid) threads=(threadsPerBlock) kernel(cu_qubo, energies)\n",
    "   \n",
    "#     states = sortperm(energies)\n",
    "#     energies[states]\n",
    "    \n",
    "    sort!(energies)\n",
    "    \n",
    "end\n",
    "\n",
    "@btime begin\n",
    "    main()\n",
    "end\n",
    "\n",
    "main()"
   ]
  },
  {
   "cell_type": "code",
   "execution_count": 7,
   "id": "0e7907b1",
   "metadata": {},
   "outputs": [
    {
     "name": "stdout",
     "output_type": "stream",
     "text": [
      "  25.359 μs (107 allocations: 3.59 KiB)\n"
     ]
    },
    {
     "data": {
      "text/plain": [
       "16384-element CuArray{Float32, 1}:\n",
       " -9016.139\n",
       " -8961.868\n",
       " -8907.712\n",
       " -8893.62\n",
       " -8886.341\n",
       " -8770.564\n",
       " -8769.834\n",
       " -8731.855\n",
       " -8699.993\n",
       " -8668.459\n",
       " -8628.413\n",
       " -8591.251\n",
       " -8564.142\n",
       "     ⋮\n",
       " -1743.6213\n",
       " -1733.8799\n",
       " -1638.6465\n",
       " -1620.257\n",
       " -1593.592\n",
       " -1525.581\n",
       " -1497.1493\n",
       " -1475.5824\n",
       " -1413.394\n",
       " -1404.0112\n",
       " -1378.2034\n",
       " -1217.1733"
      ]
     },
     "execution_count": 7,
     "metadata": {},
     "output_type": "execute_result"
    }
   ],
   "source": [
    "function _energy(state_code, graph)\n",
    "    F = 0\n",
    "    N = size(graph)[1]\n",
    "    \n",
    "    sc1 = state_code    \n",
    "    for i in 1:N\n",
    "        qi = sc1%2\n",
    "        sc1 = div(sc1,2)\n",
    "        \n",
    "        F -= graph[i,i]*qi  \n",
    "        \n",
    "        sc2 = state_code\n",
    "        for j in 1:N\n",
    "            qj = sc2%2\n",
    "            sc2 = div(sc2,2)\n",
    "                       \n",
    "            low, high = i < j ? (i, j) : (j, i) \n",
    "            F -= graph[low,high]*qi*qj\n",
    "        end\n",
    "    end\n",
    "    return F\n",
    "end\n",
    "\n",
    "function kernel2(qubo, energies, part_lst, part_st)\n",
    "    threadsPerBlock = blockDim().x\n",
    "\n",
    "    N = size(qubo)[1]\n",
    "\n",
    "    i = blockIdx().x\n",
    "    j = threadIdx().x\n",
    "\n",
    "    state_code = (i - 1) * blockDim().x + j \n",
    "\n",
    "    F = _energy(state_code, qubo) |> Float32\n",
    "    \n",
    "    energies[state_code] = F\n",
    "    \n",
    "    sync_threads()\n",
    "    \n",
    "    if j == 1\n",
    "        k = (i - 1) * blockDim().x + 1\n",
    "        n = blockDim().x\n",
    "        nr_of_block = gridDim().x\n",
    "        \n",
    "#         for ii in k:k+n-1\n",
    "#             value = low_en[ii+1]\n",
    "#             jj = ii\n",
    "#             while jj > 0 && low_en[jj] > value\n",
    "#                 low_en[jj+1] = low_en[jj]\n",
    "#                 jj -= 1\n",
    "#             end\n",
    "#             low_en[i] = value\n",
    "#         end \n",
    "        \n",
    "        value=energies[k]\n",
    "        st=k\n",
    "        for ii in k:k+n-1\n",
    "            if value > energies[ii]\n",
    "                value = energies[ii]\n",
    "                st=k\n",
    "            end\n",
    "        end \n",
    "               \n",
    "        sync_threads()\n",
    "        \n",
    "        part_lst[i] = value # low_en[k]\n",
    "        part_st[i] = st\n",
    "    end\n",
    "    \n",
    "    return\n",
    "end\n",
    "\n",
    "function main()\n",
    "    k = 2\n",
    "    \n",
    "    energies = CUDA.zeros(2^N) #CUDA.zeros(2*2^k)\n",
    "    \n",
    "    part_st = CUDA.zeros(2^(N-k))\n",
    "    part_lst = CUDA.zeros(2^(N-k))\n",
    "    \n",
    "    threadsPerBlock::Int64 = 2^k\n",
    "    blocksPerGrid::Int64 = 2^(N-k)\n",
    "\n",
    "    @cuda blocks=(blocksPerGrid) threads=(threadsPerBlock) kernel2(cu_qubo, energies, part_lst, part_st)\n",
    "   \n",
    "#     states = sortperm(energies)\n",
    "#     energies[states]\n",
    "    \n",
    "    sort!(part_lst)\n",
    "    \n",
    "end\n",
    "\n",
    "@btime begin\n",
    "    main()\n",
    "end"
   ]
  }
 ],
 "metadata": {
  "hide_input": false,
  "kernelspec": {
   "display_name": "Julia 1.6.2",
   "language": "julia",
   "name": "julia-1.6.2"
  },
  "language_info": {
   "file_extension": ".jl",
   "mimetype": "application/julia",
   "name": "julia",
   "version": "1.6.2"
  },
  "toc": {
   "base_numbering": 1,
   "nav_menu": {},
   "number_sections": true,
   "sideBar": true,
   "skip_h1_title": false,
   "title_cell": "Table of Contents",
   "title_sidebar": "Contents",
   "toc_cell": false,
   "toc_position": {
    "height": "calc(100% - 180px)",
    "left": "10px",
    "top": "150px",
    "width": "349.6px"
   },
   "toc_section_display": true,
   "toc_window_display": true
  },
  "varInspector": {
   "cols": {
    "lenName": 16,
    "lenType": 16,
    "lenVar": 40
   },
   "kernels_config": {
    "python": {
     "delete_cmd_postfix": "",
     "delete_cmd_prefix": "del ",
     "library": "var_list.py",
     "varRefreshCmd": "print(var_dic_list())"
    },
    "r": {
     "delete_cmd_postfix": ") ",
     "delete_cmd_prefix": "rm(",
     "library": "var_list.r",
     "varRefreshCmd": "cat(var_dic_list()) "
    }
   },
   "types_to_exclude": [
    "module",
    "function",
    "builtin_function_or_method",
    "instance",
    "_Feature"
   ],
   "window_display": false
  }
 },
 "nbformat": 4,
 "nbformat_minor": 5
}
