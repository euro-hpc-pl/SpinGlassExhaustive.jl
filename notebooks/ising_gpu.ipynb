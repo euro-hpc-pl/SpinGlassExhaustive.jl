{
 "cells": [
  {
   "cell_type": "markdown",
   "id": "collaborative-lyric",
   "metadata": {},
   "source": [
    "# Setup"
   ]
  },
  {
   "cell_type": "code",
   "execution_count": 7,
   "id": "incorrect-spoke",
   "metadata": {},
   "outputs": [],
   "source": [
    "import Pkg"
   ]
  },
  {
   "cell_type": "code",
   "execution_count": 8,
   "id": "a09b8056",
   "metadata": {},
   "outputs": [
    {
     "name": "stderr",
     "output_type": "stream",
     "text": [
      "\u001b[32m\u001b[1m  Activating\u001b[22m\u001b[39m environment at `~/workspace/repo/code/SpinGlassExhaustive.jl/notebooks/Project.toml`\n"
     ]
    }
   ],
   "source": [
    "Pkg.activate(\".\")"
   ]
  },
  {
   "cell_type": "code",
   "execution_count": 9,
   "id": "f75d428f",
   "metadata": {},
   "outputs": [
    {
     "name": "stderr",
     "output_type": "stream",
     "text": [
      "\u001b[32m\u001b[1m   Resolving\u001b[22m\u001b[39m package versions...\n",
      "\u001b[32m\u001b[1m  No Changes\u001b[22m\u001b[39m to `~/workspace/repo/code/SpinGlassExhaustive.jl/notebooks/Project.toml`\n",
      "\u001b[32m\u001b[1m  No Changes\u001b[22m\u001b[39m to `~/workspace/repo/code/SpinGlassExhaustive.jl/notebooks/Manifest.toml`\n"
     ]
    }
   ],
   "source": [
    "# Pkg.add(\"BenchmarkTools\")\n",
    "# Pkg.add(\"CUDA\")\n",
    "Pkg.add(\"Distributions\")"
   ]
  },
  {
   "cell_type": "code",
   "execution_count": 10,
   "id": "spectacular-delivery",
   "metadata": {},
   "outputs": [],
   "source": [
    "using CUDA\n",
    "using Distributions\n",
    "using BenchmarkTools"
   ]
  },
  {
   "cell_type": "markdown",
   "id": "3cbc430d",
   "metadata": {},
   "source": [
    "# Create graph"
   ]
  },
  {
   "cell_type": "code",
   "execution_count": 11,
   "id": "921c4b2d",
   "metadata": {},
   "outputs": [
    {
     "data": {
      "text/plain": [
       "16×16 CuArray{Float32, 2, CUDA.Mem.DeviceBuffer}:\n",
       " 254.719  -111.542  -113.888   …   237.684     148.818     -94.5745\n",
       "   0.0     403.513   147.061      -226.27      185.143     103.62\n",
       "   0.0       0.0     -47.3911       82.6755    155.325      29.4052\n",
       "   0.0       0.0       0.0          79.3011     72.3483     35.4507\n",
       "   0.0       0.0       0.0         -10.1123    -42.2221    112.01\n",
       "   0.0       0.0       0.0     …   -45.5585   -186.122     -18.0521\n",
       "   0.0       0.0       0.0          40.0203    -65.8839    265.256\n",
       "   0.0       0.0       0.0          17.0092    283.356      10.1853\n",
       "   0.0       0.0       0.0          35.7524    -95.7432   -100.048\n",
       "   0.0       0.0       0.0         122.004     -75.2388    -27.9586\n",
       "   0.0       0.0       0.0     …     4.57685     5.16146   -70.1653\n",
       "   0.0       0.0       0.0           2.56107   -23.473    -102.808\n",
       "   0.0       0.0       0.0         149.016     128.529     131.988\n",
       "   0.0       0.0       0.0        -134.627     126.724      48.6315\n",
       "   0.0       0.0       0.0           0.0       -80.1505    133.233\n",
       "   0.0       0.0       0.0     …     0.0         0.0        45.9958"
      ]
     },
     "execution_count": 11,
     "metadata": {},
     "output_type": "execute_result"
    }
   ],
   "source": [
    "N = 16\n",
    "\n",
    "# graph = zeros(2^N)\n",
    "graph = rand(Uniform(-5,5),N, N)\n",
    "graph = graph * graph'\n",
    "\n",
    "qubo = zeros(N,N)\n",
    "constant = 0\n",
    "\n",
    "for i in 1:N\n",
    "    qubo[i,i] = 2 * graph[i,i]\n",
    "    constant += graph[i,i]\n",
    "    \n",
    "    for j in 1:N\n",
    "        if i!=j\n",
    "            low, high = sort!([i, j])\n",
    "            constant -= graph[low,high]*0.5\n",
    "            qubo[i,i] -= 2*graph[low,high]\n",
    "            qubo[low,high] += graph[low,high]*2\n",
    "        end\n",
    "    end\n",
    "end\n",
    "\n",
    "\n",
    "cu_graph = graph |> cu \n",
    "cu_qubo = qubo |> cu "
   ]
  },
  {
   "cell_type": "markdown",
   "id": "cf0618f0",
   "metadata": {},
   "source": [
    "# Brute forece"
   ]
  },
  {
   "cell_type": "code",
   "execution_count": 22,
   "id": "7d04f6ea",
   "metadata": {},
   "outputs": [
    {
     "name": "stdout",
     "output_type": "stream",
     "text": [
      "  892.530 ms (17103879 allocations: 1.52 GiB)\n"
     ]
    },
    {
     "data": {
      "text/plain": [
       "65536-element Vector{Float64}:\n",
       " -8916.608333408969\n",
       " -8782.341466146356\n",
       " -8689.73401701808\n",
       " -8645.567010164743\n",
       " -8621.010655115255\n",
       " -8572.312065209235\n",
       " -8535.484878155952\n",
       " -8395.557953480908\n",
       " -8387.483242725897\n",
       " -8362.831542049069\n",
       " -8324.197687490341\n",
       " -8322.52923673931\n",
       " -8322.505953996846\n",
       "     ⋮\n",
       "    79.9987487650198\n",
       "    94.78218288741475\n",
       "    95.8977913670762\n",
       "   100.40478032197018\n",
       "   160.3009925135584\n",
       "   176.10598593444325\n",
       "   198.68450109954915\n",
       "   202.04369077705428\n",
       "   208.6949747361241\n",
       "   263.24134270843865\n",
       "   269.2532174028833\n",
       "   312.16512374425565"
      ]
     },
     "execution_count": 22,
     "metadata": {},
     "output_type": "execute_result"
    }
   ],
   "source": [
    "function energy(graph, state_code)\n",
    "    F = 0\n",
    "    N = size(graph)[1]\n",
    "    q = digits(state_code, base=2, pad=N) #|> reverse\n",
    "\n",
    "    for i in 1:N\n",
    "        F -= graph[i,i]*q[i]  \n",
    "        for j in 1:N\n",
    "            low, high = sort!([i, j])\n",
    "            F -= graph[low,high]*q[i]*q[j]\n",
    "        end\n",
    "    end\n",
    "    return F\n",
    "end\n",
    "\n",
    "@btime begin\n",
    "    res = zeros(2^N)\n",
    "\n",
    "    for k in 1:2^N\n",
    "        F = energy(qubo, k)\n",
    "        res[k] = F\n",
    "    end\n",
    "\n",
    "    sort!(res)\n",
    "end"
   ]
  },
  {
   "cell_type": "markdown",
   "id": "4f9887fa",
   "metadata": {},
   "source": [
    "# Brute-force GPU"
   ]
  },
  {
   "cell_type": "code",
   "execution_count": 23,
   "id": "2410b95a",
   "metadata": {},
   "outputs": [
    {
     "name": "stdout",
     "output_type": "stream",
     "text": [
      "  454.303 μs (2464 allocations: 611.23 KiB)\n"
     ]
    },
    {
     "data": {
      "text/plain": [
       "10-element CuArray{Float32, 1, CUDA.Mem.DeviceBuffer}:\n",
       " -8916.608\n",
       " -8782.343\n",
       " -8689.737\n",
       " -8645.568\n",
       " -8621.012\n",
       " -8572.3125\n",
       " -8535.485\n",
       " -8395.559\n",
       " -8387.483\n",
       " -8362.833"
      ]
     },
     "execution_count": 23,
     "metadata": {},
     "output_type": "execute_result"
    }
   ],
   "source": [
    "function _energy(state_code, graph)\n",
    "    F = 0\n",
    "    N = size(graph)[1]\n",
    "    \n",
    "    sc1 = state_code    \n",
    "    for i in 1:N\n",
    "        qi = sc1%2\n",
    "        sc1 = div(sc1,2)\n",
    "        \n",
    "        F -= graph[i,i]*qi  \n",
    "        \n",
    "        sc2 = state_code\n",
    "        for j in 1:N\n",
    "            qj = sc2%2\n",
    "            sc2 = div(sc2,2)\n",
    "                       \n",
    "            low, high = i < j ? (i, j) : (j, i) \n",
    "            F -= graph[low,high]*qi*qj\n",
    "        end\n",
    "    end\n",
    "    return F\n",
    "end\n",
    "\n",
    "function kernel(qubo, energies)\n",
    "    threadsPerBlock = blockDim().x\n",
    "\n",
    "    N = size(qubo)[1]\n",
    "\n",
    "    i = blockIdx().x\n",
    "    j = threadIdx().x\n",
    "\n",
    "    state_code = (i - 1) * blockDim().x + j \n",
    "\n",
    "    F = _energy(state_code, qubo) |> Float32\n",
    "    \n",
    "    energies[state_code] = F\n",
    "          \n",
    "    return\n",
    "end\n",
    "\n",
    "function main()\n",
    "    k = 8\n",
    "    \n",
    "    energies = CUDA.zeros(2^N) #CUDA.zeros(2*2^k)\n",
    "    \n",
    "    threadsPerBlock::Int64 = 2^k\n",
    "    blocksPerGrid::Int64 = 2^(N-k)\n",
    "\n",
    "    @cuda blocks=(blocksPerGrid) threads=(threadsPerBlock) kernel(cu_qubo, energies)\n",
    "   \n",
    "    states = sortperm(energies)\n",
    "    energies[states[1:10]]\n",
    "    \n",
    "#     sort!(energies)\n",
    "    \n",
    "end\n",
    "\n",
    "@btime begin\n",
    "    main()\n",
    "end\n",
    "\n",
    "# main()"
   ]
  },
  {
   "cell_type": "code",
   "execution_count": 31,
   "id": "0e7907b1",
   "metadata": {},
   "outputs": [
    {
     "name": "stdout",
     "output_type": "stream",
     "text": [
      "  384.412 μs (1096 allocations: 77.45 KiB)\n"
     ]
    },
    {
     "data": {
      "text/plain": [
       "4096-element CuArray{Float32, 1, CUDA.Mem.DeviceBuffer}:\n",
       " -8916.608\n",
       " -8782.343\n",
       " -8689.737\n",
       " -8645.568\n",
       " -8621.012\n",
       " -8572.3125\n",
       " -8535.485\n",
       " -8395.559\n",
       " -8362.833\n",
       " -8322.505\n",
       " -8249.573\n",
       " -8243.767\n",
       " -8241.081\n",
       "     ⋮\n",
       " -1992.5063\n",
       " -1985.6239\n",
       " -1975.7223\n",
       " -1921.5736\n",
       " -1896.0372\n",
       " -1875.0636\n",
       " -1812.8264\n",
       " -1791.4513\n",
       " -1678.2026\n",
       " -1610.064\n",
       " -1584.5175\n",
       " -1520.9233"
      ]
     },
     "execution_count": 31,
     "metadata": {},
     "output_type": "execute_result"
    }
   ],
   "source": [
    "function _energy(state_code, graph)\n",
    "    F = 0\n",
    "    N = size(graph)[1]\n",
    "    \n",
    "    sc1 = state_code    \n",
    "    for i in 1:N\n",
    "        qi = sc1%2\n",
    "        sc1 = div(sc1,2)\n",
    "        \n",
    "        F -= graph[i,i]*qi  \n",
    "        \n",
    "        sc2 = state_code\n",
    "        for j in 1:N\n",
    "            qj = sc2%2\n",
    "            sc2 = div(sc2,2)\n",
    "                       \n",
    "            low, high = i < j ? (i, j) : (j, i) \n",
    "            F -= graph[low,high]*qi*qj\n",
    "        end\n",
    "    end\n",
    "    return F\n",
    "end\n",
    "\n",
    "function kernel2(qubo, energies, part_lst, part_st)\n",
    "    threadsPerBlock = blockDim().x\n",
    "\n",
    "    N = size(qubo)[1]\n",
    "\n",
    "    i = blockIdx().x\n",
    "    j = threadIdx().x\n",
    "\n",
    "    state_code = (i - 1) * blockDim().x + j \n",
    "\n",
    "    F = _energy(state_code, qubo) |> Float32\n",
    "    \n",
    "    energies[state_code] = F\n",
    "    \n",
    "    sync_threads()\n",
    "    \n",
    "    if j == 1\n",
    "        k = (i - 1) * blockDim().x + 1\n",
    "        n = blockDim().x\n",
    "        nr_of_block = gridDim().x\n",
    "        \n",
    "#         for ii in k:k+n-1\n",
    "#             value = low_en[ii+1]\n",
    "#             jj = ii\n",
    "#             while jj > 0 && low_en[jj] > value\n",
    "#                 low_en[jj+1] = low_en[jj]\n",
    "#                 jj -= 1\n",
    "#             end\n",
    "#             low_en[i] = value\n",
    "#         end \n",
    "        \n",
    "        value=energies[k]\n",
    "        st=k\n",
    "        for ii in k:k+n-1\n",
    "            if value > energies[ii]\n",
    "                value = energies[ii]\n",
    "                st=k\n",
    "            end\n",
    "        end \n",
    "               \n",
    "        sync_threads()\n",
    "        \n",
    "        part_lst[i] = value # low_en[k]\n",
    "        part_st[i] = st\n",
    "    end\n",
    "    \n",
    "    return\n",
    "end\n",
    "\n",
    "function main()\n",
    "    k = 4\n",
    "    \n",
    "    energies = CUDA.zeros(2^N) #CUDA.zeros(2*2^k)\n",
    "    \n",
    "    part_st = CUDA.zeros(2^(N-k))\n",
    "    part_lst = CUDA.zeros(2^(N-k))\n",
    "    \n",
    "    threadsPerBlock::Int64 = 2^k\n",
    "    blocksPerGrid::Int64 = 2^(N-k)\n",
    "\n",
    "    @cuda blocks=(blocksPerGrid) threads=(threadsPerBlock) kernel2(cu_qubo, energies, part_lst, part_st)\n",
    "   \n",
    "    states = sortperm(part_lst)\n",
    "    part_lst[states]\n",
    "    \n",
    "#     sort!(part_lst)\n",
    "    \n",
    "end\n",
    "\n",
    "@btime begin\n",
    "    main()\n",
    "end\n",
    "\n",
    "# main()"
   ]
  },
  {
   "cell_type": "code",
   "execution_count": 30,
   "id": "3e535f94",
   "metadata": {},
   "outputs": [
    {
     "data": {
      "text/plain": [
       "10-element CuArray{Float32, 1, CUDA.Mem.DeviceBuffer}:\n",
       " -8782.343\n",
       " -8322.505\n",
       " -7632.4463\n",
       " -7560.2656\n",
       " -7420.807\n",
       " -7357.5923\n",
       " -7355.502\n",
       " -7033.1484\n",
       " -6190.993\n",
       " -5633.304"
      ]
     },
     "execution_count": 30,
     "metadata": {},
     "output_type": "execute_result"
    }
   ],
   "source": [
    "function _energy(state_code, graph)\n",
    "    F = 0\n",
    "    N = size(graph)[1]\n",
    "    \n",
    "    sc1 = state_code    \n",
    "    for i in 1:N\n",
    "        qi = sc1%2\n",
    "        sc1 = div(sc1,2)\n",
    "        \n",
    "        F -= graph[i,i]*qi  \n",
    "        \n",
    "        sc2 = state_code\n",
    "        for j in 1:N\n",
    "            qj = sc2%2\n",
    "            sc2 = div(sc2,2)\n",
    "                       \n",
    "            low, high = i < j ? (i, j) : (j, i) \n",
    "            F -= graph[low,high]*qi*qj\n",
    "        end\n",
    "    end\n",
    "    return F\n",
    "end\n",
    "\n",
    "function kernel2(qubo, energies, part_lst, part_st)\n",
    "    threadsPerBlock = blockDim().x\n",
    "\n",
    "    N = size(qubo)[1]\n",
    "    K = size(part_lst)[1]\n",
    "    \n",
    "    block_per_pe = Int(ceil(gridDim().x/K))\n",
    "    \n",
    "    i = blockIdx().x\n",
    "    j = threadIdx().x\n",
    "\n",
    "    state_code = (i - 1) * blockDim().x + j \n",
    "\n",
    "    F = _energy(state_code, qubo) |> Float32\n",
    "    \n",
    "    energies[state_code] = F\n",
    "    \n",
    "    sync_threads()\n",
    "    \n",
    "    if j == 1\n",
    "        k = (i - 1) * blockDim().x + 1\n",
    "        n = blockDim().x\n",
    "    \n",
    "        value=energies[k]\n",
    "        st=k\n",
    "        for ii in k:k+n-1\n",
    "            if value > energies[ii]\n",
    "                value = energies[ii]\n",
    "                st=k\n",
    "            end\n",
    "        end \n",
    "\n",
    "        pi = Int(ceil(i/block_per_pe))\n",
    "        \n",
    "        threadfence()\n",
    "        if value < part_lst[pi]\n",
    "            @inbounds part_lst[pi] = value # low_en[k]\n",
    "            @inbounds part_st[pi] = st\n",
    "        end\n",
    "\n",
    "    end \n",
    "       \n",
    "    return\n",
    "end\n",
    "\n",
    "function main()\n",
    "    k = 4\n",
    "    \n",
    "    energies = CUDA.zeros(2^N) #CUDA.zeros(2*2^k)\n",
    "    \n",
    "    part_st = CUDA.zeros(10)\n",
    "    part_lst = CUDA.zeros(10)\n",
    "    \n",
    "    threadsPerBlock::Int64 = 2^k\n",
    "    blocksPerGrid::Int64 = 2^(N-k)\n",
    "\n",
    "    @cuda blocks=(blocksPerGrid) threads=(threadsPerBlock) kernel2(cu_qubo, energies, part_lst, part_st)\n",
    "   \n",
    "#     states = sortperm(energies)\n",
    "#     energies[states]\n",
    "    \n",
    "#     sort!(part_lst)\n",
    " \n",
    "    states = sortperm(part_lst)\n",
    "    part_lst[states]\n",
    "\n",
    "    \n",
    "end\n",
    "\n",
    "# @btime begin\n",
    "#     main()\n",
    "# end\n",
    "\n",
    "main()"
   ]
  },
  {
   "cell_type": "code",
   "execution_count": 28,
   "id": "9f59da32",
   "metadata": {},
   "outputs": [
    {
     "data": {
      "text/plain": [
       "10-element CuArray{Float32, 1, CUDA.Mem.DeviceBuffer}:\n",
       " -8689.737\n",
       " -8689.737\n",
       " -8689.737\n",
       " -8689.737\n",
       " -8689.737\n",
       " -8689.737\n",
       " -8689.737\n",
       " -8689.737\n",
       " -8689.737\n",
       " -8689.737"
      ]
     },
     "execution_count": 28,
     "metadata": {},
     "output_type": "execute_result"
    }
   ],
   "source": [
    "function _energy(state_code, graph)\n",
    "    F = 0\n",
    "    N = size(graph)[1]\n",
    "    \n",
    "    sc1 = state_code    \n",
    "    for i in 1:N\n",
    "        qi = sc1%2\n",
    "        sc1 = div(sc1,2)\n",
    "        \n",
    "        F -= graph[i,i]*qi  \n",
    "        \n",
    "        sc2 = state_code\n",
    "        for j in 1:N\n",
    "            qj = sc2%2\n",
    "            sc2 = div(sc2,2)\n",
    "                       \n",
    "            low, high = i < j ? (i, j) : (j, i) \n",
    "            F -= graph[low,high]*qi*qj\n",
    "        end\n",
    "    end\n",
    "    return F\n",
    "end\n",
    "\n",
    "function kernel2(qubo, energies, part_lst, part_st)\n",
    "    threadsPerBlock = blockDim().x\n",
    "\n",
    "    N = size(qubo)[1]\n",
    "    K = size(part_lst)[1]\n",
    "    \n",
    "    block_per_pe = Int(ceil(gridDim().x/K))\n",
    "    \n",
    "    i = blockIdx().x\n",
    "    j = threadIdx().x\n",
    "\n",
    "    state_code = (i - 1) * blockDim().x + j \n",
    "\n",
    "    F = _energy(state_code, qubo) |> Float32\n",
    "    \n",
    "    energies[state_code] = F\n",
    "    \n",
    "    sync_threads() \n",
    "    threadfence_system()\n",
    "    \n",
    "    for ii in 1:K\n",
    "        if part_lst[ii] > F\n",
    "            for jj in ii+1:K\n",
    "                @inbounds part_lst[K+ii+1-jj]=part_lst[K+ii+1-jj-1]\n",
    "            end\n",
    "            @inbounds part_lst[ii] = F\n",
    "            @inbounds part_st[ii] = state_code\n",
    "        end\n",
    "    end \n",
    "    \n",
    "#     if j == 1\n",
    "#         k = (i - 1) * blockDim().x + 1\n",
    "#         n = blockDim().x\n",
    "\n",
    "#         value=energies[k]\n",
    "#         st=k\n",
    "#         for ii in k:k+n-1\n",
    "#             if value > energies[ii]\n",
    "#                 value = energies[ii]\n",
    "#                 st=k\n",
    "#             end\n",
    "#         end \n",
    "\n",
    "# #         for ii in 1:K\n",
    "# #             if part_lst[ii] > value\n",
    "# #                 for jj in ii+1:K\n",
    "# #                     @inbounds part_lst[K+ii+1-jj]=part_lst[K+ii+1-jj-1]\n",
    "# #                 end\n",
    "# #                 @inbounds part_lst[ii] = value\n",
    "# #                 @inbounds part_st[ii] = st\n",
    "# #             end\n",
    "# #         end \n",
    "        \n",
    "#         pi = Int(ceil(i/block_per_pe))\n",
    "\n",
    "#         threadfence()\n",
    "#         if value < part_lst[pi]\n",
    "#             @inbounds part_lst[pi] = value # low_en[k]\n",
    "#             @inbounds part_st[pi] = st\n",
    "#         end\n",
    "        \n",
    "#     end  \n",
    "       \n",
    "    return\n",
    "end\n",
    "\n",
    "# function arginsertsort!(A::Array{T}) where T <: Number\n",
    "#     ids = collect(1:length(A))\n",
    "#     B = copy(A)\n",
    "    \n",
    "#     for i in 1:length(B)-1\n",
    "#         value = B[i+1]\n",
    "#         ival = ids[i+1]\n",
    "#         j = i\n",
    "#         while j > 0 && B[j] > value\n",
    "#             B[j+1] = B[j]\n",
    "#             ids[j+1] = ids[j]\n",
    "#             j -= 1\n",
    "#         end\n",
    "#         B[j+1] = value\n",
    "#         ids[j+1] = ival\n",
    "#     end \n",
    "#     return ids\n",
    "# end\n",
    "\n",
    "function main()\n",
    "    k = 4\n",
    "    \n",
    "    energies = CUDA.zeros(2^N) #CUDA.zeros(2*2^k)\n",
    "    \n",
    "    part_st = CUDA.zeros(10)\n",
    "    part_lst = CUDA.zeros(10)\n",
    "    \n",
    "    \n",
    "    threadsPerBlock::Int64 = 2^k\n",
    "    blocksPerGrid::Int64 = 2^(N-k)\n",
    "\n",
    "    @cuda blocks=(blocksPerGrid) threads=(threadsPerBlock) kernel2(cu_qubo, energies, part_lst, part_st)\n",
    "   \n",
    "#     states = sortperm(energies)\n",
    "#     energies[states]\n",
    "    \n",
    "#     sort!(part_lst)\n",
    " \n",
    "    states = sortperm(part_lst)\n",
    "    \n",
    "    part_lst[states]\n",
    "\n",
    "    \n",
    "end\n",
    "\n",
    "# @btime begin\n",
    "\n",
    "#     main()\n",
    "# end\n",
    "\n",
    "main()"
   ]
  },
  {
   "cell_type": "code",
   "execution_count": 17,
   "id": "132c6465",
   "metadata": {},
   "outputs": [
    {
     "data": {
      "text/plain": [
       "4096"
      ]
     },
     "execution_count": 17,
     "metadata": {},
     "output_type": "execute_result"
    }
   ],
   "source": [
    "n = 10\n",
    "\n",
    "k = 4\n",
    "block_per_pe = Int(ceil(2^(N-k)/n))\n",
    "2^(N-k)"
   ]
  },
  {
   "cell_type": "code",
   "execution_count": 18,
   "id": "c5aa4788",
   "metadata": {},
   "outputs": [
    {
     "data": {
      "text/plain": [
       "4096"
      ]
     },
     "execution_count": 18,
     "metadata": {},
     "output_type": "execute_result"
    }
   ],
   "source": [
    "2^(N-k)"
   ]
  },
  {
   "cell_type": "code",
   "execution_count": 19,
   "id": "b3cbf1e7",
   "metadata": {},
   "outputs": [
    {
     "data": {
      "text/plain": [
       "4100"
      ]
     },
     "execution_count": 19,
     "metadata": {},
     "output_type": "execute_result"
    }
   ],
   "source": [
    "n * block_per_pe"
   ]
  },
  {
   "cell_type": "code",
   "execution_count": 20,
   "id": "1c2af139",
   "metadata": {},
   "outputs": [
    {
     "data": {
      "text/plain": [
       "1.3121951219512196"
      ]
     },
     "execution_count": 20,
     "metadata": {},
     "output_type": "execute_result"
    }
   ],
   "source": [
    "538/block_per_pe"
   ]
  },
  {
   "cell_type": "code",
   "execution_count": 21,
   "id": "00feae8b",
   "metadata": {},
   "outputs": [
    {
     "data": {
      "text/plain": [
       "2"
      ]
     },
     "execution_count": 21,
     "metadata": {},
     "output_type": "execute_result"
    }
   ],
   "source": [
    "Int(ceil(538/block_per_pe))"
   ]
  },
  {
   "cell_type": "code",
   "execution_count": 599,
   "id": "6ff43861",
   "metadata": {},
   "outputs": [
    {
     "data": {
      "text/plain": [
       "4-element view(::Vector{Int64}, 1:4) with eltype Int64:\n",
       " -53\n",
       "  -5\n",
       "   1\n",
       "   2"
      ]
     },
     "execution_count": 599,
     "metadata": {},
     "output_type": "execute_result"
    }
   ],
   "source": [
    "partialsort!([2,-5,3,1,5,21,-53], 1:4)"
   ]
  },
  {
   "cell_type": "code",
   "execution_count": 591,
   "id": "d714e5bb",
   "metadata": {},
   "outputs": [
    {
     "ename": "LoadError",
     "evalue": "MethodError: no method matching sortperm!(::Vector{Int64})\n\u001b[0mClosest candidates are:\n\u001b[0m  sortperm!(::AbstractVector{var\"#s829\"} where var\"#s829\"<:Integer, \u001b[91m::AbstractVector{T} where T\u001b[39m; alg, lt, by, rev, order, initialized) at sort.jl:949\n\u001b[0m  sortperm!(\u001b[91m::AnyCuArray{T, N} where N\u001b[39m, \u001b[91m::AnyCuArray{T, N} where {T, N}\u001b[39m; initialized, kwargs...) where T at /home/dk/.julia/packages/CUDA/bki2w/src/sorting.jl:965",
     "output_type": "error",
     "traceback": [
      "MethodError: no method matching sortperm!(::Vector{Int64})\n\u001b[0mClosest candidates are:\n\u001b[0m  sortperm!(::AbstractVector{var\"#s829\"} where var\"#s829\"<:Integer, \u001b[91m::AbstractVector{T} where T\u001b[39m; alg, lt, by, rev, order, initialized) at sort.jl:949\n\u001b[0m  sortperm!(\u001b[91m::AnyCuArray{T, N} where N\u001b[39m, \u001b[91m::AnyCuArray{T, N} where {T, N}\u001b[39m; initialized, kwargs...) where T at /home/dk/.julia/packages/CUDA/bki2w/src/sorting.jl:965",
      "",
      "Stacktrace:",
      " [1] top-level scope",
      "   @ In[591]:1",
      " [2] eval",
      "   @ ./boot.jl:360 [inlined]",
      " [3] include_string(mapexpr::typeof(REPL.softscope), mod::Module, code::String, filename::String)",
      "   @ Base ./loading.jl:1116"
     ]
    }
   ],
   "source": [
    "sortperm!([2,-5,3,1,5,21,-53])"
   ]
  },
  {
   "cell_type": "code",
   "execution_count": null,
   "id": "f24583bd",
   "metadata": {},
   "outputs": [],
   "source": [
    "gra"
   ]
  }
 ],
 "metadata": {
  "hide_input": false,
  "kernelspec": {
   "display_name": "Julia 1.6.2",
   "language": "julia",
   "name": "julia-1.6.2"
  },
  "language_info": {
   "file_extension": ".jl",
   "mimetype": "application/julia",
   "name": "julia",
   "version": "1.6.2"
  },
  "toc": {
   "base_numbering": 1,
   "nav_menu": {},
   "number_sections": true,
   "sideBar": true,
   "skip_h1_title": false,
   "title_cell": "Table of Contents",
   "title_sidebar": "Contents",
   "toc_cell": false,
   "toc_position": {
    "height": "calc(100% - 180px)",
    "left": "10px",
    "top": "150px",
    "width": "349.6px"
   },
   "toc_section_display": true,
   "toc_window_display": true
  },
  "varInspector": {
   "cols": {
    "lenName": 16,
    "lenType": 16,
    "lenVar": 40
   },
   "kernels_config": {
    "python": {
     "delete_cmd_postfix": "",
     "delete_cmd_prefix": "del ",
     "library": "var_list.py",
     "varRefreshCmd": "print(var_dic_list())"
    },
    "r": {
     "delete_cmd_postfix": ") ",
     "delete_cmd_prefix": "rm(",
     "library": "var_list.r",
     "varRefreshCmd": "cat(var_dic_list()) "
    }
   },
   "types_to_exclude": [
    "module",
    "function",
    "builtin_function_or_method",
    "instance",
    "_Feature"
   ],
   "window_display": false
  }
 },
 "nbformat": 4,
 "nbformat_minor": 5
}
