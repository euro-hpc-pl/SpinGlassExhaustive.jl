{
 "cells": [
  {
   "cell_type": "code",
   "execution_count": null,
   "id": "specialized-conversation",
   "metadata": {},
   "outputs": [],
   "source": [
    "using Pkg"
   ]
  },
  {
   "cell_type": "code",
   "execution_count": 2,
   "id": "bulgarian-imagination",
   "metadata": {},
   "outputs": [
    {
     "name": "stderr",
     "output_type": "stream",
     "text": [
      "\u001b[32m\u001b[1m  Activating\u001b[22m\u001b[39m environment at `~/Workspace/Repo/Code/SpinGlassExhaustive.jl/Project.toml`\n"
     ]
    }
   ],
   "source": [
    "Pkg.activate(\"..\")"
   ]
  },
  {
   "cell_type": "code",
   "execution_count": 9,
   "id": "lyric-climate",
   "metadata": {},
   "outputs": [
    {
     "name": "stderr",
     "output_type": "stream",
     "text": [
      "\u001b[32m\u001b[1m   Resolving\u001b[22m\u001b[39m package versions...\n",
      "\u001b[32m\u001b[1m    Updating\u001b[22m\u001b[39m `~/Workspace/Repo/Code/SpinGlassExhaustive.jl/Project.toml`\n",
      " \u001b[90m [31c24e10] \u001b[39m\u001b[92m+ Distributions v0.24.18\u001b[39m\n",
      "\u001b[32m\u001b[1m  No Changes\u001b[22m\u001b[39m to `~/Workspace/Repo/Code/SpinGlassExhaustive.jl/Manifest.toml`\n"
     ]
    }
   ],
   "source": [
    "# Pkg.add(\"BinomialGPU\")\n",
    "Pkg.add(\"Distributions\")"
   ]
  },
  {
   "cell_type": "code",
   "execution_count": 3,
   "id": "editorial-climb",
   "metadata": {},
   "outputs": [
    {
     "name": "stderr",
     "output_type": "stream",
     "text": [
      "WARNING: using Makie.AbstractPlotting in module Main conflicts with an existing identifier.\n"
     ]
    }
   ],
   "source": [
    "using BenchmarkTools\n",
    "using CUDA\n",
    "using SortingAlgorithms\n",
    "using Flux\n",
    "using Test\n",
    "using BinomialGPU\n",
    "using Distributions\n",
    "using AbstractPlotting\n",
    "using Makie\n",
    "using LinearAlgebra"
   ]
  },
  {
   "cell_type": "markdown",
   "id": "opened-therapy",
   "metadata": {},
   "source": [
    "# GPU Binomial disitribution"
   ]
  },
  {
   "cell_type": "code",
   "execution_count": 26,
   "id": "chinese-poverty",
   "metadata": {},
   "outputs": [
    {
     "data": {
      "text/plain": [
       "BenchmarkTools.Trial: \n",
       "  memory estimate:  3.27 KiB\n",
       "  allocs estimate:  99\n",
       "  --------------\n",
       "  minimum time:     2.771 ms (0.00% GC)\n",
       "  median time:      5.361 ms (0.00% GC)\n",
       "  mean time:        238.118 ms (0.31% GC)\n",
       "  maximum time:     497.405 ms (0.30% GC)\n",
       "  --------------\n",
       "  samples:          23\n",
       "  evals/sample:     1"
      ]
     },
     "execution_count": 26,
     "metadata": {},
     "output_type": "execute_result"
    }
   ],
   "source": [
    "A = CUDA.zeros(Int, 2^28)\n",
    "@benchmark rand_binomial!(A, count = 10, prob = 0.5)"
   ]
  },
  {
   "cell_type": "code",
   "execution_count": 21,
   "id": "color-share",
   "metadata": {},
   "outputs": [
    {
     "data": {
      "text/plain": [
       "BenchmarkTools.Trial: \n",
       "  memory estimate:  2.00 GiB\n",
       "  allocs estimate:  3\n",
       "  --------------\n",
       "  minimum time:     20.675 s (0.00% GC)\n",
       "  median time:      20.675 s (0.00% GC)\n",
       "  mean time:        20.675 s (0.00% GC)\n",
       "  maximum time:     20.675 s (0.00% GC)\n",
       "  --------------\n",
       "  samples:          1\n",
       "  evals/sample:     1"
      ]
     },
     "execution_count": 21,
     "metadata": {},
     "output_type": "execute_result"
    }
   ],
   "source": [
    "A = Binomial(10, 0.5)\n",
    "@benchmark rand(A, 2^28)"
   ]
  },
  {
   "cell_type": "code",
   "execution_count": 25,
   "id": "rolled-conclusion",
   "metadata": {},
   "outputs": [
    {
     "data": {
      "text/plain": [
       "BenchmarkTools.Trial: \n",
       "  memory estimate:  2.00 GiB\n",
       "  allocs estimate:  2\n",
       "  --------------\n",
       "  minimum time:     544.070 ms (0.00% GC)\n",
       "  median time:      628.633 ms (9.14% GC)\n",
       "  mean time:        653.855 ms (14.24% GC)\n",
       "  maximum time:     838.481 ms (31.57% GC)\n",
       "  --------------\n",
       "  samples:          8\n",
       "  evals/sample:     1"
      ]
     },
     "execution_count": 25,
     "metadata": {},
     "output_type": "execute_result"
    }
   ],
   "source": [
    "@benchmark rand(2^28)"
   ]
  },
  {
   "cell_type": "code",
   "execution_count": 24,
   "id": "engaged-breach",
   "metadata": {},
   "outputs": [
    {
     "data": {
      "text/plain": [
       "BenchmarkTools.Trial: \n",
       "  memory estimate:  192 bytes\n",
       "  allocs estimate:  7\n",
       "  --------------\n",
       "  minimum time:     683.966 μs (0.00% GC)\n",
       "  median time:      15.237 ms (0.00% GC)\n",
       "  mean time:        21.373 ms (0.95% GC)\n",
       "  maximum time:     83.311 ms (3.89% GC)\n",
       "  --------------\n",
       "  samples:          234\n",
       "  evals/sample:     1"
      ]
     },
     "execution_count": 24,
     "metadata": {},
     "output_type": "execute_result"
    }
   ],
   "source": [
    "@benchmark CUDA.rand(2^28)"
   ]
  },
  {
   "cell_type": "code",
   "execution_count": 27,
   "id": "dying-disposition",
   "metadata": {},
   "outputs": [
    {
     "data": {
      "text/plain": [
       "31.095238095238095"
      ]
     },
     "execution_count": 27,
     "metadata": {},
     "output_type": "execute_result"
    }
   ],
   "source": [
    "653/21"
   ]
  },
  {
   "cell_type": "markdown",
   "id": "conditional-guitar",
   "metadata": {},
   "source": [
    "# Collatz Problem"
   ]
  },
  {
   "cell_type": "code",
   "execution_count": 35,
   "id": "statistical-harris",
   "metadata": {},
   "outputs": [
    {
     "data": {
      "text/plain": [
       "rank_by_collatz (generic function with 1 method)"
      ]
     },
     "execution_count": 35,
     "metadata": {},
     "output_type": "execute_result"
    }
   ],
   "source": [
    "# we need to define zero on tuples\n",
    "import Base.zero\n",
    "function zero(::Type{Tuple{X, Y}}) where {X, Y}\n",
    "    (zero(X), zero(Y))\n",
    "end\n",
    "\n",
    "n = Int(1e6)\n",
    "a = collect(1:n)\n",
    "\n",
    "# this can run on cpu or gpu!\n",
    "function collatz_length(x)\n",
    "    out = 0\n",
    "    while x > 1\n",
    "      if x % 2 == 0\n",
    "          x = x ÷ 2\n",
    "      else\n",
    "          x = 3 * x + 1\n",
    "      end\n",
    "      out += 1\n",
    "    end\n",
    "    out\n",
    "end\n",
    "\n",
    "# compute the collatz lengths, sort by them, extract just the starting numbers\n",
    "# we sort tuples like (key, value) so that key is explicity computed only once\n",
    "function rank_by_collatz(A)\n",
    "    B = map(x -> (collatz_length(x), x), A)\n",
    "    return map(x->x[2], sort!(B, rev=true))\n",
    "end\n"
   ]
  },
  {
   "cell_type": "code",
   "execution_count": 36,
   "id": "sapphire-protein",
   "metadata": {},
   "outputs": [
    {
     "data": {
      "text/plain": [
       "BenchmarkTools.Trial: \n",
       "  memory estimate:  30.52 MiB\n",
       "  allocs estimate:  6\n",
       "  --------------\n",
       "  minimum time:     243.223 ms (0.00% GC)\n",
       "  median time:      245.986 ms (0.00% GC)\n",
       "  mean time:        248.211 ms (0.00% GC)\n",
       "  maximum time:     269.930 ms (0.00% GC)\n",
       "  --------------\n",
       "  samples:          10\n",
       "  evals/sample:     1"
      ]
     },
     "execution_count": 36,
     "metadata": {},
     "output_type": "execute_result"
    }
   ],
   "source": [
    "# CPU: \n",
    "@benchmark begin\n",
    "    result = rank_by_collatz(a)\n",
    "end samples=10 evals=1"
   ]
  },
  {
   "cell_type": "code",
   "execution_count": 37,
   "id": "revolutionary-minutes",
   "metadata": {},
   "outputs": [
    {
     "data": {
      "text/plain": [
       "BenchmarkTools.Trial: \n",
       "  memory estimate:  7.63 MiB\n",
       "  allocs estimate:  99\n",
       "  --------------\n",
       "  minimum time:     62.148 ms (0.00% GC)\n",
       "  median time:      62.536 ms (0.00% GC)\n",
       "  mean time:        69.392 ms (0.00% GC)\n",
       "  maximum time:     89.197 ms (0.00% GC)\n",
       "  --------------\n",
       "  samples:          10\n",
       "  evals/sample:     1"
      ]
     },
     "execution_count": 37,
     "metadata": {},
     "output_type": "execute_result"
    }
   ],
   "source": [
    "# GPU: copy a to GPU, do equivalent work in parallel, copy result back from GPU\n",
    "@benchmark begin\n",
    "    c = CuArray(a)\n",
    "    gpu_result = rank_by_collatz(c)\n",
    "    result = Array(gpu_result)\n",
    "end samples=10 evals=1"
   ]
  },
  {
   "cell_type": "code",
   "execution_count": null,
   "id": "final-ridge",
   "metadata": {},
   "outputs": [],
   "source": []
  },
  {
   "cell_type": "markdown",
   "id": "intellectual-duncan",
   "metadata": {},
   "source": [
    "# Partial Sort"
   ]
  },
  {
   "cell_type": "code",
   "execution_count": 4,
   "id": "vietnamese-mercury",
   "metadata": {},
   "outputs": [],
   "source": [
    "arr = rand(Float32, 2^12)\n",
    "cuarr = CuArray(arr);"
   ]
  },
  {
   "cell_type": "code",
   "execution_count": 29,
   "id": "meaningful-spiritual",
   "metadata": {},
   "outputs": [
    {
     "data": {
      "text/plain": [
       "BenchmarkTools.Trial: \n",
       "  memory estimate:  208 bytes\n",
       "  allocs estimate:  5\n",
       "  --------------\n",
       "  minimum time:     15.074 μs (0.00% GC)\n",
       "  median time:      15.188 μs (0.00% GC)\n",
       "  mean time:        15.304 μs (0.00% GC)\n",
       "  maximum time:     27.958 μs (0.00% GC)\n",
       "  --------------\n",
       "  samples:          10000\n",
       "  evals/sample:     1"
      ]
     },
     "execution_count": 29,
     "metadata": {},
     "output_type": "execute_result"
    }
   ],
   "source": [
    "@benchmark partialsort!(arr, 1:10, rev=true)"
   ]
  },
  {
   "cell_type": "code",
   "execution_count": 5,
   "id": "interstate-inclusion",
   "metadata": {},
   "outputs": [
    {
     "name": "stderr",
     "output_type": "stream",
     "text": [
      "┌ Warning: Performing scalar operations on GPU arrays: This is very slow, consider disallowing these operations with `allowscalar(false)`\n",
      "└ @ GPUArrays /home/dk/.julia/packages/GPUArrays/Z5nPF/src/host/indexing.jl:64\n"
     ]
    },
    {
     "data": {
      "text/plain": [
       "BenchmarkTools.Trial: \n",
       "  memory estimate:  777.56 KiB\n",
       "  allocs estimate:  8297\n",
       "  --------------\n",
       "  minimum time:     42.614 ms (0.00% GC)\n",
       "  median time:      44.128 ms (0.00% GC)\n",
       "  mean time:        44.731 ms (0.10% GC)\n",
       "  maximum time:     50.668 ms (0.00% GC)\n",
       "  --------------\n",
       "  samples:          112\n",
       "  evals/sample:     1"
      ]
     },
     "execution_count": 5,
     "metadata": {},
     "output_type": "execute_result"
    }
   ],
   "source": [
    "# CUDA.allowscalar(false)\n",
    "# @benchmark partialsort!(cuarr, 1:10, rev=true)\n",
    "@benchmark CUDA.@sync(partialsort!(cuarr, 1:10))"
   ]
  },
  {
   "cell_type": "code",
   "execution_count": 48,
   "id": "pending-sector",
   "metadata": {},
   "outputs": [],
   "source": [
    "# sort!(a)"
   ]
  },
  {
   "cell_type": "code",
   "execution_count": null,
   "id": "thick-theorem",
   "metadata": {},
   "outputs": [],
   "source": [
    "arr = rand(Float32, n)\n",
    "cushared = cu(shared)\n",
    "\n",
    "@benchmark CUDA.@sync(partialsort!(cushared, 10))"
   ]
  },
  {
   "cell_type": "code",
   "execution_count": 65,
   "id": "literary-speaking",
   "metadata": {},
   "outputs": [
    {
     "data": {
      "text/plain": [
       "FigureAxisPlot()"
      ]
     },
     "execution_count": 65,
     "metadata": {},
     "output_type": "execute_result"
    }
   ],
   "source": [
    "AbstractPlotting.inline!(true)\n",
    "\n",
    "a = rand(Float32, 40000)\n",
    "c = CuArray(a)\n",
    "partialsort!(c, 1:1000)\n",
    "lines(c)"
   ]
  },
  {
   "cell_type": "code",
   "execution_count": 62,
   "id": "mighty-gardening",
   "metadata": {},
   "outputs": [],
   "source": []
  },
  {
   "cell_type": "code",
   "execution_count": null,
   "id": "satisfactory-correction",
   "metadata": {},
   "outputs": [],
   "source": [
    "function quicksort_kernel(A, lo, hi)\n",
    "    # blockDim().x is the size of the thread block\n",
    "    # threadIdx().x returns the id of the thread that calls it\n",
    "    swap = @cuDynamicSharedMem(T, blockDim().x)\n",
    "    stride = L <= blockDim().x ? Int32(1) : Int32(L ÷ blockDim().x)\n",
    "    brick_sort(A, lo, hi, swap, stride)\n",
    "    if hi - lo <= blockDim().x\n",
    "        return\n",
    "    end\n",
    "    pivot = A[lo + stride * blockDim().x ÷ 2]\n",
    "    # TODO: partition\n",
    "    # TODO: launch left/right quicksort_kernel\n",
    "end\n",
    "\n",
    "\n",
    "arr = rand(Float32, n)\n",
    "cuarr = cu(arr)\n",
    "\n",
    "@benchmark quicksort_kernel(cuarr, 0, length(cuarr))"
   ]
  },
  {
   "cell_type": "markdown",
   "id": "requested-cheese",
   "metadata": {},
   "source": [
    "# Eigenvalues"
   ]
  },
  {
   "cell_type": "code",
   "execution_count": 9,
   "id": "african-increase",
   "metadata": {},
   "outputs": [],
   "source": [
    "A_full = Symmetric(rand(3000, 3000));"
   ]
  },
  {
   "cell_type": "code",
   "execution_count": 11,
   "id": "periodic-wallace",
   "metadata": {},
   "outputs": [
    {
     "data": {
      "text/plain": [
       "BenchmarkTools.Trial: \n",
       "  memory estimate:  207.07 MiB\n",
       "  allocs estimate:  17\n",
       "  --------------\n",
       "  minimum time:     3.866 s (0.27% GC)\n",
       "  median time:      3.884 s (0.15% GC)\n",
       "  mean time:        3.884 s (0.15% GC)\n",
       "  maximum time:     3.902 s (0.03% GC)\n",
       "  --------------\n",
       "  samples:          2\n",
       "  evals/sample:     1"
      ]
     },
     "execution_count": 11,
     "metadata": {},
     "output_type": "execute_result"
    }
   ],
   "source": [
    "@benchmark eigen(A_full)"
   ]
  },
  {
   "cell_type": "code",
   "execution_count": 13,
   "id": "loved-carbon",
   "metadata": {},
   "outputs": [
    {
     "data": {
      "text/plain": [
       "BenchmarkTools.Trial: \n",
       "  memory estimate:  1.09 KiB\n",
       "  allocs estimate:  28\n",
       "  --------------\n",
       "  minimum time:     721.569 ms (0.00% GC)\n",
       "  median time:      724.177 ms (0.00% GC)\n",
       "  mean time:        723.902 ms (0.00% GC)\n",
       "  maximum time:     725.986 ms (0.00% GC)\n",
       "  --------------\n",
       "  samples:          7\n",
       "  evals/sample:     1"
      ]
     },
     "execution_count": 13,
     "metadata": {},
     "output_type": "execute_result"
    }
   ],
   "source": [
    "A = Symmetric(rand(3000,3000));\n",
    "A_cuda = CuArray{Float64}(A);\n",
    "@benchmark CUDA.@sync CUDA.CUSOLVER.syevd!('V','U', A_cuda)"
   ]
  },
  {
   "cell_type": "code",
   "execution_count": 18,
   "id": "civilian-given",
   "metadata": {},
   "outputs": [
    {
     "data": {
      "text/plain": [
       "2-element CuArray{Float32, 1}:\n",
       " 0.7219676\n",
       " 0.8175036"
      ]
     },
     "execution_count": 18,
     "metadata": {},
     "output_type": "execute_result"
    }
   ],
   "source": [
    "CUDA.rand(2)"
   ]
  },
  {
   "cell_type": "code",
   "execution_count": null,
   "id": "accredited-custody",
   "metadata": {},
   "outputs": [],
   "source": []
  }
 ],
 "metadata": {
  "hide_input": false,
  "kernelspec": {
   "display_name": "Julia 1.6.0",
   "language": "julia",
   "name": "julia-1.6"
  },
  "language_info": {
   "file_extension": ".jl",
   "mimetype": "application/julia",
   "name": "julia",
   "version": "1.6.0"
  },
  "toc": {
   "base_numbering": 1,
   "nav_menu": {},
   "number_sections": true,
   "sideBar": true,
   "skip_h1_title": false,
   "title_cell": "Table of Contents",
   "title_sidebar": "Contents",
   "toc_cell": false,
   "toc_position": {},
   "toc_section_display": true,
   "toc_window_display": true
  },
  "varInspector": {
   "cols": {
    "lenName": 16,
    "lenType": 16,
    "lenVar": 40
   },
   "kernels_config": {
    "python": {
     "delete_cmd_postfix": "",
     "delete_cmd_prefix": "del ",
     "library": "var_list.py",
     "varRefreshCmd": "print(var_dic_list())"
    },
    "r": {
     "delete_cmd_postfix": ") ",
     "delete_cmd_prefix": "rm(",
     "library": "var_list.r",
     "varRefreshCmd": "cat(var_dic_list()) "
    }
   },
   "types_to_exclude": [
    "module",
    "function",
    "builtin_function_or_method",
    "instance",
    "_Feature"
   ],
   "window_display": false
  }
 },
 "nbformat": 4,
 "nbformat_minor": 5
}
